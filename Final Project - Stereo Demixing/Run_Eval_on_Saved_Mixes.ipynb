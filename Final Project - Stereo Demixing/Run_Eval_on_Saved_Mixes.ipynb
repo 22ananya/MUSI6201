{
  "cells": [
    {
      "cell_type": "markdown",
      "metadata": {
        "id": "view-in-github",
        "colab_type": "text"
      },
      "source": [
        "<a href=\"https://colab.research.google.com/github/22ananya/MUSI6201/blob/main/Final%20Project%20-%20Stereo%20Demixing/Run_Eval_on_Saved_Mixes.ipynb\" target=\"_parent\"><img src=\"https://colab.research.google.com/assets/colab-badge.svg\" alt=\"Open In Colab\"/></a>"
      ]
    },
    {
      "cell_type": "markdown",
      "metadata": {
        "id": "RybrH0gAWbaJ"
      },
      "source": [
        "Import generally required packages - update as needed"
      ]
    },
    {
      "cell_type": "code",
      "execution_count": 1,
      "metadata": {
        "id": "tj5sXc5LWHpQ"
      },
      "outputs": [],
      "source": [
        "# Import dependencies\n",
        "import numpy as np\n",
        "import matplotlib.pyplot as plt\n",
        "import librosa\n",
        "import scipy.signal as sp\n",
        "import scipy.io.wavfile as wav"
      ]
    },
    {
      "cell_type": "markdown",
      "metadata": {
        "id": "SW5-Sa5pYuUN"
      },
      "source": [
        "Import/Install the prerequisite code for implementing the Cadenza challenge - includes baselines, other important files"
      ]
    },
    {
      "cell_type": "markdown",
      "source": [
        "!pip install pyclarity==0.4.0"
      ],
      "metadata": {
        "id": "rgBYSep2Y6UT"
      }
    },
    {
      "cell_type": "markdown",
      "metadata": {
        "id": "8vLsywcTb5FB"
      },
      "source": [
        "Import the dataset for the Cadenza challenge directly through the Google Drive link - Only needs to be done once! So now commented out\n"
      ]
    },
    {
      "cell_type": "code",
      "execution_count": 3,
      "metadata": {
        "colab": {
          "base_uri": "https://localhost:8080/"
        },
        "id": "VrtLL_IXb_kz",
        "outputId": "09052c43-0417-4ac7-d805-4218a398ce30"
      },
      "outputs": [
        {
          "output_type": "stream",
          "name": "stdout",
          "text": [
            "Mounted at /content/drive\n"
          ]
        }
      ],
      "source": [
        "from google.colab import drive\n",
        "drive.mount('/content/drive')"
      ]
    },
    {
      "cell_type": "markdown",
      "metadata": {
        "id": "1uOllNXFfDlh"
      },
      "source": [
        "Check current path"
      ]
    },
    {
      "cell_type": "code",
      "execution_count": 4,
      "metadata": {
        "colab": {
          "base_uri": "https://localhost:8080/"
        },
        "id": "xmCaU0XNfHu6",
        "outputId": "84738aab-139c-44bf-901b-7a4f427345c3"
      },
      "outputs": [
        {
          "output_type": "stream",
          "name": "stdout",
          "text": [
            "/content\n"
          ]
        }
      ],
      "source": [
        "import os\n",
        "print(os.getcwd())"
      ]
    },
    {
      "cell_type": "markdown",
      "metadata": {
        "id": "Ys7wmmN00ZpY"
      },
      "source": [
        "Change current path to Cadenza folder"
      ]
    },
    {
      "cell_type": "code",
      "execution_count": 5,
      "metadata": {
        "colab": {
          "base_uri": "https://localhost:8080/"
        },
        "id": "Us9_BSIi0gOM",
        "outputId": "bdec1acc-4e34-48f4-aae3-b9fffdd36b03"
      },
      "outputs": [
        {
          "output_type": "stream",
          "name": "stdout",
          "text": [
            "/content/drive/MyDrive/Cadenza_Challenge/cad_icassp_2024\n"
          ]
        }
      ],
      "source": [
        "os.chdir('/content/drive/MyDrive/Cadenza_Challenge/cad_icassp_2024')\n",
        "print(os.getcwd())"
      ]
    },
    {
      "cell_type": "markdown",
      "metadata": {
        "id": "qIV3qhN6x5si"
      },
      "source": [
        "#Process single audio file through the entire model step by step"
      ]
    },
    {
      "cell_type": "markdown",
      "source": [
        "Import all dependencies - same as enhance.py file"
      ],
      "metadata": {
        "id": "XzG_c2u33Rdt"
      }
    },
    {
      "cell_type": "code",
      "source": [
        "from __future__ import annotations\n",
        "\n",
        "import json\n",
        "import logging\n",
        "from pathlib import Path\n",
        "\n",
        "# pylint: disable=import-error\n",
        "import hydra\n",
        "import numpy as np\n",
        "import torch\n",
        "from numpy import ndarray\n",
        "from omegaconf import DictConfig\n",
        "from torchaudio.pipelines import HDEMUCS_HIGH_MUSDB\n",
        "\n",
        "from clarity.enhancer.compressor import Compressor\n",
        "from clarity.enhancer.nalr import NALR\n",
        "from clarity.evaluator.haaqi import compute_haaqi\n",
        "from clarity.utils.audiogram import Audiogram, Listener\n",
        "from clarity.utils.file_io import read_signal\n",
        "from clarity.utils.flac_encoder import FlacEncoder\n",
        "from clarity.utils.results_support import ResultsFile\n",
        "from clarity.utils.signal_processing import (\n",
        "    clip_signal,\n",
        "    denormalize_signals,\n",
        "    normalize_signal,\n",
        "    resample,\n",
        "    to_16bit,\n",
        "    compute_rms,\n",
        "    resample,\n",
        ")\n",
        "from clarity.utils.source_separation_support import get_device, separate_sources\n",
        "from recipes.cad_icassp_2024.baseline.evaluate import (\n",
        "    apply_gains,\n",
        "    apply_ha,\n",
        "    make_scene_listener_list,\n",
        "    remix_stems,\n",
        "    load_reference_stems,\n",
        ")\n",
        "\n",
        "logger = logging.getLogger(__name__)"
      ],
      "metadata": {
        "colab": {
          "base_uri": "https://localhost:8080/"
        },
        "id": "qXGfszFA3pOl",
        "outputId": "6f1afb50-7183-4274-b3c3-016d00161c9b"
      },
      "execution_count": 6,
      "outputs": [
        {
          "output_type": "stream",
          "name": "stderr",
          "text": [
            "/usr/local/lib/python3.10/dist-packages/recipes/cad_icassp_2024/baseline/evaluate.py:190: UserWarning: \n",
            "The version_base parameter is not specified.\n",
            "Please specify a compatability version level, or None.\n",
            "Will assume defaults for version 1.1\n",
            "  @hydra.main(config_path=\"\", config_name=\"config\")\n"
          ]
        }
      ]
    },
    {
      "cell_type": "markdown",
      "source": [
        "Import all the required functions defined in Enhance.py that do not need to be changed"
      ],
      "metadata": {
        "id": "9CAxXIQs3yPE"
      }
    },
    {
      "cell_type": "code",
      "source": [
        "from recipes.cad_icassp_2024.baseline.enhance import (\n",
        "    save_flac_signal,\n",
        "    decompose_signal,\n",
        "    process_remix_for_listener\n",
        ")"
      ],
      "metadata": {
        "id": "fO7Ke41s34zw",
        "colab": {
          "base_uri": "https://localhost:8080/"
        },
        "outputId": "3d955c15-9188-4716-ad7a-fa2d9296ce0f"
      },
      "execution_count": 7,
      "outputs": [
        {
          "output_type": "stream",
          "name": "stderr",
          "text": [
            "/usr/local/lib/python3.10/dist-packages/recipes/cad_icassp_2024/baseline/enhance.py:182: UserWarning: \n",
            "The version_base parameter is not specified.\n",
            "Please specify a compatability version level, or None.\n",
            "Will assume defaults for version 1.1\n",
            "  @hydra.main(config_path=\"\", config_name=\"config\")\n"
          ]
        }
      ]
    },
    {
      "cell_type": "markdown",
      "source": [
        "Import the correct config file (hardcoded location)"
      ],
      "metadata": {
        "id": "HInm_0fO6bIl"
      }
    },
    {
      "cell_type": "code",
      "source": [
        "from omegaconf import OmegaConf\n",
        "config = OmegaConf.load('baseline/config.yaml')\n",
        "print(config.separator.model)"
      ],
      "metadata": {
        "colab": {
          "base_uri": "https://localhost:8080/"
        },
        "id": "QraRFr8K5VyB",
        "outputId": "10975949-011f-495e-b821-7e98a8161932"
      },
      "execution_count": 8,
      "outputs": [
        {
          "output_type": "stream",
          "name": "stdout",
          "text": [
            "demucs\n"
          ]
        }
      ]
    },
    {
      "cell_type": "markdown",
      "source": [
        "Set input directory"
      ],
      "metadata": {
        "id": "8YfLt5Py4whx"
      }
    },
    {
      "cell_type": "code",
      "source": [
        "reference_folder = Path(\"ref_signals_100\")\n",
        "enhanced_mix_folder = Path(\"enhanced_signals_100tracks\")"
      ],
      "metadata": {
        "id": "ltHsRuxw4zm4"
      },
      "execution_count": 9,
      "outputs": []
    },
    {
      "cell_type": "markdown",
      "source": [
        "# load the audio files in provided path"
      ],
      "metadata": {
        "id": "DhjLl27kX1sh"
      }
    },
    {
      "cell_type": "code",
      "source": [
        "enhanced_files = [] # initialize list of enhanced audio files\n",
        "reference_files = [] # initialize list of reference files\n",
        "for file in os.listdir(enhanced_mix_folder): # iterate over all files in the directory\n",
        "    if file.endswith('.flac'): # if the file is an audio file\n",
        "        enhanced_files.append(os.path.join(enhanced_mix_folder, file)) # add the file to the list of audio files\n",
        "        reference_files.append(os.path.join(reference_folder, file.replace('.flac','_ref.flac'))) # add the corresponding ref file to the list of ref files"
      ],
      "metadata": {
        "id": "b88PqfFTX91N"
      },
      "execution_count": 10,
      "outputs": []
    },
    {
      "cell_type": "code",
      "source": [
        "print(enhanced_files[0])\n",
        "print(reference_files[0])\n",
        "print(len(enhanced_files))"
      ],
      "metadata": {
        "colab": {
          "base_uri": "https://localhost:8080/"
        },
        "id": "GIVRccYDZvDU",
        "outputId": "9f20f4d0-6107-44da-905c-78e2cdb5f5b6"
      },
      "execution_count": 11,
      "outputs": [
        {
          "output_type": "stream",
          "name": "stdout",
          "text": [
            "enhanced_signals_100tracks/scene_10001_L0057_remix.flac\n",
            "ref_signals_100/scene_10001_L0057_remix_ref.flac\n",
            "100\n"
          ]
        }
      ]
    },
    {
      "cell_type": "markdown",
      "source": [
        "Load listener data"
      ],
      "metadata": {
        "id": "1byRhXrc5nmJ"
      }
    },
    {
      "cell_type": "code",
      "source": [
        "config.path.root = '/content/drive/MyDrive/Cadenza_Challenge/cad_icassp_2024'\n",
        "print(config.path)\n"
      ],
      "metadata": {
        "colab": {
          "base_uri": "https://localhost:8080/"
        },
        "id": "CcE-6z8e6cdL",
        "outputId": "e94acd10-91ea-4093-fafd-82b028cf7bdd"
      },
      "execution_count": 12,
      "outputs": [
        {
          "output_type": "stream",
          "name": "stdout",
          "text": [
            "{'root': '/content/drive/MyDrive/Cadenza_Challenge/cad_icassp_2024', 'metadata_dir': '${path.root}/metadata', 'music_dir': '${path.root}/audio/at_mic_music', 'gains_file': '${path.metadata_dir}/gains.json', 'head_positions_file': '${path.metadata_dir}/head_positions.json', 'listeners_file': '${path.metadata_dir}/listeners.train.json', 'music_file': '${path.metadata_dir}/at_mic_music.train.json', 'scenes_file': '${path.metadata_dir}/scenes.train.json', 'scene_listeners_file': '${path.metadata_dir}/scene_listeners.train.json', 'exp_folder': './exp'}\n"
          ]
        }
      ]
    },
    {
      "cell_type": "code",
      "source": [
        "# Load listener audiograms and songs\n",
        "listener_dict = Listener.load_listener_dict(config.path.listeners_file)\n",
        "\n",
        "with Path(config.path.gains_file).open(\"r\", encoding=\"utf-8\") as file:\n",
        "    gains = json.load(file)\n",
        "\n",
        "with Path(config.path.scenes_file).open(\"r\", encoding=\"utf-8\") as file:\n",
        "    scenes = json.load(file)\n",
        "\n",
        "with Path(config.path.scene_listeners_file).open(\"r\", encoding=\"utf-8\") as file:\n",
        "    scenes_listeners = json.load(file)\n",
        "\n",
        "with Path(config.path.music_file).open(\"r\", encoding=\"utf-8\") as file:\n",
        "    songs = json.load(file)"
      ],
      "metadata": {
        "id": "W00FlI6A5pnr"
      },
      "execution_count": 13,
      "outputs": []
    },
    {
      "cell_type": "code",
      "source": [
        "print(songs)"
      ],
      "metadata": {
        "colab": {
          "base_uri": "https://localhost:8080/"
        },
        "id": "G_ZMrGsTi04M",
        "outputId": "55e19c9f-8ec9-4057-ec19-e820d4e1fb44"
      },
      "execution_count": 14,
      "outputs": [
        {
          "output_type": "stream",
          "name": "stdout",
          "text": [
            "{'A Classic Education - NightOwl-hlp_0056': {'Track Name': 'A Classic Education - NightOwl-hlp_0056', 'Split': 'train', 'Path': 'train/A Classic Education - NightOwl-hlp_0056', 'Original Track Name': 'A Classic Education - NightOwl', 'Head Position': 'hlp_0056'}, 'A Classic Education - NightOwl-hlp_0003': {'Track Name': 'A Classic Education - NightOwl-hlp_0003', 'Split': 'train', 'Path': 'train/A Classic Education - NightOwl-hlp_0003', 'Original Track Name': 'A Classic Education - NightOwl', 'Head Position': 'hlp_0003'}, 'A Classic Education - NightOwl-hlp_0119': {'Track Name': 'A Classic Education - NightOwl-hlp_0119', 'Split': 'train', 'Path': 'train/A Classic Education - NightOwl-hlp_0119', 'Original Track Name': 'A Classic Education - NightOwl', 'Head Position': 'hlp_0119'}, 'A Classic Education - NightOwl-hlp_0014': {'Track Name': 'A Classic Education - NightOwl-hlp_0014', 'Split': 'train', 'Path': 'train/A Classic Education - NightOwl-hlp_0014', 'Original Track Name': 'A Classic Education - NightOwl', 'Head Position': 'hlp_0014'}, \"Actions - Devil's Words-hlp_0008\": {'Track Name': \"Actions - Devil's Words-hlp_0008\", 'Split': 'train', 'Path': \"train/Actions - Devil's Words-hlp_0008\", 'Original Track Name': \"Actions - Devil's Words\", 'Head Position': 'hlp_0008'}, \"Actions - Devil's Words-hlp_0034\": {'Track Name': \"Actions - Devil's Words-hlp_0034\", 'Split': 'train', 'Path': \"train/Actions - Devil's Words-hlp_0034\", 'Original Track Name': \"Actions - Devil's Words\", 'Head Position': 'hlp_0034'}, \"Actions - Devil's Words-hlp_0095\": {'Track Name': \"Actions - Devil's Words-hlp_0095\", 'Split': 'train', 'Path': \"train/Actions - Devil's Words-hlp_0095\", 'Original Track Name': \"Actions - Devil's Words\", 'Head Position': 'hlp_0095'}, \"Actions - Devil's Words-hlp_0099\": {'Track Name': \"Actions - Devil's Words-hlp_0099\", 'Split': 'train', 'Path': \"train/Actions - Devil's Words-hlp_0099\", 'Original Track Name': \"Actions - Devil's Words\", 'Head Position': 'hlp_0099'}, 'Actions - One Minute Smile-hlp_0037': {'Track Name': 'Actions - One Minute Smile-hlp_0037', 'Split': 'train', 'Path': 'train/Actions - One Minute Smile-hlp_0037', 'Original Track Name': 'Actions - One Minute Smile', 'Head Position': 'hlp_0037'}, 'Actions - One Minute Smile-hlp_0005': {'Track Name': 'Actions - One Minute Smile-hlp_0005', 'Split': 'train', 'Path': 'train/Actions - One Minute Smile-hlp_0005', 'Original Track Name': 'Actions - One Minute Smile', 'Head Position': 'hlp_0005'}, 'Actions - One Minute Smile-hlp_0114': {'Track Name': 'Actions - One Minute Smile-hlp_0114', 'Split': 'train', 'Path': 'train/Actions - One Minute Smile-hlp_0114', 'Original Track Name': 'Actions - One Minute Smile', 'Head Position': 'hlp_0114'}, 'Actions - One Minute Smile-hlp_0015': {'Track Name': 'Actions - One Minute Smile-hlp_0015', 'Split': 'train', 'Path': 'train/Actions - One Minute Smile-hlp_0015', 'Original Track Name': 'Actions - One Minute Smile', 'Head Position': 'hlp_0015'}, 'Actions - South Of The Water-hlp_0131': {'Track Name': 'Actions - South Of The Water-hlp_0131', 'Split': 'train', 'Path': 'train/Actions - South Of The Water-hlp_0131', 'Original Track Name': 'Actions - South Of The Water', 'Head Position': 'hlp_0131'}, 'Actions - South Of The Water-hlp_0065': {'Track Name': 'Actions - South Of The Water-hlp_0065', 'Split': 'train', 'Path': 'train/Actions - South Of The Water-hlp_0065', 'Original Track Name': 'Actions - South Of The Water', 'Head Position': 'hlp_0065'}, 'Actions - South Of The Water-hlp_0001': {'Track Name': 'Actions - South Of The Water-hlp_0001', 'Split': 'train', 'Path': 'train/Actions - South Of The Water-hlp_0001', 'Original Track Name': 'Actions - South Of The Water', 'Head Position': 'hlp_0001'}, 'Actions - South Of The Water-hlp_0068': {'Track Name': 'Actions - South Of The Water-hlp_0068', 'Split': 'train', 'Path': 'train/Actions - South Of The Water-hlp_0068', 'Original Track Name': 'Actions - South Of The Water', 'Head Position': 'hlp_0068'}, 'Aimee Norwich - Child-hlp_0051': {'Track Name': 'Aimee Norwich - Child-hlp_0051', 'Split': 'train', 'Path': 'train/Aimee Norwich - Child-hlp_0051', 'Original Track Name': 'Aimee Norwich - Child', 'Head Position': 'hlp_0051'}, 'Aimee Norwich - Child-hlp_0102': {'Track Name': 'Aimee Norwich - Child-hlp_0102', 'Split': 'train', 'Path': 'train/Aimee Norwich - Child-hlp_0102', 'Original Track Name': 'Aimee Norwich - Child', 'Head Position': 'hlp_0102'}, 'Aimee Norwich - Child-hlp_0101': {'Track Name': 'Aimee Norwich - Child-hlp_0101', 'Split': 'train', 'Path': 'train/Aimee Norwich - Child-hlp_0101', 'Original Track Name': 'Aimee Norwich - Child', 'Head Position': 'hlp_0101'}, 'Aimee Norwich - Child-hlp_0069': {'Track Name': 'Aimee Norwich - Child-hlp_0069', 'Split': 'train', 'Path': 'train/Aimee Norwich - Child-hlp_0069', 'Original Track Name': 'Aimee Norwich - Child', 'Head Position': 'hlp_0069'}, 'Alexander Ross - Goodbye Bolero-hlp_0067': {'Track Name': 'Alexander Ross - Goodbye Bolero-hlp_0067', 'Split': 'train', 'Path': 'train/Alexander Ross - Goodbye Bolero-hlp_0067', 'Original Track Name': 'Alexander Ross - Goodbye Bolero', 'Head Position': 'hlp_0067'}, 'Alexander Ross - Goodbye Bolero-hlp_0018': {'Track Name': 'Alexander Ross - Goodbye Bolero-hlp_0018', 'Split': 'train', 'Path': 'train/Alexander Ross - Goodbye Bolero-hlp_0018', 'Original Track Name': 'Alexander Ross - Goodbye Bolero', 'Head Position': 'hlp_0018'}, 'Alexander Ross - Goodbye Bolero-hlp_0075': {'Track Name': 'Alexander Ross - Goodbye Bolero-hlp_0075', 'Split': 'train', 'Path': 'train/Alexander Ross - Goodbye Bolero-hlp_0075', 'Original Track Name': 'Alexander Ross - Goodbye Bolero', 'Head Position': 'hlp_0075'}, 'Alexander Ross - Goodbye Bolero-hlp_0088': {'Track Name': 'Alexander Ross - Goodbye Bolero-hlp_0088', 'Split': 'train', 'Path': 'train/Alexander Ross - Goodbye Bolero-hlp_0088', 'Original Track Name': 'Alexander Ross - Goodbye Bolero', 'Head Position': 'hlp_0088'}, 'Alexander Ross - Velvet Curtain-hlp_0079': {'Track Name': 'Alexander Ross - Velvet Curtain-hlp_0079', 'Split': 'train', 'Path': 'train/Alexander Ross - Velvet Curtain-hlp_0079', 'Original Track Name': 'Alexander Ross - Velvet Curtain', 'Head Position': 'hlp_0079'}, 'Alexander Ross - Velvet Curtain-hlp_0051': {'Track Name': 'Alexander Ross - Velvet Curtain-hlp_0051', 'Split': 'train', 'Path': 'train/Alexander Ross - Velvet Curtain-hlp_0051', 'Original Track Name': 'Alexander Ross - Velvet Curtain', 'Head Position': 'hlp_0051'}, 'Alexander Ross - Velvet Curtain-hlp_0115': {'Track Name': 'Alexander Ross - Velvet Curtain-hlp_0115', 'Split': 'train', 'Path': 'train/Alexander Ross - Velvet Curtain-hlp_0115', 'Original Track Name': 'Alexander Ross - Velvet Curtain', 'Head Position': 'hlp_0115'}, 'Alexander Ross - Velvet Curtain-hlp_0109': {'Track Name': 'Alexander Ross - Velvet Curtain-hlp_0109', 'Split': 'train', 'Path': 'train/Alexander Ross - Velvet Curtain-hlp_0109', 'Original Track Name': 'Alexander Ross - Velvet Curtain', 'Head Position': 'hlp_0109'}, 'Angela Thomas Wade - Milk Cow Blues-hlp_0053': {'Track Name': 'Angela Thomas Wade - Milk Cow Blues-hlp_0053', 'Split': 'train', 'Path': 'train/Angela Thomas Wade - Milk Cow Blues-hlp_0053', 'Original Track Name': 'Angela Thomas Wade - Milk Cow Blues', 'Head Position': 'hlp_0053'}, 'Angela Thomas Wade - Milk Cow Blues-hlp_0001': {'Track Name': 'Angela Thomas Wade - Milk Cow Blues-hlp_0001', 'Split': 'train', 'Path': 'train/Angela Thomas Wade - Milk Cow Blues-hlp_0001', 'Original Track Name': 'Angela Thomas Wade - Milk Cow Blues', 'Head Position': 'hlp_0001'}, 'Angela Thomas Wade - Milk Cow Blues-hlp_0093': {'Track Name': 'Angela Thomas Wade - Milk Cow Blues-hlp_0093', 'Split': 'train', 'Path': 'train/Angela Thomas Wade - Milk Cow Blues-hlp_0093', 'Original Track Name': 'Angela Thomas Wade - Milk Cow Blues', 'Head Position': 'hlp_0093'}, 'Angela Thomas Wade - Milk Cow Blues-hlp_0094': {'Track Name': 'Angela Thomas Wade - Milk Cow Blues-hlp_0094', 'Split': 'train', 'Path': 'train/Angela Thomas Wade - Milk Cow Blues-hlp_0094', 'Original Track Name': 'Angela Thomas Wade - Milk Cow Blues', 'Head Position': 'hlp_0094'}, 'ANiMAL - Clinic A-hlp_0126': {'Track Name': 'ANiMAL - Clinic A-hlp_0126', 'Split': 'train', 'Path': 'train/ANiMAL - Clinic A-hlp_0126', 'Original Track Name': 'ANiMAL - Clinic A', 'Head Position': 'hlp_0126'}, 'ANiMAL - Clinic A-hlp_0103': {'Track Name': 'ANiMAL - Clinic A-hlp_0103', 'Split': 'train', 'Path': 'train/ANiMAL - Clinic A-hlp_0103', 'Original Track Name': 'ANiMAL - Clinic A', 'Head Position': 'hlp_0103'}, 'ANiMAL - Clinic A-hlp_0095': {'Track Name': 'ANiMAL - Clinic A-hlp_0095', 'Split': 'train', 'Path': 'train/ANiMAL - Clinic A-hlp_0095', 'Original Track Name': 'ANiMAL - Clinic A', 'Head Position': 'hlp_0095'}, 'ANiMAL - Clinic A-hlp_0064': {'Track Name': 'ANiMAL - Clinic A-hlp_0064', 'Split': 'train', 'Path': 'train/ANiMAL - Clinic A-hlp_0064', 'Original Track Name': 'ANiMAL - Clinic A', 'Head Position': 'hlp_0064'}, 'ANiMAL - Easy Tiger-hlp_0099': {'Track Name': 'ANiMAL - Easy Tiger-hlp_0099', 'Split': 'train', 'Path': 'train/ANiMAL - Easy Tiger-hlp_0099', 'Original Track Name': 'ANiMAL - Easy Tiger', 'Head Position': 'hlp_0099'}, 'ANiMAL - Easy Tiger-hlp_0035': {'Track Name': 'ANiMAL - Easy Tiger-hlp_0035', 'Split': 'train', 'Path': 'train/ANiMAL - Easy Tiger-hlp_0035', 'Original Track Name': 'ANiMAL - Easy Tiger', 'Head Position': 'hlp_0035'}, 'ANiMAL - Easy Tiger-hlp_0052': {'Track Name': 'ANiMAL - Easy Tiger-hlp_0052', 'Split': 'train', 'Path': 'train/ANiMAL - Easy Tiger-hlp_0052', 'Original Track Name': 'ANiMAL - Easy Tiger', 'Head Position': 'hlp_0052'}, 'ANiMAL - Easy Tiger-hlp_0092': {'Track Name': 'ANiMAL - Easy Tiger-hlp_0092', 'Split': 'train', 'Path': 'train/ANiMAL - Easy Tiger-hlp_0092', 'Original Track Name': 'ANiMAL - Easy Tiger', 'Head Position': 'hlp_0092'}, 'ANiMAL - Rockshow-hlp_0058': {'Track Name': 'ANiMAL - Rockshow-hlp_0058', 'Split': 'train', 'Path': 'train/ANiMAL - Rockshow-hlp_0058', 'Original Track Name': 'ANiMAL - Rockshow', 'Head Position': 'hlp_0058'}, 'ANiMAL - Rockshow-hlp_0073': {'Track Name': 'ANiMAL - Rockshow-hlp_0073', 'Split': 'train', 'Path': 'train/ANiMAL - Rockshow-hlp_0073', 'Original Track Name': 'ANiMAL - Rockshow', 'Head Position': 'hlp_0073'}, 'ANiMAL - Rockshow-hlp_0082': {'Track Name': 'ANiMAL - Rockshow-hlp_0082', 'Split': 'train', 'Path': 'train/ANiMAL - Rockshow-hlp_0082', 'Original Track Name': 'ANiMAL - Rockshow', 'Head Position': 'hlp_0082'}, 'ANiMAL - Rockshow-hlp_0051': {'Track Name': 'ANiMAL - Rockshow-hlp_0051', 'Split': 'train', 'Path': 'train/ANiMAL - Rockshow-hlp_0051', 'Original Track Name': 'ANiMAL - Rockshow', 'Head Position': 'hlp_0051'}, 'Atlantis Bound - It Was My Fault For Waiting-hlp_0091': {'Track Name': 'Atlantis Bound - It Was My Fault For Waiting-hlp_0091', 'Split': 'train', 'Path': 'train/Atlantis Bound - It Was My Fault For Waiting-hlp_0091', 'Original Track Name': 'Atlantis Bound - It Was My Fault For Waiting', 'Head Position': 'hlp_0091'}, 'Atlantis Bound - It Was My Fault For Waiting-hlp_0036': {'Track Name': 'Atlantis Bound - It Was My Fault For Waiting-hlp_0036', 'Split': 'train', 'Path': 'train/Atlantis Bound - It Was My Fault For Waiting-hlp_0036', 'Original Track Name': 'Atlantis Bound - It Was My Fault For Waiting', 'Head Position': 'hlp_0036'}, 'Atlantis Bound - It Was My Fault For Waiting-hlp_0038': {'Track Name': 'Atlantis Bound - It Was My Fault For Waiting-hlp_0038', 'Split': 'train', 'Path': 'train/Atlantis Bound - It Was My Fault For Waiting-hlp_0038', 'Original Track Name': 'Atlantis Bound - It Was My Fault For Waiting', 'Head Position': 'hlp_0038'}, 'Atlantis Bound - It Was My Fault For Waiting-hlp_0010': {'Track Name': 'Atlantis Bound - It Was My Fault For Waiting-hlp_0010', 'Split': 'train', 'Path': 'train/Atlantis Bound - It Was My Fault For Waiting-hlp_0010', 'Original Track Name': 'Atlantis Bound - It Was My Fault For Waiting', 'Head Position': 'hlp_0010'}, 'Auctioneer - Our Future Faces-hlp_0036': {'Track Name': 'Auctioneer - Our Future Faces-hlp_0036', 'Split': 'train', 'Path': 'train/Auctioneer - Our Future Faces-hlp_0036', 'Original Track Name': 'Auctioneer - Our Future Faces', 'Head Position': 'hlp_0036'}, 'Auctioneer - Our Future Faces-hlp_0124': {'Track Name': 'Auctioneer - Our Future Faces-hlp_0124', 'Split': 'train', 'Path': 'train/Auctioneer - Our Future Faces-hlp_0124', 'Original Track Name': 'Auctioneer - Our Future Faces', 'Head Position': 'hlp_0124'}, 'Auctioneer - Our Future Faces-hlp_0091': {'Track Name': 'Auctioneer - Our Future Faces-hlp_0091', 'Split': 'train', 'Path': 'train/Auctioneer - Our Future Faces-hlp_0091', 'Original Track Name': 'Auctioneer - Our Future Faces', 'Head Position': 'hlp_0091'}, 'Auctioneer - Our Future Faces-hlp_0045': {'Track Name': 'Auctioneer - Our Future Faces-hlp_0045', 'Split': 'train', 'Path': 'train/Auctioneer - Our Future Faces-hlp_0045', 'Original Track Name': 'Auctioneer - Our Future Faces', 'Head Position': 'hlp_0045'}, 'AvaLuna - Waterduct-hlp_0035': {'Track Name': 'AvaLuna - Waterduct-hlp_0035', 'Split': 'train', 'Path': 'train/AvaLuna - Waterduct-hlp_0035', 'Original Track Name': 'AvaLuna - Waterduct', 'Head Position': 'hlp_0035'}, 'AvaLuna - Waterduct-hlp_0064': {'Track Name': 'AvaLuna - Waterduct-hlp_0064', 'Split': 'train', 'Path': 'train/AvaLuna - Waterduct-hlp_0064', 'Original Track Name': 'AvaLuna - Waterduct', 'Head Position': 'hlp_0064'}, 'AvaLuna - Waterduct-hlp_0008': {'Track Name': 'AvaLuna - Waterduct-hlp_0008', 'Split': 'train', 'Path': 'train/AvaLuna - Waterduct-hlp_0008', 'Original Track Name': 'AvaLuna - Waterduct', 'Head Position': 'hlp_0008'}, 'AvaLuna - Waterduct-hlp_0120': {'Track Name': 'AvaLuna - Waterduct-hlp_0120', 'Split': 'train', 'Path': 'train/AvaLuna - Waterduct-hlp_0120', 'Original Track Name': 'AvaLuna - Waterduct', 'Head Position': 'hlp_0120'}, 'BigTroubles - Phantom-hlp_0124': {'Track Name': 'BigTroubles - Phantom-hlp_0124', 'Split': 'train', 'Path': 'train/BigTroubles - Phantom-hlp_0124', 'Original Track Name': 'BigTroubles - Phantom', 'Head Position': 'hlp_0124'}, 'BigTroubles - Phantom-hlp_0034': {'Track Name': 'BigTroubles - Phantom-hlp_0034', 'Split': 'train', 'Path': 'train/BigTroubles - Phantom-hlp_0034', 'Original Track Name': 'BigTroubles - Phantom', 'Head Position': 'hlp_0034'}, 'BigTroubles - Phantom-hlp_0106': {'Track Name': 'BigTroubles - Phantom-hlp_0106', 'Split': 'train', 'Path': 'train/BigTroubles - Phantom-hlp_0106', 'Original Track Name': 'BigTroubles - Phantom', 'Head Position': 'hlp_0106'}, 'BigTroubles - Phantom-hlp_0092': {'Track Name': 'BigTroubles - Phantom-hlp_0092', 'Split': 'train', 'Path': 'train/BigTroubles - Phantom-hlp_0092', 'Original Track Name': 'BigTroubles - Phantom', 'Head Position': 'hlp_0092'}, 'Bill Chudziak - Children Of No-one-hlp_0046': {'Track Name': 'Bill Chudziak - Children Of No-one-hlp_0046', 'Split': 'train', 'Path': 'train/Bill Chudziak - Children Of No-one-hlp_0046', 'Original Track Name': 'Bill Chudziak - Children Of No-one', 'Head Position': 'hlp_0046'}, 'Bill Chudziak - Children Of No-one-hlp_0017': {'Track Name': 'Bill Chudziak - Children Of No-one-hlp_0017', 'Split': 'train', 'Path': 'train/Bill Chudziak - Children Of No-one-hlp_0017', 'Original Track Name': 'Bill Chudziak - Children Of No-one', 'Head Position': 'hlp_0017'}, 'Bill Chudziak - Children Of No-one-hlp_0110': {'Track Name': 'Bill Chudziak - Children Of No-one-hlp_0110', 'Split': 'train', 'Path': 'train/Bill Chudziak - Children Of No-one-hlp_0110', 'Original Track Name': 'Bill Chudziak - Children Of No-one', 'Head Position': 'hlp_0110'}, 'Bill Chudziak - Children Of No-one-hlp_0065': {'Track Name': 'Bill Chudziak - Children Of No-one-hlp_0065', 'Split': 'train', 'Path': 'train/Bill Chudziak - Children Of No-one-hlp_0065', 'Original Track Name': 'Bill Chudziak - Children Of No-one', 'Head Position': 'hlp_0065'}, 'Black Bloc - If You Want Success-hlp_0116': {'Track Name': 'Black Bloc - If You Want Success-hlp_0116', 'Split': 'train', 'Path': 'train/Black Bloc - If You Want Success-hlp_0116', 'Original Track Name': 'Black Bloc - If You Want Success', 'Head Position': 'hlp_0116'}, 'Black Bloc - If You Want Success-hlp_0085': {'Track Name': 'Black Bloc - If You Want Success-hlp_0085', 'Split': 'train', 'Path': 'train/Black Bloc - If You Want Success-hlp_0085', 'Original Track Name': 'Black Bloc - If You Want Success', 'Head Position': 'hlp_0085'}, 'Black Bloc - If You Want Success-hlp_0114': {'Track Name': 'Black Bloc - If You Want Success-hlp_0114', 'Split': 'train', 'Path': 'train/Black Bloc - If You Want Success-hlp_0114', 'Original Track Name': 'Black Bloc - If You Want Success', 'Head Position': 'hlp_0114'}, 'Black Bloc - If You Want Success-hlp_0025': {'Track Name': 'Black Bloc - If You Want Success-hlp_0025', 'Split': 'train', 'Path': 'train/Black Bloc - If You Want Success-hlp_0025', 'Original Track Name': 'Black Bloc - If You Want Success', 'Head Position': 'hlp_0025'}, 'Celestial Shore - Die For Us-hlp_0123': {'Track Name': 'Celestial Shore - Die For Us-hlp_0123', 'Split': 'train', 'Path': 'train/Celestial Shore - Die For Us-hlp_0123', 'Original Track Name': 'Celestial Shore - Die For Us', 'Head Position': 'hlp_0123'}, 'Celestial Shore - Die For Us-hlp_0083': {'Track Name': 'Celestial Shore - Die For Us-hlp_0083', 'Split': 'train', 'Path': 'train/Celestial Shore - Die For Us-hlp_0083', 'Original Track Name': 'Celestial Shore - Die For Us', 'Head Position': 'hlp_0083'}, 'Celestial Shore - Die For Us-hlp_0070': {'Track Name': 'Celestial Shore - Die For Us-hlp_0070', 'Split': 'train', 'Path': 'train/Celestial Shore - Die For Us-hlp_0070', 'Original Track Name': 'Celestial Shore - Die For Us', 'Head Position': 'hlp_0070'}, 'Celestial Shore - Die For Us-hlp_0112': {'Track Name': 'Celestial Shore - Die For Us-hlp_0112', 'Split': 'train', 'Path': 'train/Celestial Shore - Die For Us-hlp_0112', 'Original Track Name': 'Celestial Shore - Die For Us', 'Head Position': 'hlp_0112'}, 'Chris Durban - Celebrate-hlp_0134': {'Track Name': 'Chris Durban - Celebrate-hlp_0134', 'Split': 'train', 'Path': 'train/Chris Durban - Celebrate-hlp_0134', 'Original Track Name': 'Chris Durban - Celebrate', 'Head Position': 'hlp_0134'}, 'Chris Durban - Celebrate-hlp_0014': {'Track Name': 'Chris Durban - Celebrate-hlp_0014', 'Split': 'train', 'Path': 'train/Chris Durban - Celebrate-hlp_0014', 'Original Track Name': 'Chris Durban - Celebrate', 'Head Position': 'hlp_0014'}, 'Chris Durban - Celebrate-hlp_0131': {'Track Name': 'Chris Durban - Celebrate-hlp_0131', 'Split': 'train', 'Path': 'train/Chris Durban - Celebrate-hlp_0131', 'Original Track Name': 'Chris Durban - Celebrate', 'Head Position': 'hlp_0131'}, 'Chris Durban - Celebrate-hlp_0140': {'Track Name': 'Chris Durban - Celebrate-hlp_0140', 'Split': 'train', 'Path': 'train/Chris Durban - Celebrate-hlp_0140', 'Original Track Name': 'Chris Durban - Celebrate', 'Head Position': 'hlp_0140'}, 'Clara Berry And Wooldog - Air Traffic-hlp_0026': {'Track Name': 'Clara Berry And Wooldog - Air Traffic-hlp_0026', 'Split': 'train', 'Path': 'train/Clara Berry And Wooldog - Air Traffic-hlp_0026', 'Original Track Name': 'Clara Berry And Wooldog - Air Traffic', 'Head Position': 'hlp_0026'}, 'Clara Berry And Wooldog - Air Traffic-hlp_0115': {'Track Name': 'Clara Berry And Wooldog - Air Traffic-hlp_0115', 'Split': 'train', 'Path': 'train/Clara Berry And Wooldog - Air Traffic-hlp_0115', 'Original Track Name': 'Clara Berry And Wooldog - Air Traffic', 'Head Position': 'hlp_0115'}, 'Clara Berry And Wooldog - Air Traffic-hlp_0142': {'Track Name': 'Clara Berry And Wooldog - Air Traffic-hlp_0142', 'Split': 'train', 'Path': 'train/Clara Berry And Wooldog - Air Traffic-hlp_0142', 'Original Track Name': 'Clara Berry And Wooldog - Air Traffic', 'Head Position': 'hlp_0142'}, 'Clara Berry And Wooldog - Air Traffic-hlp_0038': {'Track Name': 'Clara Berry And Wooldog - Air Traffic-hlp_0038', 'Split': 'train', 'Path': 'train/Clara Berry And Wooldog - Air Traffic-hlp_0038', 'Original Track Name': 'Clara Berry And Wooldog - Air Traffic', 'Head Position': 'hlp_0038'}, 'Clara Berry And Wooldog - Stella-hlp_0094': {'Track Name': 'Clara Berry And Wooldog - Stella-hlp_0094', 'Split': 'train', 'Path': 'train/Clara Berry And Wooldog - Stella-hlp_0094', 'Original Track Name': 'Clara Berry And Wooldog - Stella', 'Head Position': 'hlp_0094'}, 'Clara Berry And Wooldog - Stella-hlp_0126': {'Track Name': 'Clara Berry And Wooldog - Stella-hlp_0126', 'Split': 'train', 'Path': 'train/Clara Berry And Wooldog - Stella-hlp_0126', 'Original Track Name': 'Clara Berry And Wooldog - Stella', 'Head Position': 'hlp_0126'}, 'Clara Berry And Wooldog - Stella-hlp_0009': {'Track Name': 'Clara Berry And Wooldog - Stella-hlp_0009', 'Split': 'train', 'Path': 'train/Clara Berry And Wooldog - Stella-hlp_0009', 'Original Track Name': 'Clara Berry And Wooldog - Stella', 'Head Position': 'hlp_0009'}, 'Clara Berry And Wooldog - Stella-hlp_0125': {'Track Name': 'Clara Berry And Wooldog - Stella-hlp_0125', 'Split': 'train', 'Path': 'train/Clara Berry And Wooldog - Stella-hlp_0125', 'Original Track Name': 'Clara Berry And Wooldog - Stella', 'Head Position': 'hlp_0125'}, 'Clara Berry And Wooldog - Waltz For My Victims-hlp_0059': {'Track Name': 'Clara Berry And Wooldog - Waltz For My Victims-hlp_0059', 'Split': 'train', 'Path': 'train/Clara Berry And Wooldog - Waltz For My Victims-hlp_0059', 'Original Track Name': 'Clara Berry And Wooldog - Waltz For My Victims', 'Head Position': 'hlp_0059'}, 'Clara Berry And Wooldog - Waltz For My Victims-hlp_0108': {'Track Name': 'Clara Berry And Wooldog - Waltz For My Victims-hlp_0108', 'Split': 'train', 'Path': 'train/Clara Berry And Wooldog - Waltz For My Victims-hlp_0108', 'Original Track Name': 'Clara Berry And Wooldog - Waltz For My Victims', 'Head Position': 'hlp_0108'}, 'Clara Berry And Wooldog - Waltz For My Victims-hlp_0106': {'Track Name': 'Clara Berry And Wooldog - Waltz For My Victims-hlp_0106', 'Split': 'train', 'Path': 'train/Clara Berry And Wooldog - Waltz For My Victims-hlp_0106', 'Original Track Name': 'Clara Berry And Wooldog - Waltz For My Victims', 'Head Position': 'hlp_0106'}, 'Clara Berry And Wooldog - Waltz For My Victims-hlp_0012': {'Track Name': 'Clara Berry And Wooldog - Waltz For My Victims-hlp_0012', 'Split': 'train', 'Path': 'train/Clara Berry And Wooldog - Waltz For My Victims-hlp_0012', 'Original Track Name': 'Clara Berry And Wooldog - Waltz For My Victims', 'Head Position': 'hlp_0012'}, 'Cnoc An Tursa - Bannockburn-hlp_0064': {'Track Name': 'Cnoc An Tursa - Bannockburn-hlp_0064', 'Split': 'train', 'Path': 'train/Cnoc An Tursa - Bannockburn-hlp_0064', 'Original Track Name': 'Cnoc An Tursa - Bannockburn', 'Head Position': 'hlp_0064'}, 'Cnoc An Tursa - Bannockburn-hlp_0028': {'Track Name': 'Cnoc An Tursa - Bannockburn-hlp_0028', 'Split': 'train', 'Path': 'train/Cnoc An Tursa - Bannockburn-hlp_0028', 'Original Track Name': 'Cnoc An Tursa - Bannockburn', 'Head Position': 'hlp_0028'}, 'Cnoc An Tursa - Bannockburn-hlp_0073': {'Track Name': 'Cnoc An Tursa - Bannockburn-hlp_0073', 'Split': 'train', 'Path': 'train/Cnoc An Tursa - Bannockburn-hlp_0073', 'Original Track Name': 'Cnoc An Tursa - Bannockburn', 'Head Position': 'hlp_0073'}, 'Cnoc An Tursa - Bannockburn-hlp_0015': {'Track Name': 'Cnoc An Tursa - Bannockburn-hlp_0015', 'Split': 'train', 'Path': 'train/Cnoc An Tursa - Bannockburn-hlp_0015', 'Original Track Name': 'Cnoc An Tursa - Bannockburn', 'Head Position': 'hlp_0015'}, 'Creepoid - OldTree-hlp_0016': {'Track Name': 'Creepoid - OldTree-hlp_0016', 'Split': 'train', 'Path': 'train/Creepoid - OldTree-hlp_0016', 'Original Track Name': 'Creepoid - OldTree', 'Head Position': 'hlp_0016'}, 'Creepoid - OldTree-hlp_0076': {'Track Name': 'Creepoid - OldTree-hlp_0076', 'Split': 'train', 'Path': 'train/Creepoid - OldTree-hlp_0076', 'Original Track Name': 'Creepoid - OldTree', 'Head Position': 'hlp_0076'}, 'Creepoid - OldTree-hlp_0082': {'Track Name': 'Creepoid - OldTree-hlp_0082', 'Split': 'train', 'Path': 'train/Creepoid - OldTree-hlp_0082', 'Original Track Name': 'Creepoid - OldTree', 'Head Position': 'hlp_0082'}, 'Creepoid - OldTree-hlp_0029': {'Track Name': 'Creepoid - OldTree-hlp_0029', 'Split': 'train', 'Path': 'train/Creepoid - OldTree-hlp_0029', 'Original Track Name': 'Creepoid - OldTree', 'Head Position': 'hlp_0029'}, 'Dark Ride - Burning Bridges-hlp_0052': {'Track Name': 'Dark Ride - Burning Bridges-hlp_0052', 'Split': 'train', 'Path': 'train/Dark Ride - Burning Bridges-hlp_0052', 'Original Track Name': 'Dark Ride - Burning Bridges', 'Head Position': 'hlp_0052'}, 'Dark Ride - Burning Bridges-hlp_0051': {'Track Name': 'Dark Ride - Burning Bridges-hlp_0051', 'Split': 'train', 'Path': 'train/Dark Ride - Burning Bridges-hlp_0051', 'Original Track Name': 'Dark Ride - Burning Bridges', 'Head Position': 'hlp_0051'}, 'Dark Ride - Burning Bridges-hlp_0073': {'Track Name': 'Dark Ride - Burning Bridges-hlp_0073', 'Split': 'train', 'Path': 'train/Dark Ride - Burning Bridges-hlp_0073', 'Original Track Name': 'Dark Ride - Burning Bridges', 'Head Position': 'hlp_0073'}, 'Dark Ride - Burning Bridges-hlp_0062': {'Track Name': 'Dark Ride - Burning Bridges-hlp_0062', 'Split': 'train', 'Path': 'train/Dark Ride - Burning Bridges-hlp_0062', 'Original Track Name': 'Dark Ride - Burning Bridges', 'Head Position': 'hlp_0062'}, 'Dreamers Of The Ghetto - Heavy Love-hlp_0046': {'Track Name': 'Dreamers Of The Ghetto - Heavy Love-hlp_0046', 'Split': 'train', 'Path': 'train/Dreamers Of The Ghetto - Heavy Love-hlp_0046', 'Original Track Name': 'Dreamers Of The Ghetto - Heavy Love', 'Head Position': 'hlp_0046'}, 'Dreamers Of The Ghetto - Heavy Love-hlp_0013': {'Track Name': 'Dreamers Of The Ghetto - Heavy Love-hlp_0013', 'Split': 'train', 'Path': 'train/Dreamers Of The Ghetto - Heavy Love-hlp_0013', 'Original Track Name': 'Dreamers Of The Ghetto - Heavy Love', 'Head Position': 'hlp_0013'}, 'Dreamers Of The Ghetto - Heavy Love-hlp_0018': {'Track Name': 'Dreamers Of The Ghetto - Heavy Love-hlp_0018', 'Split': 'train', 'Path': 'train/Dreamers Of The Ghetto - Heavy Love-hlp_0018', 'Original Track Name': 'Dreamers Of The Ghetto - Heavy Love', 'Head Position': 'hlp_0018'}, 'Dreamers Of The Ghetto - Heavy Love-hlp_0002': {'Track Name': 'Dreamers Of The Ghetto - Heavy Love-hlp_0002', 'Split': 'train', 'Path': 'train/Dreamers Of The Ghetto - Heavy Love-hlp_0002', 'Original Track Name': 'Dreamers Of The Ghetto - Heavy Love', 'Head Position': 'hlp_0002'}, 'Drumtracks - Ghost Bitch-hlp_0049': {'Track Name': 'Drumtracks - Ghost Bitch-hlp_0049', 'Split': 'train', 'Path': 'train/Drumtracks - Ghost Bitch-hlp_0049', 'Original Track Name': 'Drumtracks - Ghost Bitch', 'Head Position': 'hlp_0049'}, 'Drumtracks - Ghost Bitch-hlp_0114': {'Track Name': 'Drumtracks - Ghost Bitch-hlp_0114', 'Split': 'train', 'Path': 'train/Drumtracks - Ghost Bitch-hlp_0114', 'Original Track Name': 'Drumtracks - Ghost Bitch', 'Head Position': 'hlp_0114'}, 'Drumtracks - Ghost Bitch-hlp_0046': {'Track Name': 'Drumtracks - Ghost Bitch-hlp_0046', 'Split': 'train', 'Path': 'train/Drumtracks - Ghost Bitch-hlp_0046', 'Original Track Name': 'Drumtracks - Ghost Bitch', 'Head Position': 'hlp_0046'}, 'Drumtracks - Ghost Bitch-hlp_0034': {'Track Name': 'Drumtracks - Ghost Bitch-hlp_0034', 'Split': 'train', 'Path': 'train/Drumtracks - Ghost Bitch-hlp_0034', 'Original Track Name': 'Drumtracks - Ghost Bitch', 'Head Position': 'hlp_0034'}, 'Faces On Film - Waiting For Ga-hlp_0074': {'Track Name': 'Faces On Film - Waiting For Ga-hlp_0074', 'Split': 'train', 'Path': 'train/Faces On Film - Waiting For Ga-hlp_0074', 'Original Track Name': 'Faces On Film - Waiting For Ga', 'Head Position': 'hlp_0074'}, 'Faces On Film - Waiting For Ga-hlp_0141': {'Track Name': 'Faces On Film - Waiting For Ga-hlp_0141', 'Split': 'train', 'Path': 'train/Faces On Film - Waiting For Ga-hlp_0141', 'Original Track Name': 'Faces On Film - Waiting For Ga', 'Head Position': 'hlp_0141'}, 'Faces On Film - Waiting For Ga-hlp_0108': {'Track Name': 'Faces On Film - Waiting For Ga-hlp_0108', 'Split': 'train', 'Path': 'train/Faces On Film - Waiting For Ga-hlp_0108', 'Original Track Name': 'Faces On Film - Waiting For Ga', 'Head Position': 'hlp_0108'}, 'Faces On Film - Waiting For Ga-hlp_0112': {'Track Name': 'Faces On Film - Waiting For Ga-hlp_0112', 'Split': 'train', 'Path': 'train/Faces On Film - Waiting For Ga-hlp_0112', 'Original Track Name': 'Faces On Film - Waiting For Ga', 'Head Position': 'hlp_0112'}, 'Fergessen - Back From The Start-hlp_0043': {'Track Name': 'Fergessen - Back From The Start-hlp_0043', 'Split': 'train', 'Path': 'train/Fergessen - Back From The Start-hlp_0043', 'Original Track Name': 'Fergessen - Back From The Start', 'Head Position': 'hlp_0043'}, 'Fergessen - Back From The Start-hlp_0002': {'Track Name': 'Fergessen - Back From The Start-hlp_0002', 'Split': 'train', 'Path': 'train/Fergessen - Back From The Start-hlp_0002', 'Original Track Name': 'Fergessen - Back From The Start', 'Head Position': 'hlp_0002'}, 'Fergessen - Back From The Start-hlp_0112': {'Track Name': 'Fergessen - Back From The Start-hlp_0112', 'Split': 'train', 'Path': 'train/Fergessen - Back From The Start-hlp_0112', 'Original Track Name': 'Fergessen - Back From The Start', 'Head Position': 'hlp_0112'}, 'Fergessen - Back From The Start-hlp_0015': {'Track Name': 'Fergessen - Back From The Start-hlp_0015', 'Split': 'train', 'Path': 'train/Fergessen - Back From The Start-hlp_0015', 'Original Track Name': 'Fergessen - Back From The Start', 'Head Position': 'hlp_0015'}, 'Fergessen - Nos Palpitants-hlp_0069': {'Track Name': 'Fergessen - Nos Palpitants-hlp_0069', 'Split': 'train', 'Path': 'train/Fergessen - Nos Palpitants-hlp_0069', 'Original Track Name': 'Fergessen - Nos Palpitants', 'Head Position': 'hlp_0069'}, 'Fergessen - Nos Palpitants-hlp_0049': {'Track Name': 'Fergessen - Nos Palpitants-hlp_0049', 'Split': 'train', 'Path': 'train/Fergessen - Nos Palpitants-hlp_0049', 'Original Track Name': 'Fergessen - Nos Palpitants', 'Head Position': 'hlp_0049'}, 'Fergessen - Nos Palpitants-hlp_0078': {'Track Name': 'Fergessen - Nos Palpitants-hlp_0078', 'Split': 'train', 'Path': 'train/Fergessen - Nos Palpitants-hlp_0078', 'Original Track Name': 'Fergessen - Nos Palpitants', 'Head Position': 'hlp_0078'}, 'Fergessen - Nos Palpitants-hlp_0143': {'Track Name': 'Fergessen - Nos Palpitants-hlp_0143', 'Split': 'train', 'Path': 'train/Fergessen - Nos Palpitants-hlp_0143', 'Original Track Name': 'Fergessen - Nos Palpitants', 'Head Position': 'hlp_0143'}, 'Fergessen - The Wind-hlp_0096': {'Track Name': 'Fergessen - The Wind-hlp_0096', 'Split': 'train', 'Path': 'train/Fergessen - The Wind-hlp_0096', 'Original Track Name': 'Fergessen - The Wind', 'Head Position': 'hlp_0096'}, 'Fergessen - The Wind-hlp_0043': {'Track Name': 'Fergessen - The Wind-hlp_0043', 'Split': 'train', 'Path': 'train/Fergessen - The Wind-hlp_0043', 'Original Track Name': 'Fergessen - The Wind', 'Head Position': 'hlp_0043'}, 'Fergessen - The Wind-hlp_0109': {'Track Name': 'Fergessen - The Wind-hlp_0109', 'Split': 'train', 'Path': 'train/Fergessen - The Wind-hlp_0109', 'Original Track Name': 'Fergessen - The Wind', 'Head Position': 'hlp_0109'}, 'Fergessen - The Wind-hlp_0070': {'Track Name': 'Fergessen - The Wind-hlp_0070', 'Split': 'train', 'Path': 'train/Fergessen - The Wind-hlp_0070', 'Original Track Name': 'Fergessen - The Wind', 'Head Position': 'hlp_0070'}, 'Flags - 54-hlp_0027': {'Track Name': 'Flags - 54-hlp_0027', 'Split': 'train', 'Path': 'train/Flags - 54-hlp_0027', 'Original Track Name': 'Flags - 54', 'Head Position': 'hlp_0027'}, 'Flags - 54-hlp_0107': {'Track Name': 'Flags - 54-hlp_0107', 'Split': 'train', 'Path': 'train/Flags - 54-hlp_0107', 'Original Track Name': 'Flags - 54', 'Head Position': 'hlp_0107'}, 'Flags - 54-hlp_0060': {'Track Name': 'Flags - 54-hlp_0060', 'Split': 'train', 'Path': 'train/Flags - 54-hlp_0060', 'Original Track Name': 'Flags - 54', 'Head Position': 'hlp_0060'}, 'Flags - 54-hlp_0088': {'Track Name': 'Flags - 54-hlp_0088', 'Split': 'train', 'Path': 'train/Flags - 54-hlp_0088', 'Original Track Name': 'Flags - 54', 'Head Position': 'hlp_0088'}, 'Giselle - Moss-hlp_0120': {'Track Name': 'Giselle - Moss-hlp_0120', 'Split': 'train', 'Path': 'train/Giselle - Moss-hlp_0120', 'Original Track Name': 'Giselle - Moss', 'Head Position': 'hlp_0120'}, 'Giselle - Moss-hlp_0038': {'Track Name': 'Giselle - Moss-hlp_0038', 'Split': 'train', 'Path': 'train/Giselle - Moss-hlp_0038', 'Original Track Name': 'Giselle - Moss', 'Head Position': 'hlp_0038'}, 'Giselle - Moss-hlp_0073': {'Track Name': 'Giselle - Moss-hlp_0073', 'Split': 'train', 'Path': 'train/Giselle - Moss-hlp_0073', 'Original Track Name': 'Giselle - Moss', 'Head Position': 'hlp_0073'}, 'Giselle - Moss-hlp_0052': {'Track Name': 'Giselle - Moss-hlp_0052', 'Split': 'train', 'Path': 'train/Giselle - Moss-hlp_0052', 'Original Track Name': 'Giselle - Moss', 'Head Position': 'hlp_0052'}, 'Grants - PunchDrunk-hlp_0091': {'Track Name': 'Grants - PunchDrunk-hlp_0091', 'Split': 'train', 'Path': 'train/Grants - PunchDrunk-hlp_0091', 'Original Track Name': 'Grants - PunchDrunk', 'Head Position': 'hlp_0091'}, 'Grants - PunchDrunk-hlp_0014': {'Track Name': 'Grants - PunchDrunk-hlp_0014', 'Split': 'train', 'Path': 'train/Grants - PunchDrunk-hlp_0014', 'Original Track Name': 'Grants - PunchDrunk', 'Head Position': 'hlp_0014'}, 'Grants - PunchDrunk-hlp_0111': {'Track Name': 'Grants - PunchDrunk-hlp_0111', 'Split': 'train', 'Path': 'train/Grants - PunchDrunk-hlp_0111', 'Original Track Name': 'Grants - PunchDrunk', 'Head Position': 'hlp_0111'}, 'Grants - PunchDrunk-hlp_0005': {'Track Name': 'Grants - PunchDrunk-hlp_0005', 'Split': 'train', 'Path': 'train/Grants - PunchDrunk-hlp_0005', 'Original Track Name': 'Grants - PunchDrunk', 'Head Position': 'hlp_0005'}, 'Helado Negro - Mitad Del Mundo-hlp_0024': {'Track Name': 'Helado Negro - Mitad Del Mundo-hlp_0024', 'Split': 'train', 'Path': 'train/Helado Negro - Mitad Del Mundo-hlp_0024', 'Original Track Name': 'Helado Negro - Mitad Del Mundo', 'Head Position': 'hlp_0024'}, 'Helado Negro - Mitad Del Mundo-hlp_0059': {'Track Name': 'Helado Negro - Mitad Del Mundo-hlp_0059', 'Split': 'train', 'Path': 'train/Helado Negro - Mitad Del Mundo-hlp_0059', 'Original Track Name': 'Helado Negro - Mitad Del Mundo', 'Head Position': 'hlp_0059'}, 'Helado Negro - Mitad Del Mundo-hlp_0011': {'Track Name': 'Helado Negro - Mitad Del Mundo-hlp_0011', 'Split': 'train', 'Path': 'train/Helado Negro - Mitad Del Mundo-hlp_0011', 'Original Track Name': 'Helado Negro - Mitad Del Mundo', 'Head Position': 'hlp_0011'}, 'Helado Negro - Mitad Del Mundo-hlp_0065': {'Track Name': 'Helado Negro - Mitad Del Mundo-hlp_0065', 'Split': 'train', 'Path': 'train/Helado Negro - Mitad Del Mundo-hlp_0065', 'Original Track Name': 'Helado Negro - Mitad Del Mundo', 'Head Position': 'hlp_0065'}, 'Hezekiah Jones - Borrowed Heart-hlp_0094': {'Track Name': 'Hezekiah Jones - Borrowed Heart-hlp_0094', 'Split': 'train', 'Path': 'train/Hezekiah Jones - Borrowed Heart-hlp_0094', 'Original Track Name': 'Hezekiah Jones - Borrowed Heart', 'Head Position': 'hlp_0094'}, 'Hezekiah Jones - Borrowed Heart-hlp_0075': {'Track Name': 'Hezekiah Jones - Borrowed Heart-hlp_0075', 'Split': 'train', 'Path': 'train/Hezekiah Jones - Borrowed Heart-hlp_0075', 'Original Track Name': 'Hezekiah Jones - Borrowed Heart', 'Head Position': 'hlp_0075'}, 'Hezekiah Jones - Borrowed Heart-hlp_0016': {'Track Name': 'Hezekiah Jones - Borrowed Heart-hlp_0016', 'Split': 'train', 'Path': 'train/Hezekiah Jones - Borrowed Heart-hlp_0016', 'Original Track Name': 'Hezekiah Jones - Borrowed Heart', 'Head Position': 'hlp_0016'}, 'Hezekiah Jones - Borrowed Heart-hlp_0043': {'Track Name': 'Hezekiah Jones - Borrowed Heart-hlp_0043', 'Split': 'train', 'Path': 'train/Hezekiah Jones - Borrowed Heart-hlp_0043', 'Original Track Name': 'Hezekiah Jones - Borrowed Heart', 'Head Position': 'hlp_0043'}, 'Hollow Ground - Left Blind-hlp_0083': {'Track Name': 'Hollow Ground - Left Blind-hlp_0083', 'Split': 'train', 'Path': 'train/Hollow Ground - Left Blind-hlp_0083', 'Original Track Name': 'Hollow Ground - Left Blind', 'Head Position': 'hlp_0083'}, 'Hollow Ground - Left Blind-hlp_0051': {'Track Name': 'Hollow Ground - Left Blind-hlp_0051', 'Split': 'train', 'Path': 'train/Hollow Ground - Left Blind-hlp_0051', 'Original Track Name': 'Hollow Ground - Left Blind', 'Head Position': 'hlp_0051'}, 'Hollow Ground - Left Blind-hlp_0026': {'Track Name': 'Hollow Ground - Left Blind-hlp_0026', 'Split': 'train', 'Path': 'train/Hollow Ground - Left Blind-hlp_0026', 'Original Track Name': 'Hollow Ground - Left Blind', 'Head Position': 'hlp_0026'}, 'Hollow Ground - Left Blind-hlp_0076': {'Track Name': 'Hollow Ground - Left Blind-hlp_0076', 'Split': 'train', 'Path': 'train/Hollow Ground - Left Blind-hlp_0076', 'Original Track Name': 'Hollow Ground - Left Blind', 'Head Position': 'hlp_0076'}, 'Hop Along - Sister Cities-hlp_0084': {'Track Name': 'Hop Along - Sister Cities-hlp_0084', 'Split': 'train', 'Path': 'train/Hop Along - Sister Cities-hlp_0084', 'Original Track Name': 'Hop Along - Sister Cities', 'Head Position': 'hlp_0084'}, 'Hop Along - Sister Cities-hlp_0112': {'Track Name': 'Hop Along - Sister Cities-hlp_0112', 'Split': 'train', 'Path': 'train/Hop Along - Sister Cities-hlp_0112', 'Original Track Name': 'Hop Along - Sister Cities', 'Head Position': 'hlp_0112'}, 'Hop Along - Sister Cities-hlp_0071': {'Track Name': 'Hop Along - Sister Cities-hlp_0071', 'Split': 'train', 'Path': 'train/Hop Along - Sister Cities-hlp_0071', 'Original Track Name': 'Hop Along - Sister Cities', 'Head Position': 'hlp_0071'}, 'Hop Along - Sister Cities-hlp_0057': {'Track Name': 'Hop Along - Sister Cities-hlp_0057', 'Split': 'train', 'Path': 'train/Hop Along - Sister Cities-hlp_0057', 'Original Track Name': 'Hop Along - Sister Cities', 'Head Position': 'hlp_0057'}, 'Invisible Familiars - Disturbing Wildlife-hlp_0109': {'Track Name': 'Invisible Familiars - Disturbing Wildlife-hlp_0109', 'Split': 'train', 'Path': 'train/Invisible Familiars - Disturbing Wildlife-hlp_0109', 'Original Track Name': 'Invisible Familiars - Disturbing Wildlife', 'Head Position': 'hlp_0109'}, 'Invisible Familiars - Disturbing Wildlife-hlp_0016': {'Track Name': 'Invisible Familiars - Disturbing Wildlife-hlp_0016', 'Split': 'train', 'Path': 'train/Invisible Familiars - Disturbing Wildlife-hlp_0016', 'Original Track Name': 'Invisible Familiars - Disturbing Wildlife', 'Head Position': 'hlp_0016'}, 'Invisible Familiars - Disturbing Wildlife-hlp_0072': {'Track Name': 'Invisible Familiars - Disturbing Wildlife-hlp_0072', 'Split': 'train', 'Path': 'train/Invisible Familiars - Disturbing Wildlife-hlp_0072', 'Original Track Name': 'Invisible Familiars - Disturbing Wildlife', 'Head Position': 'hlp_0072'}, 'Invisible Familiars - Disturbing Wildlife-hlp_0132': {'Track Name': 'Invisible Familiars - Disturbing Wildlife-hlp_0132', 'Split': 'train', 'Path': 'train/Invisible Familiars - Disturbing Wildlife-hlp_0132', 'Original Track Name': 'Invisible Familiars - Disturbing Wildlife', 'Head Position': 'hlp_0132'}, 'James May - All Souls Moon-hlp_0027': {'Track Name': 'James May - All Souls Moon-hlp_0027', 'Split': 'train', 'Path': 'train/James May - All Souls Moon-hlp_0027', 'Original Track Name': 'James May - All Souls Moon', 'Head Position': 'hlp_0027'}, 'James May - All Souls Moon-hlp_0010': {'Track Name': 'James May - All Souls Moon-hlp_0010', 'Split': 'train', 'Path': 'train/James May - All Souls Moon-hlp_0010', 'Original Track Name': 'James May - All Souls Moon', 'Head Position': 'hlp_0010'}, 'James May - All Souls Moon-hlp_0109': {'Track Name': 'James May - All Souls Moon-hlp_0109', 'Split': 'train', 'Path': 'train/James May - All Souls Moon-hlp_0109', 'Original Track Name': 'James May - All Souls Moon', 'Head Position': 'hlp_0109'}, 'James May - All Souls Moon-hlp_0045': {'Track Name': 'James May - All Souls Moon-hlp_0045', 'Split': 'train', 'Path': 'train/James May - All Souls Moon-hlp_0045', 'Original Track Name': 'James May - All Souls Moon', 'Head Position': 'hlp_0045'}, 'James May - Dont Let Go-hlp_0025': {'Track Name': 'James May - Dont Let Go-hlp_0025', 'Split': 'train', 'Path': 'train/James May - Dont Let Go-hlp_0025', 'Original Track Name': 'James May - Dont Let Go', 'Head Position': 'hlp_0025'}, 'James May - Dont Let Go-hlp_0096': {'Track Name': 'James May - Dont Let Go-hlp_0096', 'Split': 'train', 'Path': 'train/James May - Dont Let Go-hlp_0096', 'Original Track Name': 'James May - Dont Let Go', 'Head Position': 'hlp_0096'}, 'James May - Dont Let Go-hlp_0144': {'Track Name': 'James May - Dont Let Go-hlp_0144', 'Split': 'train', 'Path': 'train/James May - Dont Let Go-hlp_0144', 'Original Track Name': 'James May - Dont Let Go', 'Head Position': 'hlp_0144'}, 'James May - Dont Let Go-hlp_0112': {'Track Name': 'James May - Dont Let Go-hlp_0112', 'Split': 'train', 'Path': 'train/James May - Dont Let Go-hlp_0112', 'Original Track Name': 'James May - Dont Let Go', 'Head Position': 'hlp_0112'}, 'James May - If You Say-hlp_0044': {'Track Name': 'James May - If You Say-hlp_0044', 'Split': 'train', 'Path': 'train/James May - If You Say-hlp_0044', 'Original Track Name': 'James May - If You Say', 'Head Position': 'hlp_0044'}, 'James May - If You Say-hlp_0120': {'Track Name': 'James May - If You Say-hlp_0120', 'Split': 'train', 'Path': 'train/James May - If You Say-hlp_0120', 'Original Track Name': 'James May - If You Say', 'Head Position': 'hlp_0120'}, 'James May - If You Say-hlp_0131': {'Track Name': 'James May - If You Say-hlp_0131', 'Split': 'train', 'Path': 'train/James May - If You Say-hlp_0131', 'Original Track Name': 'James May - If You Say', 'Head Position': 'hlp_0131'}, 'James May - If You Say-hlp_0025': {'Track Name': 'James May - If You Say-hlp_0025', 'Split': 'train', 'Path': 'train/James May - If You Say-hlp_0025', 'Original Track Name': 'James May - If You Say', 'Head Position': 'hlp_0025'}, 'James May - On The Line-hlp_0053': {'Track Name': 'James May - On The Line-hlp_0053', 'Split': 'train', 'Path': 'train/James May - On The Line-hlp_0053', 'Original Track Name': 'James May - On The Line', 'Head Position': 'hlp_0053'}, 'James May - On The Line-hlp_0046': {'Track Name': 'James May - On The Line-hlp_0046', 'Split': 'train', 'Path': 'train/James May - On The Line-hlp_0046', 'Original Track Name': 'James May - On The Line', 'Head Position': 'hlp_0046'}, 'James May - On The Line-hlp_0120': {'Track Name': 'James May - On The Line-hlp_0120', 'Split': 'train', 'Path': 'train/James May - On The Line-hlp_0120', 'Original Track Name': 'James May - On The Line', 'Head Position': 'hlp_0120'}, 'James May - On The Line-hlp_0100': {'Track Name': 'James May - On The Line-hlp_0100', 'Split': 'train', 'Path': 'train/James May - On The Line-hlp_0100', 'Original Track Name': 'James May - On The Line', 'Head Position': 'hlp_0100'}, 'Jay Menon - Through My Eyes-hlp_0112': {'Track Name': 'Jay Menon - Through My Eyes-hlp_0112', 'Split': 'train', 'Path': 'train/Jay Menon - Through My Eyes-hlp_0112', 'Original Track Name': 'Jay Menon - Through My Eyes', 'Head Position': 'hlp_0112'}, 'Jay Menon - Through My Eyes-hlp_0023': {'Track Name': 'Jay Menon - Through My Eyes-hlp_0023', 'Split': 'train', 'Path': 'train/Jay Menon - Through My Eyes-hlp_0023', 'Original Track Name': 'Jay Menon - Through My Eyes', 'Head Position': 'hlp_0023'}, 'Jay Menon - Through My Eyes-hlp_0020': {'Track Name': 'Jay Menon - Through My Eyes-hlp_0020', 'Split': 'train', 'Path': 'train/Jay Menon - Through My Eyes-hlp_0020', 'Original Track Name': 'Jay Menon - Through My Eyes', 'Head Position': 'hlp_0020'}, 'Jay Menon - Through My Eyes-hlp_0001': {'Track Name': 'Jay Menon - Through My Eyes-hlp_0001', 'Split': 'train', 'Path': 'train/Jay Menon - Through My Eyes-hlp_0001', 'Original Track Name': 'Jay Menon - Through My Eyes', 'Head Position': 'hlp_0001'}, 'Johnny Lokke - Promises & Lies-hlp_0016': {'Track Name': 'Johnny Lokke - Promises & Lies-hlp_0016', 'Split': 'train', 'Path': 'train/Johnny Lokke - Promises & Lies-hlp_0016', 'Original Track Name': 'Johnny Lokke - Promises & Lies', 'Head Position': 'hlp_0016'}, 'Johnny Lokke - Promises & Lies-hlp_0112': {'Track Name': 'Johnny Lokke - Promises & Lies-hlp_0112', 'Split': 'train', 'Path': 'train/Johnny Lokke - Promises & Lies-hlp_0112', 'Original Track Name': 'Johnny Lokke - Promises & Lies', 'Head Position': 'hlp_0112'}, 'Johnny Lokke - Promises & Lies-hlp_0057': {'Track Name': 'Johnny Lokke - Promises & Lies-hlp_0057', 'Split': 'train', 'Path': 'train/Johnny Lokke - Promises & Lies-hlp_0057', 'Original Track Name': 'Johnny Lokke - Promises & Lies', 'Head Position': 'hlp_0057'}, 'Johnny Lokke - Promises & Lies-hlp_0066': {'Track Name': 'Johnny Lokke - Promises & Lies-hlp_0066', 'Split': 'train', 'Path': 'train/Johnny Lokke - Promises & Lies-hlp_0066', 'Original Track Name': 'Johnny Lokke - Promises & Lies', 'Head Position': 'hlp_0066'}, 'Johnny Lokke - Whisper To A Scream-hlp_0131': {'Track Name': 'Johnny Lokke - Whisper To A Scream-hlp_0131', 'Split': 'train', 'Path': 'train/Johnny Lokke - Whisper To A Scream-hlp_0131', 'Original Track Name': 'Johnny Lokke - Whisper To A Scream', 'Head Position': 'hlp_0131'}, 'Johnny Lokke - Whisper To A Scream-hlp_0083': {'Track Name': 'Johnny Lokke - Whisper To A Scream-hlp_0083', 'Split': 'train', 'Path': 'train/Johnny Lokke - Whisper To A Scream-hlp_0083', 'Original Track Name': 'Johnny Lokke - Whisper To A Scream', 'Head Position': 'hlp_0083'}, 'Johnny Lokke - Whisper To A Scream-hlp_0097': {'Track Name': 'Johnny Lokke - Whisper To A Scream-hlp_0097', 'Split': 'train', 'Path': 'train/Johnny Lokke - Whisper To A Scream-hlp_0097', 'Original Track Name': 'Johnny Lokke - Whisper To A Scream', 'Head Position': 'hlp_0097'}, 'Johnny Lokke - Whisper To A Scream-hlp_0121': {'Track Name': 'Johnny Lokke - Whisper To A Scream-hlp_0121', 'Split': 'train', 'Path': 'train/Johnny Lokke - Whisper To A Scream-hlp_0121', 'Original Track Name': 'Johnny Lokke - Whisper To A Scream', 'Head Position': 'hlp_0121'}, 'Jokers, Jacks & Kings - Sea Of Leaves-hlp_0005': {'Track Name': 'Jokers, Jacks & Kings - Sea Of Leaves-hlp_0005', 'Split': 'train', 'Path': 'train/Jokers, Jacks & Kings - Sea Of Leaves-hlp_0005', 'Original Track Name': 'Jokers, Jacks & Kings - Sea Of Leaves', 'Head Position': 'hlp_0005'}, 'Jokers, Jacks & Kings - Sea Of Leaves-hlp_0118': {'Track Name': 'Jokers, Jacks & Kings - Sea Of Leaves-hlp_0118', 'Split': 'train', 'Path': 'train/Jokers, Jacks & Kings - Sea Of Leaves-hlp_0118', 'Original Track Name': 'Jokers, Jacks & Kings - Sea Of Leaves', 'Head Position': 'hlp_0118'}, 'Jokers, Jacks & Kings - Sea Of Leaves-hlp_0017': {'Track Name': 'Jokers, Jacks & Kings - Sea Of Leaves-hlp_0017', 'Split': 'train', 'Path': 'train/Jokers, Jacks & Kings - Sea Of Leaves-hlp_0017', 'Original Track Name': 'Jokers, Jacks & Kings - Sea Of Leaves', 'Head Position': 'hlp_0017'}, 'Jokers, Jacks & Kings - Sea Of Leaves-hlp_0049': {'Track Name': 'Jokers, Jacks & Kings - Sea Of Leaves-hlp_0049', 'Split': 'train', 'Path': 'train/Jokers, Jacks & Kings - Sea Of Leaves-hlp_0049', 'Original Track Name': 'Jokers, Jacks & Kings - Sea Of Leaves', 'Head Position': 'hlp_0049'}, 'Leaf - Come Around-hlp_0032': {'Track Name': 'Leaf - Come Around-hlp_0032', 'Split': 'train', 'Path': 'train/Leaf - Come Around-hlp_0032', 'Original Track Name': 'Leaf - Come Around', 'Head Position': 'hlp_0032'}, 'Leaf - Come Around-hlp_0046': {'Track Name': 'Leaf - Come Around-hlp_0046', 'Split': 'train', 'Path': 'train/Leaf - Come Around-hlp_0046', 'Original Track Name': 'Leaf - Come Around', 'Head Position': 'hlp_0046'}, 'Leaf - Come Around-hlp_0061': {'Track Name': 'Leaf - Come Around-hlp_0061', 'Split': 'train', 'Path': 'train/Leaf - Come Around-hlp_0061', 'Original Track Name': 'Leaf - Come Around', 'Head Position': 'hlp_0061'}, 'Leaf - Come Around-hlp_0110': {'Track Name': 'Leaf - Come Around-hlp_0110', 'Split': 'train', 'Path': 'train/Leaf - Come Around-hlp_0110', 'Original Track Name': 'Leaf - Come Around', 'Head Position': 'hlp_0110'}, 'Leaf - Summerghost-hlp_0143': {'Track Name': 'Leaf - Summerghost-hlp_0143', 'Split': 'train', 'Path': 'train/Leaf - Summerghost-hlp_0143', 'Original Track Name': 'Leaf - Summerghost', 'Head Position': 'hlp_0143'}, 'Leaf - Summerghost-hlp_0001': {'Track Name': 'Leaf - Summerghost-hlp_0001', 'Split': 'train', 'Path': 'train/Leaf - Summerghost-hlp_0001', 'Original Track Name': 'Leaf - Summerghost', 'Head Position': 'hlp_0001'}, 'Leaf - Summerghost-hlp_0008': {'Track Name': 'Leaf - Summerghost-hlp_0008', 'Split': 'train', 'Path': 'train/Leaf - Summerghost-hlp_0008', 'Original Track Name': 'Leaf - Summerghost', 'Head Position': 'hlp_0008'}, 'Leaf - Summerghost-hlp_0068': {'Track Name': 'Leaf - Summerghost-hlp_0068', 'Split': 'train', 'Path': 'train/Leaf - Summerghost-hlp_0068', 'Original Track Name': 'Leaf - Summerghost', 'Head Position': 'hlp_0068'}, 'Leaf - Wicked-hlp_0080': {'Track Name': 'Leaf - Wicked-hlp_0080', 'Split': 'train', 'Path': 'train/Leaf - Wicked-hlp_0080', 'Original Track Name': 'Leaf - Wicked', 'Head Position': 'hlp_0080'}, 'Leaf - Wicked-hlp_0059': {'Track Name': 'Leaf - Wicked-hlp_0059', 'Split': 'train', 'Path': 'train/Leaf - Wicked-hlp_0059', 'Original Track Name': 'Leaf - Wicked', 'Head Position': 'hlp_0059'}, 'Leaf - Wicked-hlp_0110': {'Track Name': 'Leaf - Wicked-hlp_0110', 'Split': 'train', 'Path': 'train/Leaf - Wicked-hlp_0110', 'Original Track Name': 'Leaf - Wicked', 'Head Position': 'hlp_0110'}, 'Leaf - Wicked-hlp_0001': {'Track Name': 'Leaf - Wicked-hlp_0001', 'Split': 'train', 'Path': 'train/Leaf - Wicked-hlp_0001', 'Original Track Name': 'Leaf - Wicked', 'Head Position': 'hlp_0001'}, 'Lushlife - Toynbee Suite-hlp_0118': {'Track Name': 'Lushlife - Toynbee Suite-hlp_0118', 'Split': 'train', 'Path': 'train/Lushlife - Toynbee Suite-hlp_0118', 'Original Track Name': 'Lushlife - Toynbee Suite', 'Head Position': 'hlp_0118'}, 'Lushlife - Toynbee Suite-hlp_0121': {'Track Name': 'Lushlife - Toynbee Suite-hlp_0121', 'Split': 'train', 'Path': 'train/Lushlife - Toynbee Suite-hlp_0121', 'Original Track Name': 'Lushlife - Toynbee Suite', 'Head Position': 'hlp_0121'}, 'Lushlife - Toynbee Suite-hlp_0027': {'Track Name': 'Lushlife - Toynbee Suite-hlp_0027', 'Split': 'train', 'Path': 'train/Lushlife - Toynbee Suite-hlp_0027', 'Original Track Name': 'Lushlife - Toynbee Suite', 'Head Position': 'hlp_0027'}, 'Lushlife - Toynbee Suite-hlp_0106': {'Track Name': 'Lushlife - Toynbee Suite-hlp_0106', 'Split': 'train', 'Path': 'train/Lushlife - Toynbee Suite-hlp_0106', 'Original Track Name': 'Lushlife - Toynbee Suite', 'Head Position': 'hlp_0106'}, 'Matthew Entwistle - Dont You Ever-hlp_0074': {'Track Name': 'Matthew Entwistle - Dont You Ever-hlp_0074', 'Split': 'train', 'Path': 'train/Matthew Entwistle - Dont You Ever-hlp_0074', 'Original Track Name': 'Matthew Entwistle - Dont You Ever', 'Head Position': 'hlp_0074'}, 'Matthew Entwistle - Dont You Ever-hlp_0027': {'Track Name': 'Matthew Entwistle - Dont You Ever-hlp_0027', 'Split': 'train', 'Path': 'train/Matthew Entwistle - Dont You Ever-hlp_0027', 'Original Track Name': 'Matthew Entwistle - Dont You Ever', 'Head Position': 'hlp_0027'}, 'Matthew Entwistle - Dont You Ever-hlp_0059': {'Track Name': 'Matthew Entwistle - Dont You Ever-hlp_0059', 'Split': 'train', 'Path': 'train/Matthew Entwistle - Dont You Ever-hlp_0059', 'Original Track Name': 'Matthew Entwistle - Dont You Ever', 'Head Position': 'hlp_0059'}, 'Matthew Entwistle - Dont You Ever-hlp_0045': {'Track Name': 'Matthew Entwistle - Dont You Ever-hlp_0045', 'Split': 'train', 'Path': 'train/Matthew Entwistle - Dont You Ever-hlp_0045', 'Original Track Name': 'Matthew Entwistle - Dont You Ever', 'Head Position': 'hlp_0045'}, 'Meaxic - Take A Step-hlp_0125': {'Track Name': 'Meaxic - Take A Step-hlp_0125', 'Split': 'train', 'Path': 'train/Meaxic - Take A Step-hlp_0125', 'Original Track Name': 'Meaxic - Take A Step', 'Head Position': 'hlp_0125'}, 'Meaxic - Take A Step-hlp_0113': {'Track Name': 'Meaxic - Take A Step-hlp_0113', 'Split': 'train', 'Path': 'train/Meaxic - Take A Step-hlp_0113', 'Original Track Name': 'Meaxic - Take A Step', 'Head Position': 'hlp_0113'}, 'Meaxic - Take A Step-hlp_0106': {'Track Name': 'Meaxic - Take A Step-hlp_0106', 'Split': 'train', 'Path': 'train/Meaxic - Take A Step-hlp_0106', 'Original Track Name': 'Meaxic - Take A Step', 'Head Position': 'hlp_0106'}, 'Meaxic - Take A Step-hlp_0109': {'Track Name': 'Meaxic - Take A Step-hlp_0109', 'Split': 'train', 'Path': 'train/Meaxic - Take A Step-hlp_0109', 'Original Track Name': 'Meaxic - Take A Step', 'Head Position': 'hlp_0109'}, 'Meaxic - You Listen-hlp_0103': {'Track Name': 'Meaxic - You Listen-hlp_0103', 'Split': 'train', 'Path': 'train/Meaxic - You Listen-hlp_0103', 'Original Track Name': 'Meaxic - You Listen', 'Head Position': 'hlp_0103'}, 'Meaxic - You Listen-hlp_0076': {'Track Name': 'Meaxic - You Listen-hlp_0076', 'Split': 'train', 'Path': 'train/Meaxic - You Listen-hlp_0076', 'Original Track Name': 'Meaxic - You Listen', 'Head Position': 'hlp_0076'}, 'Meaxic - You Listen-hlp_0019': {'Track Name': 'Meaxic - You Listen-hlp_0019', 'Split': 'train', 'Path': 'train/Meaxic - You Listen-hlp_0019', 'Original Track Name': 'Meaxic - You Listen', 'Head Position': 'hlp_0019'}, 'Meaxic - You Listen-hlp_0058': {'Track Name': 'Meaxic - You Listen-hlp_0058', 'Split': 'train', 'Path': 'train/Meaxic - You Listen-hlp_0058', 'Original Track Name': 'Meaxic - You Listen', 'Head Position': 'hlp_0058'}, 'Music Delta - 80s Rock-hlp_0055': {'Track Name': 'Music Delta - 80s Rock-hlp_0055', 'Split': 'train', 'Path': 'train/Music Delta - 80s Rock-hlp_0055', 'Original Track Name': 'Music Delta - 80s Rock', 'Head Position': 'hlp_0055'}, 'Music Delta - 80s Rock-hlp_0081': {'Track Name': 'Music Delta - 80s Rock-hlp_0081', 'Split': 'train', 'Path': 'train/Music Delta - 80s Rock-hlp_0081', 'Original Track Name': 'Music Delta - 80s Rock', 'Head Position': 'hlp_0081'}, 'Music Delta - 80s Rock-hlp_0018': {'Track Name': 'Music Delta - 80s Rock-hlp_0018', 'Split': 'train', 'Path': 'train/Music Delta - 80s Rock-hlp_0018', 'Original Track Name': 'Music Delta - 80s Rock', 'Head Position': 'hlp_0018'}, 'Music Delta - 80s Rock-hlp_0144': {'Track Name': 'Music Delta - 80s Rock-hlp_0144', 'Split': 'train', 'Path': 'train/Music Delta - 80s Rock-hlp_0144', 'Original Track Name': 'Music Delta - 80s Rock', 'Head Position': 'hlp_0144'}, 'Music Delta - Beatles-hlp_0125': {'Track Name': 'Music Delta - Beatles-hlp_0125', 'Split': 'train', 'Path': 'train/Music Delta - Beatles-hlp_0125', 'Original Track Name': 'Music Delta - Beatles', 'Head Position': 'hlp_0125'}, 'Music Delta - Beatles-hlp_0001': {'Track Name': 'Music Delta - Beatles-hlp_0001', 'Split': 'train', 'Path': 'train/Music Delta - Beatles-hlp_0001', 'Original Track Name': 'Music Delta - Beatles', 'Head Position': 'hlp_0001'}, 'Music Delta - Beatles-hlp_0007': {'Track Name': 'Music Delta - Beatles-hlp_0007', 'Split': 'train', 'Path': 'train/Music Delta - Beatles-hlp_0007', 'Original Track Name': 'Music Delta - Beatles', 'Head Position': 'hlp_0007'}, 'Music Delta - Beatles-hlp_0096': {'Track Name': 'Music Delta - Beatles-hlp_0096', 'Split': 'train', 'Path': 'train/Music Delta - Beatles-hlp_0096', 'Original Track Name': 'Music Delta - Beatles', 'Head Position': 'hlp_0096'}, 'Music Delta - Britpop-hlp_0130': {'Track Name': 'Music Delta - Britpop-hlp_0130', 'Split': 'train', 'Path': 'train/Music Delta - Britpop-hlp_0130', 'Original Track Name': 'Music Delta - Britpop', 'Head Position': 'hlp_0130'}, 'Music Delta - Britpop-hlp_0007': {'Track Name': 'Music Delta - Britpop-hlp_0007', 'Split': 'train', 'Path': 'train/Music Delta - Britpop-hlp_0007', 'Original Track Name': 'Music Delta - Britpop', 'Head Position': 'hlp_0007'}, 'Music Delta - Britpop-hlp_0119': {'Track Name': 'Music Delta - Britpop-hlp_0119', 'Split': 'train', 'Path': 'train/Music Delta - Britpop-hlp_0119', 'Original Track Name': 'Music Delta - Britpop', 'Head Position': 'hlp_0119'}, 'Music Delta - Britpop-hlp_0110': {'Track Name': 'Music Delta - Britpop-hlp_0110', 'Split': 'train', 'Path': 'train/Music Delta - Britpop-hlp_0110', 'Original Track Name': 'Music Delta - Britpop', 'Head Position': 'hlp_0110'}, 'Music Delta - Country1-hlp_0028': {'Track Name': 'Music Delta - Country1-hlp_0028', 'Split': 'train', 'Path': 'train/Music Delta - Country1-hlp_0028', 'Original Track Name': 'Music Delta - Country1', 'Head Position': 'hlp_0028'}, 'Music Delta - Country1-hlp_0089': {'Track Name': 'Music Delta - Country1-hlp_0089', 'Split': 'train', 'Path': 'train/Music Delta - Country1-hlp_0089', 'Original Track Name': 'Music Delta - Country1', 'Head Position': 'hlp_0089'}, 'Music Delta - Country1-hlp_0091': {'Track Name': 'Music Delta - Country1-hlp_0091', 'Split': 'train', 'Path': 'train/Music Delta - Country1-hlp_0091', 'Original Track Name': 'Music Delta - Country1', 'Head Position': 'hlp_0091'}, 'Music Delta - Country1-hlp_0052': {'Track Name': 'Music Delta - Country1-hlp_0052', 'Split': 'train', 'Path': 'train/Music Delta - Country1-hlp_0052', 'Original Track Name': 'Music Delta - Country1', 'Head Position': 'hlp_0052'}, 'Music Delta - Country2-hlp_0064': {'Track Name': 'Music Delta - Country2-hlp_0064', 'Split': 'train', 'Path': 'train/Music Delta - Country2-hlp_0064', 'Original Track Name': 'Music Delta - Country2', 'Head Position': 'hlp_0064'}, 'Music Delta - Country2-hlp_0033': {'Track Name': 'Music Delta - Country2-hlp_0033', 'Split': 'train', 'Path': 'train/Music Delta - Country2-hlp_0033', 'Original Track Name': 'Music Delta - Country2', 'Head Position': 'hlp_0033'}, 'Music Delta - Country2-hlp_0144': {'Track Name': 'Music Delta - Country2-hlp_0144', 'Split': 'train', 'Path': 'train/Music Delta - Country2-hlp_0144', 'Original Track Name': 'Music Delta - Country2', 'Head Position': 'hlp_0144'}, 'Music Delta - Country2-hlp_0087': {'Track Name': 'Music Delta - Country2-hlp_0087', 'Split': 'train', 'Path': 'train/Music Delta - Country2-hlp_0087', 'Original Track Name': 'Music Delta - Country2', 'Head Position': 'hlp_0087'}, 'Music Delta - Disco-hlp_0070': {'Track Name': 'Music Delta - Disco-hlp_0070', 'Split': 'train', 'Path': 'train/Music Delta - Disco-hlp_0070', 'Original Track Name': 'Music Delta - Disco', 'Head Position': 'hlp_0070'}, 'Music Delta - Disco-hlp_0038': {'Track Name': 'Music Delta - Disco-hlp_0038', 'Split': 'train', 'Path': 'train/Music Delta - Disco-hlp_0038', 'Original Track Name': 'Music Delta - Disco', 'Head Position': 'hlp_0038'}, 'Music Delta - Disco-hlp_0121': {'Track Name': 'Music Delta - Disco-hlp_0121', 'Split': 'train', 'Path': 'train/Music Delta - Disco-hlp_0121', 'Original Track Name': 'Music Delta - Disco', 'Head Position': 'hlp_0121'}, 'Music Delta - Disco-hlp_0035': {'Track Name': 'Music Delta - Disco-hlp_0035', 'Split': 'train', 'Path': 'train/Music Delta - Disco-hlp_0035', 'Original Track Name': 'Music Delta - Disco', 'Head Position': 'hlp_0035'}, 'Music Delta - Gospel-hlp_0127': {'Track Name': 'Music Delta - Gospel-hlp_0127', 'Split': 'train', 'Path': 'train/Music Delta - Gospel-hlp_0127', 'Original Track Name': 'Music Delta - Gospel', 'Head Position': 'hlp_0127'}, 'Music Delta - Gospel-hlp_0034': {'Track Name': 'Music Delta - Gospel-hlp_0034', 'Split': 'train', 'Path': 'train/Music Delta - Gospel-hlp_0034', 'Original Track Name': 'Music Delta - Gospel', 'Head Position': 'hlp_0034'}, 'Music Delta - Gospel-hlp_0103': {'Track Name': 'Music Delta - Gospel-hlp_0103', 'Split': 'train', 'Path': 'train/Music Delta - Gospel-hlp_0103', 'Original Track Name': 'Music Delta - Gospel', 'Head Position': 'hlp_0103'}, 'Music Delta - Gospel-hlp_0071': {'Track Name': 'Music Delta - Gospel-hlp_0071', 'Split': 'train', 'Path': 'train/Music Delta - Gospel-hlp_0071', 'Original Track Name': 'Music Delta - Gospel', 'Head Position': 'hlp_0071'}, 'Music Delta - Grunge-hlp_0090': {'Track Name': 'Music Delta - Grunge-hlp_0090', 'Split': 'train', 'Path': 'train/Music Delta - Grunge-hlp_0090', 'Original Track Name': 'Music Delta - Grunge', 'Head Position': 'hlp_0090'}, 'Music Delta - Grunge-hlp_0018': {'Track Name': 'Music Delta - Grunge-hlp_0018', 'Split': 'train', 'Path': 'train/Music Delta - Grunge-hlp_0018', 'Original Track Name': 'Music Delta - Grunge', 'Head Position': 'hlp_0018'}, 'Music Delta - Grunge-hlp_0060': {'Track Name': 'Music Delta - Grunge-hlp_0060', 'Split': 'train', 'Path': 'train/Music Delta - Grunge-hlp_0060', 'Original Track Name': 'Music Delta - Grunge', 'Head Position': 'hlp_0060'}, 'Music Delta - Grunge-hlp_0113': {'Track Name': 'Music Delta - Grunge-hlp_0113', 'Split': 'train', 'Path': 'train/Music Delta - Grunge-hlp_0113', 'Original Track Name': 'Music Delta - Grunge', 'Head Position': 'hlp_0113'}, 'Music Delta - Hendrix-hlp_0075': {'Track Name': 'Music Delta - Hendrix-hlp_0075', 'Split': 'train', 'Path': 'train/Music Delta - Hendrix-hlp_0075', 'Original Track Name': 'Music Delta - Hendrix', 'Head Position': 'hlp_0075'}, 'Music Delta - Hendrix-hlp_0002': {'Track Name': 'Music Delta - Hendrix-hlp_0002', 'Split': 'train', 'Path': 'train/Music Delta - Hendrix-hlp_0002', 'Original Track Name': 'Music Delta - Hendrix', 'Head Position': 'hlp_0002'}, 'Music Delta - Hendrix-hlp_0068': {'Track Name': 'Music Delta - Hendrix-hlp_0068', 'Split': 'train', 'Path': 'train/Music Delta - Hendrix-hlp_0068', 'Original Track Name': 'Music Delta - Hendrix', 'Head Position': 'hlp_0068'}, 'Music Delta - Hendrix-hlp_0124': {'Track Name': 'Music Delta - Hendrix-hlp_0124', 'Split': 'train', 'Path': 'train/Music Delta - Hendrix-hlp_0124', 'Original Track Name': 'Music Delta - Hendrix', 'Head Position': 'hlp_0124'}, 'Music Delta - Punk-hlp_0005': {'Track Name': 'Music Delta - Punk-hlp_0005', 'Split': 'train', 'Path': 'train/Music Delta - Punk-hlp_0005', 'Original Track Name': 'Music Delta - Punk', 'Head Position': 'hlp_0005'}, 'Music Delta - Punk-hlp_0122': {'Track Name': 'Music Delta - Punk-hlp_0122', 'Split': 'train', 'Path': 'train/Music Delta - Punk-hlp_0122', 'Original Track Name': 'Music Delta - Punk', 'Head Position': 'hlp_0122'}, 'Music Delta - Punk-hlp_0079': {'Track Name': 'Music Delta - Punk-hlp_0079', 'Split': 'train', 'Path': 'train/Music Delta - Punk-hlp_0079', 'Original Track Name': 'Music Delta - Punk', 'Head Position': 'hlp_0079'}, 'Music Delta - Punk-hlp_0001': {'Track Name': 'Music Delta - Punk-hlp_0001', 'Split': 'train', 'Path': 'train/Music Delta - Punk-hlp_0001', 'Original Track Name': 'Music Delta - Punk', 'Head Position': 'hlp_0001'}, 'Music Delta - Reggae-hlp_0061': {'Track Name': 'Music Delta - Reggae-hlp_0061', 'Split': 'train', 'Path': 'train/Music Delta - Reggae-hlp_0061', 'Original Track Name': 'Music Delta - Reggae', 'Head Position': 'hlp_0061'}, 'Music Delta - Reggae-hlp_0035': {'Track Name': 'Music Delta - Reggae-hlp_0035', 'Split': 'train', 'Path': 'train/Music Delta - Reggae-hlp_0035', 'Original Track Name': 'Music Delta - Reggae', 'Head Position': 'hlp_0035'}, 'Music Delta - Reggae-hlp_0143': {'Track Name': 'Music Delta - Reggae-hlp_0143', 'Split': 'train', 'Path': 'train/Music Delta - Reggae-hlp_0143', 'Original Track Name': 'Music Delta - Reggae', 'Head Position': 'hlp_0143'}, 'Music Delta - Reggae-hlp_0107': {'Track Name': 'Music Delta - Reggae-hlp_0107', 'Split': 'train', 'Path': 'train/Music Delta - Reggae-hlp_0107', 'Original Track Name': 'Music Delta - Reggae', 'Head Position': 'hlp_0107'}, 'Music Delta - Rock-hlp_0058': {'Track Name': 'Music Delta - Rock-hlp_0058', 'Split': 'train', 'Path': 'train/Music Delta - Rock-hlp_0058', 'Original Track Name': 'Music Delta - Rock', 'Head Position': 'hlp_0058'}, 'Music Delta - Rock-hlp_0128': {'Track Name': 'Music Delta - Rock-hlp_0128', 'Split': 'train', 'Path': 'train/Music Delta - Rock-hlp_0128', 'Original Track Name': 'Music Delta - Rock', 'Head Position': 'hlp_0128'}, 'Music Delta - Rock-hlp_0141': {'Track Name': 'Music Delta - Rock-hlp_0141', 'Split': 'train', 'Path': 'train/Music Delta - Rock-hlp_0141', 'Original Track Name': 'Music Delta - Rock', 'Head Position': 'hlp_0141'}, 'Music Delta - Rock-hlp_0049': {'Track Name': 'Music Delta - Rock-hlp_0049', 'Split': 'train', 'Path': 'train/Music Delta - Rock-hlp_0049', 'Original Track Name': 'Music Delta - Rock', 'Head Position': 'hlp_0049'}, 'Music Delta - Rockabilly-hlp_0103': {'Track Name': 'Music Delta - Rockabilly-hlp_0103', 'Split': 'train', 'Path': 'train/Music Delta - Rockabilly-hlp_0103', 'Original Track Name': 'Music Delta - Rockabilly', 'Head Position': 'hlp_0103'}, 'Music Delta - Rockabilly-hlp_0126': {'Track Name': 'Music Delta - Rockabilly-hlp_0126', 'Split': 'train', 'Path': 'train/Music Delta - Rockabilly-hlp_0126', 'Original Track Name': 'Music Delta - Rockabilly', 'Head Position': 'hlp_0126'}, 'Music Delta - Rockabilly-hlp_0050': {'Track Name': 'Music Delta - Rockabilly-hlp_0050', 'Split': 'train', 'Path': 'train/Music Delta - Rockabilly-hlp_0050', 'Original Track Name': 'Music Delta - Rockabilly', 'Head Position': 'hlp_0050'}, 'Music Delta - Rockabilly-hlp_0106': {'Track Name': 'Music Delta - Rockabilly-hlp_0106', 'Split': 'train', 'Path': 'train/Music Delta - Rockabilly-hlp_0106', 'Original Track Name': 'Music Delta - Rockabilly', 'Head Position': 'hlp_0106'}, 'Night Panther - Fire-hlp_0113': {'Track Name': 'Night Panther - Fire-hlp_0113', 'Split': 'train', 'Path': 'train/Night Panther - Fire-hlp_0113', 'Original Track Name': 'Night Panther - Fire', 'Head Position': 'hlp_0113'}, 'Night Panther - Fire-hlp_0091': {'Track Name': 'Night Panther - Fire-hlp_0091', 'Split': 'train', 'Path': 'train/Night Panther - Fire-hlp_0091', 'Original Track Name': 'Night Panther - Fire', 'Head Position': 'hlp_0091'}, 'Night Panther - Fire-hlp_0132': {'Track Name': 'Night Panther - Fire-hlp_0132', 'Split': 'train', 'Path': 'train/Night Panther - Fire-hlp_0132', 'Original Track Name': 'Night Panther - Fire', 'Head Position': 'hlp_0132'}, 'Night Panther - Fire-hlp_0108': {'Track Name': 'Night Panther - Fire-hlp_0108', 'Split': 'train', 'Path': 'train/Night Panther - Fire-hlp_0108', 'Original Track Name': 'Night Panther - Fire', 'Head Position': 'hlp_0108'}, 'North To Alaska - All The Same-hlp_0034': {'Track Name': 'North To Alaska - All The Same-hlp_0034', 'Split': 'train', 'Path': 'train/North To Alaska - All The Same-hlp_0034', 'Original Track Name': 'North To Alaska - All The Same', 'Head Position': 'hlp_0034'}, 'North To Alaska - All The Same-hlp_0051': {'Track Name': 'North To Alaska - All The Same-hlp_0051', 'Split': 'train', 'Path': 'train/North To Alaska - All The Same-hlp_0051', 'Original Track Name': 'North To Alaska - All The Same', 'Head Position': 'hlp_0051'}, 'North To Alaska - All The Same-hlp_0031': {'Track Name': 'North To Alaska - All The Same-hlp_0031', 'Split': 'train', 'Path': 'train/North To Alaska - All The Same-hlp_0031', 'Original Track Name': 'North To Alaska - All The Same', 'Head Position': 'hlp_0031'}, 'North To Alaska - All The Same-hlp_0046': {'Track Name': 'North To Alaska - All The Same-hlp_0046', 'Split': 'train', 'Path': 'train/North To Alaska - All The Same-hlp_0046', 'Original Track Name': 'North To Alaska - All The Same', 'Head Position': 'hlp_0046'}, 'Patrick Talbot - A Reason To Leave-hlp_0099': {'Track Name': 'Patrick Talbot - A Reason To Leave-hlp_0099', 'Split': 'train', 'Path': 'train/Patrick Talbot - A Reason To Leave-hlp_0099', 'Original Track Name': 'Patrick Talbot - A Reason To Leave', 'Head Position': 'hlp_0099'}, 'Patrick Talbot - A Reason To Leave-hlp_0012': {'Track Name': 'Patrick Talbot - A Reason To Leave-hlp_0012', 'Split': 'train', 'Path': 'train/Patrick Talbot - A Reason To Leave-hlp_0012', 'Original Track Name': 'Patrick Talbot - A Reason To Leave', 'Head Position': 'hlp_0012'}, 'Patrick Talbot - A Reason To Leave-hlp_0079': {'Track Name': 'Patrick Talbot - A Reason To Leave-hlp_0079', 'Split': 'train', 'Path': 'train/Patrick Talbot - A Reason To Leave-hlp_0079', 'Original Track Name': 'Patrick Talbot - A Reason To Leave', 'Head Position': 'hlp_0079'}, 'Patrick Talbot - A Reason To Leave-hlp_0087': {'Track Name': 'Patrick Talbot - A Reason To Leave-hlp_0087', 'Split': 'train', 'Path': 'train/Patrick Talbot - A Reason To Leave-hlp_0087', 'Original Track Name': 'Patrick Talbot - A Reason To Leave', 'Head Position': 'hlp_0087'}, 'Patrick Talbot - Set Me Free-hlp_0140': {'Track Name': 'Patrick Talbot - Set Me Free-hlp_0140', 'Split': 'train', 'Path': 'train/Patrick Talbot - Set Me Free-hlp_0140', 'Original Track Name': 'Patrick Talbot - Set Me Free', 'Head Position': 'hlp_0140'}, 'Patrick Talbot - Set Me Free-hlp_0053': {'Track Name': 'Patrick Talbot - Set Me Free-hlp_0053', 'Split': 'train', 'Path': 'train/Patrick Talbot - Set Me Free-hlp_0053', 'Original Track Name': 'Patrick Talbot - Set Me Free', 'Head Position': 'hlp_0053'}, 'Patrick Talbot - Set Me Free-hlp_0067': {'Track Name': 'Patrick Talbot - Set Me Free-hlp_0067', 'Split': 'train', 'Path': 'train/Patrick Talbot - Set Me Free-hlp_0067', 'Original Track Name': 'Patrick Talbot - Set Me Free', 'Head Position': 'hlp_0067'}, 'Patrick Talbot - Set Me Free-hlp_0080': {'Track Name': 'Patrick Talbot - Set Me Free-hlp_0080', 'Split': 'train', 'Path': 'train/Patrick Talbot - Set Me Free-hlp_0080', 'Original Track Name': 'Patrick Talbot - Set Me Free', 'Head Position': 'hlp_0080'}, \"Phre The Eon - Everybody's Falling Apart-hlp_0030\": {'Track Name': \"Phre The Eon - Everybody's Falling Apart-hlp_0030\", 'Split': 'train', 'Path': \"train/Phre The Eon - Everybody's Falling Apart-hlp_0030\", 'Original Track Name': \"Phre The Eon - Everybody's Falling Apart\", 'Head Position': 'hlp_0030'}, \"Phre The Eon - Everybody's Falling Apart-hlp_0082\": {'Track Name': \"Phre The Eon - Everybody's Falling Apart-hlp_0082\", 'Split': 'train', 'Path': \"train/Phre The Eon - Everybody's Falling Apart-hlp_0082\", 'Original Track Name': \"Phre The Eon - Everybody's Falling Apart\", 'Head Position': 'hlp_0082'}, \"Phre The Eon - Everybody's Falling Apart-hlp_0119\": {'Track Name': \"Phre The Eon - Everybody's Falling Apart-hlp_0119\", 'Split': 'train', 'Path': \"train/Phre The Eon - Everybody's Falling Apart-hlp_0119\", 'Original Track Name': \"Phre The Eon - Everybody's Falling Apart\", 'Head Position': 'hlp_0119'}, \"Phre The Eon - Everybody's Falling Apart-hlp_0133\": {'Track Name': \"Phre The Eon - Everybody's Falling Apart-hlp_0133\", 'Split': 'train', 'Path': \"train/Phre The Eon - Everybody's Falling Apart-hlp_0133\", 'Original Track Name': \"Phre The Eon - Everybody's Falling Apart\", 'Head Position': 'hlp_0133'}, 'Port St Willow - Stay Even-hlp_0065': {'Track Name': 'Port St Willow - Stay Even-hlp_0065', 'Split': 'train', 'Path': 'train/Port St Willow - Stay Even-hlp_0065', 'Original Track Name': 'Port St Willow - Stay Even', 'Head Position': 'hlp_0065'}, 'Port St Willow - Stay Even-hlp_0123': {'Track Name': 'Port St Willow - Stay Even-hlp_0123', 'Split': 'train', 'Path': 'train/Port St Willow - Stay Even-hlp_0123', 'Original Track Name': 'Port St Willow - Stay Even', 'Head Position': 'hlp_0123'}, 'Port St Willow - Stay Even-hlp_0135': {'Track Name': 'Port St Willow - Stay Even-hlp_0135', 'Split': 'train', 'Path': 'train/Port St Willow - Stay Even-hlp_0135', 'Original Track Name': 'Port St Willow - Stay Even', 'Head Position': 'hlp_0135'}, 'Port St Willow - Stay Even-hlp_0140': {'Track Name': 'Port St Willow - Stay Even-hlp_0140', 'Split': 'train', 'Path': 'train/Port St Willow - Stay Even-hlp_0140', 'Original Track Name': 'Port St Willow - Stay Even', 'Head Position': 'hlp_0140'}, 'Remember December - C U Next Time-hlp_0060': {'Track Name': 'Remember December - C U Next Time-hlp_0060', 'Split': 'train', 'Path': 'train/Remember December - C U Next Time-hlp_0060', 'Original Track Name': 'Remember December - C U Next Time', 'Head Position': 'hlp_0060'}, 'Remember December - C U Next Time-hlp_0144': {'Track Name': 'Remember December - C U Next Time-hlp_0144', 'Split': 'train', 'Path': 'train/Remember December - C U Next Time-hlp_0144', 'Original Track Name': 'Remember December - C U Next Time', 'Head Position': 'hlp_0144'}, 'Remember December - C U Next Time-hlp_0015': {'Track Name': 'Remember December - C U Next Time-hlp_0015', 'Split': 'train', 'Path': 'train/Remember December - C U Next Time-hlp_0015', 'Original Track Name': 'Remember December - C U Next Time', 'Head Position': 'hlp_0015'}, 'Remember December - C U Next Time-hlp_0135': {'Track Name': 'Remember December - C U Next Time-hlp_0135', 'Split': 'train', 'Path': 'train/Remember December - C U Next Time-hlp_0135', 'Original Track Name': 'Remember December - C U Next Time', 'Head Position': 'hlp_0135'}, 'Secret Mountains - High Horse-hlp_0067': {'Track Name': 'Secret Mountains - High Horse-hlp_0067', 'Split': 'train', 'Path': 'train/Secret Mountains - High Horse-hlp_0067', 'Original Track Name': 'Secret Mountains - High Horse', 'Head Position': 'hlp_0067'}, 'Secret Mountains - High Horse-hlp_0068': {'Track Name': 'Secret Mountains - High Horse-hlp_0068', 'Split': 'train', 'Path': 'train/Secret Mountains - High Horse-hlp_0068', 'Original Track Name': 'Secret Mountains - High Horse', 'Head Position': 'hlp_0068'}, 'Secret Mountains - High Horse-hlp_0081': {'Track Name': 'Secret Mountains - High Horse-hlp_0081', 'Split': 'train', 'Path': 'train/Secret Mountains - High Horse-hlp_0081', 'Original Track Name': 'Secret Mountains - High Horse', 'Head Position': 'hlp_0081'}, 'Secret Mountains - High Horse-hlp_0099': {'Track Name': 'Secret Mountains - High Horse-hlp_0099', 'Split': 'train', 'Path': 'train/Secret Mountains - High Horse-hlp_0099', 'Original Track Name': 'Secret Mountains - High Horse', 'Head Position': 'hlp_0099'}, 'Skelpolu - Human Mistakes-hlp_0099': {'Track Name': 'Skelpolu - Human Mistakes-hlp_0099', 'Split': 'train', 'Path': 'train/Skelpolu - Human Mistakes-hlp_0099', 'Original Track Name': 'Skelpolu - Human Mistakes', 'Head Position': 'hlp_0099'}, 'Skelpolu - Human Mistakes-hlp_0070': {'Track Name': 'Skelpolu - Human Mistakes-hlp_0070', 'Split': 'train', 'Path': 'train/Skelpolu - Human Mistakes-hlp_0070', 'Original Track Name': 'Skelpolu - Human Mistakes', 'Head Position': 'hlp_0070'}, 'Skelpolu - Human Mistakes-hlp_0106': {'Track Name': 'Skelpolu - Human Mistakes-hlp_0106', 'Split': 'train', 'Path': 'train/Skelpolu - Human Mistakes-hlp_0106', 'Original Track Name': 'Skelpolu - Human Mistakes', 'Head Position': 'hlp_0106'}, 'Skelpolu - Human Mistakes-hlp_0046': {'Track Name': 'Skelpolu - Human Mistakes-hlp_0046', 'Split': 'train', 'Path': 'train/Skelpolu - Human Mistakes-hlp_0046', 'Original Track Name': 'Skelpolu - Human Mistakes', 'Head Position': 'hlp_0046'}, 'Skelpolu - Together Alone-hlp_0123': {'Track Name': 'Skelpolu - Together Alone-hlp_0123', 'Split': 'train', 'Path': 'train/Skelpolu - Together Alone-hlp_0123', 'Original Track Name': 'Skelpolu - Together Alone', 'Head Position': 'hlp_0123'}, 'Skelpolu - Together Alone-hlp_0032': {'Track Name': 'Skelpolu - Together Alone-hlp_0032', 'Split': 'train', 'Path': 'train/Skelpolu - Together Alone-hlp_0032', 'Original Track Name': 'Skelpolu - Together Alone', 'Head Position': 'hlp_0032'}, 'Skelpolu - Together Alone-hlp_0067': {'Track Name': 'Skelpolu - Together Alone-hlp_0067', 'Split': 'train', 'Path': 'train/Skelpolu - Together Alone-hlp_0067', 'Original Track Name': 'Skelpolu - Together Alone', 'Head Position': 'hlp_0067'}, 'Skelpolu - Together Alone-hlp_0107': {'Track Name': 'Skelpolu - Together Alone-hlp_0107', 'Split': 'train', 'Path': 'train/Skelpolu - Together Alone-hlp_0107', 'Original Track Name': 'Skelpolu - Together Alone', 'Head Position': 'hlp_0107'}, 'Snowmine - Curfews-hlp_0137': {'Track Name': 'Snowmine - Curfews-hlp_0137', 'Split': 'train', 'Path': 'train/Snowmine - Curfews-hlp_0137', 'Original Track Name': 'Snowmine - Curfews', 'Head Position': 'hlp_0137'}, 'Snowmine - Curfews-hlp_0034': {'Track Name': 'Snowmine - Curfews-hlp_0034', 'Split': 'train', 'Path': 'train/Snowmine - Curfews-hlp_0034', 'Original Track Name': 'Snowmine - Curfews', 'Head Position': 'hlp_0034'}, 'Snowmine - Curfews-hlp_0102': {'Track Name': 'Snowmine - Curfews-hlp_0102', 'Split': 'train', 'Path': 'train/Snowmine - Curfews-hlp_0102', 'Original Track Name': 'Snowmine - Curfews', 'Head Position': 'hlp_0102'}, 'Snowmine - Curfews-hlp_0140': {'Track Name': 'Snowmine - Curfews-hlp_0140', 'Split': 'train', 'Path': 'train/Snowmine - Curfews-hlp_0140', 'Original Track Name': 'Snowmine - Curfews', 'Head Position': 'hlp_0140'}, \"Spike Mullings - Mike's Sulking-hlp_0009\": {'Track Name': \"Spike Mullings - Mike's Sulking-hlp_0009\", 'Split': 'train', 'Path': \"train/Spike Mullings - Mike's Sulking-hlp_0009\", 'Original Track Name': \"Spike Mullings - Mike's Sulking\", 'Head Position': 'hlp_0009'}, \"Spike Mullings - Mike's Sulking-hlp_0125\": {'Track Name': \"Spike Mullings - Mike's Sulking-hlp_0125\", 'Split': 'train', 'Path': \"train/Spike Mullings - Mike's Sulking-hlp_0125\", 'Original Track Name': \"Spike Mullings - Mike's Sulking\", 'Head Position': 'hlp_0125'}, \"Spike Mullings - Mike's Sulking-hlp_0063\": {'Track Name': \"Spike Mullings - Mike's Sulking-hlp_0063\", 'Split': 'train', 'Path': \"train/Spike Mullings - Mike's Sulking-hlp_0063\", 'Original Track Name': \"Spike Mullings - Mike's Sulking\", 'Head Position': 'hlp_0063'}, \"Spike Mullings - Mike's Sulking-hlp_0103\": {'Track Name': \"Spike Mullings - Mike's Sulking-hlp_0103\", 'Split': 'train', 'Path': \"train/Spike Mullings - Mike's Sulking-hlp_0103\", 'Original Track Name': \"Spike Mullings - Mike's Sulking\", 'Head Position': 'hlp_0103'}, 'St Vitus - Word Gets Around-hlp_0074': {'Track Name': 'St Vitus - Word Gets Around-hlp_0074', 'Split': 'train', 'Path': 'train/St Vitus - Word Gets Around-hlp_0074', 'Original Track Name': 'St Vitus - Word Gets Around', 'Head Position': 'hlp_0074'}, 'St Vitus - Word Gets Around-hlp_0077': {'Track Name': 'St Vitus - Word Gets Around-hlp_0077', 'Split': 'train', 'Path': 'train/St Vitus - Word Gets Around-hlp_0077', 'Original Track Name': 'St Vitus - Word Gets Around', 'Head Position': 'hlp_0077'}, 'St Vitus - Word Gets Around-hlp_0143': {'Track Name': 'St Vitus - Word Gets Around-hlp_0143', 'Split': 'train', 'Path': 'train/St Vitus - Word Gets Around-hlp_0143', 'Original Track Name': 'St Vitus - Word Gets Around', 'Head Position': 'hlp_0143'}, 'St Vitus - Word Gets Around-hlp_0106': {'Track Name': 'St Vitus - Word Gets Around-hlp_0106', 'Split': 'train', 'Path': 'train/St Vitus - Word Gets Around-hlp_0106', 'Original Track Name': 'St Vitus - Word Gets Around', 'Head Position': 'hlp_0106'}, 'Steven Clark - Bounty-hlp_0079': {'Track Name': 'Steven Clark - Bounty-hlp_0079', 'Split': 'train', 'Path': 'train/Steven Clark - Bounty-hlp_0079', 'Original Track Name': 'Steven Clark - Bounty', 'Head Position': 'hlp_0079'}, 'Steven Clark - Bounty-hlp_0038': {'Track Name': 'Steven Clark - Bounty-hlp_0038', 'Split': 'train', 'Path': 'train/Steven Clark - Bounty-hlp_0038', 'Original Track Name': 'Steven Clark - Bounty', 'Head Position': 'hlp_0038'}, 'Steven Clark - Bounty-hlp_0144': {'Track Name': 'Steven Clark - Bounty-hlp_0144', 'Split': 'train', 'Path': 'train/Steven Clark - Bounty-hlp_0144', 'Original Track Name': 'Steven Clark - Bounty', 'Head Position': 'hlp_0144'}, 'Steven Clark - Bounty-hlp_0087': {'Track Name': 'Steven Clark - Bounty-hlp_0087', 'Split': 'train', 'Path': 'train/Steven Clark - Bounty-hlp_0087', 'Original Track Name': 'Steven Clark - Bounty', 'Head Position': 'hlp_0087'}, 'Strand Of Oaks - Spacestation-hlp_0064': {'Track Name': 'Strand Of Oaks - Spacestation-hlp_0064', 'Split': 'train', 'Path': 'train/Strand Of Oaks - Spacestation-hlp_0064', 'Original Track Name': 'Strand Of Oaks - Spacestation', 'Head Position': 'hlp_0064'}, 'Strand Of Oaks - Spacestation-hlp_0049': {'Track Name': 'Strand Of Oaks - Spacestation-hlp_0049', 'Split': 'train', 'Path': 'train/Strand Of Oaks - Spacestation-hlp_0049', 'Original Track Name': 'Strand Of Oaks - Spacestation', 'Head Position': 'hlp_0049'}, 'Strand Of Oaks - Spacestation-hlp_0012': {'Track Name': 'Strand Of Oaks - Spacestation-hlp_0012', 'Split': 'train', 'Path': 'train/Strand Of Oaks - Spacestation-hlp_0012', 'Original Track Name': 'Strand Of Oaks - Spacestation', 'Head Position': 'hlp_0012'}, 'Strand Of Oaks - Spacestation-hlp_0082': {'Track Name': 'Strand Of Oaks - Spacestation-hlp_0082', 'Split': 'train', 'Path': 'train/Strand Of Oaks - Spacestation-hlp_0082', 'Original Track Name': 'Strand Of Oaks - Spacestation', 'Head Position': 'hlp_0082'}, 'Sweet Lights - You Let Me Down-hlp_0039': {'Track Name': 'Sweet Lights - You Let Me Down-hlp_0039', 'Split': 'train', 'Path': 'train/Sweet Lights - You Let Me Down-hlp_0039', 'Original Track Name': 'Sweet Lights - You Let Me Down', 'Head Position': 'hlp_0039'}, 'Sweet Lights - You Let Me Down-hlp_0060': {'Track Name': 'Sweet Lights - You Let Me Down-hlp_0060', 'Split': 'train', 'Path': 'train/Sweet Lights - You Let Me Down-hlp_0060', 'Original Track Name': 'Sweet Lights - You Let Me Down', 'Head Position': 'hlp_0060'}, 'Sweet Lights - You Let Me Down-hlp_0026': {'Track Name': 'Sweet Lights - You Let Me Down-hlp_0026', 'Split': 'train', 'Path': 'train/Sweet Lights - You Let Me Down-hlp_0026', 'Original Track Name': 'Sweet Lights - You Let Me Down', 'Head Position': 'hlp_0026'}, 'Sweet Lights - You Let Me Down-hlp_0015': {'Track Name': 'Sweet Lights - You Let Me Down-hlp_0015', 'Split': 'train', 'Path': 'train/Sweet Lights - You Let Me Down-hlp_0015', 'Original Track Name': 'Sweet Lights - You Let Me Down', 'Head Position': 'hlp_0015'}, 'Swinging Steaks - Lost My Way-hlp_0130': {'Track Name': 'Swinging Steaks - Lost My Way-hlp_0130', 'Split': 'train', 'Path': 'train/Swinging Steaks - Lost My Way-hlp_0130', 'Original Track Name': 'Swinging Steaks - Lost My Way', 'Head Position': 'hlp_0130'}, 'Swinging Steaks - Lost My Way-hlp_0090': {'Track Name': 'Swinging Steaks - Lost My Way-hlp_0090', 'Split': 'train', 'Path': 'train/Swinging Steaks - Lost My Way-hlp_0090', 'Original Track Name': 'Swinging Steaks - Lost My Way', 'Head Position': 'hlp_0090'}, 'Swinging Steaks - Lost My Way-hlp_0033': {'Track Name': 'Swinging Steaks - Lost My Way-hlp_0033', 'Split': 'train', 'Path': 'train/Swinging Steaks - Lost My Way-hlp_0033', 'Original Track Name': 'Swinging Steaks - Lost My Way', 'Head Position': 'hlp_0033'}, 'Swinging Steaks - Lost My Way-hlp_0017': {'Track Name': 'Swinging Steaks - Lost My Way-hlp_0017', 'Split': 'train', 'Path': 'train/Swinging Steaks - Lost My Way-hlp_0017', 'Original Track Name': 'Swinging Steaks - Lost My Way', 'Head Position': 'hlp_0017'}, 'The Districts - Vermont-hlp_0026': {'Track Name': 'The Districts - Vermont-hlp_0026', 'Split': 'train', 'Path': 'train/The Districts - Vermont-hlp_0026', 'Original Track Name': 'The Districts - Vermont', 'Head Position': 'hlp_0026'}, 'The Districts - Vermont-hlp_0045': {'Track Name': 'The Districts - Vermont-hlp_0045', 'Split': 'train', 'Path': 'train/The Districts - Vermont-hlp_0045', 'Original Track Name': 'The Districts - Vermont', 'Head Position': 'hlp_0045'}, 'The Districts - Vermont-hlp_0035': {'Track Name': 'The Districts - Vermont-hlp_0035', 'Split': 'train', 'Path': 'train/The Districts - Vermont-hlp_0035', 'Original Track Name': 'The Districts - Vermont', 'Head Position': 'hlp_0035'}, 'The Districts - Vermont-hlp_0033': {'Track Name': 'The Districts - Vermont-hlp_0033', 'Split': 'train', 'Path': 'train/The Districts - Vermont-hlp_0033', 'Original Track Name': 'The Districts - Vermont', 'Head Position': 'hlp_0033'}, 'The Long Wait - Back Home To Blue-hlp_0002': {'Track Name': 'The Long Wait - Back Home To Blue-hlp_0002', 'Split': 'train', 'Path': 'train/The Long Wait - Back Home To Blue-hlp_0002', 'Original Track Name': 'The Long Wait - Back Home To Blue', 'Head Position': 'hlp_0002'}, 'The Long Wait - Back Home To Blue-hlp_0116': {'Track Name': 'The Long Wait - Back Home To Blue-hlp_0116', 'Split': 'train', 'Path': 'train/The Long Wait - Back Home To Blue-hlp_0116', 'Original Track Name': 'The Long Wait - Back Home To Blue', 'Head Position': 'hlp_0116'}, 'The Long Wait - Back Home To Blue-hlp_0090': {'Track Name': 'The Long Wait - Back Home To Blue-hlp_0090', 'Split': 'train', 'Path': 'train/The Long Wait - Back Home To Blue-hlp_0090', 'Original Track Name': 'The Long Wait - Back Home To Blue', 'Head Position': 'hlp_0090'}, 'The Long Wait - Back Home To Blue-hlp_0082': {'Track Name': 'The Long Wait - Back Home To Blue-hlp_0082', 'Split': 'train', 'Path': 'train/The Long Wait - Back Home To Blue-hlp_0082', 'Original Track Name': 'The Long Wait - Back Home To Blue', 'Head Position': 'hlp_0082'}, 'The Scarlet Brand - Les Fleurs Du Mal-hlp_0001': {'Track Name': 'The Scarlet Brand - Les Fleurs Du Mal-hlp_0001', 'Split': 'train', 'Path': 'train/The Scarlet Brand - Les Fleurs Du Mal-hlp_0001', 'Original Track Name': 'The Scarlet Brand - Les Fleurs Du Mal', 'Head Position': 'hlp_0001'}, 'The Scarlet Brand - Les Fleurs Du Mal-hlp_0134': {'Track Name': 'The Scarlet Brand - Les Fleurs Du Mal-hlp_0134', 'Split': 'train', 'Path': 'train/The Scarlet Brand - Les Fleurs Du Mal-hlp_0134', 'Original Track Name': 'The Scarlet Brand - Les Fleurs Du Mal', 'Head Position': 'hlp_0134'}, 'The Scarlet Brand - Les Fleurs Du Mal-hlp_0116': {'Track Name': 'The Scarlet Brand - Les Fleurs Du Mal-hlp_0116', 'Split': 'train', 'Path': 'train/The Scarlet Brand - Les Fleurs Du Mal-hlp_0116', 'Original Track Name': 'The Scarlet Brand - Les Fleurs Du Mal', 'Head Position': 'hlp_0116'}, 'The Scarlet Brand - Les Fleurs Du Mal-hlp_0037': {'Track Name': 'The Scarlet Brand - Les Fleurs Du Mal-hlp_0037', 'Split': 'train', 'Path': 'train/The Scarlet Brand - Les Fleurs Du Mal-hlp_0037', 'Original Track Name': 'The Scarlet Brand - Les Fleurs Du Mal', 'Head Position': 'hlp_0037'}, 'The So So Glos - Emergency-hlp_0049': {'Track Name': 'The So So Glos - Emergency-hlp_0049', 'Split': 'train', 'Path': 'train/The So So Glos - Emergency-hlp_0049', 'Original Track Name': 'The So So Glos - Emergency', 'Head Position': 'hlp_0049'}, 'The So So Glos - Emergency-hlp_0088': {'Track Name': 'The So So Glos - Emergency-hlp_0088', 'Split': 'train', 'Path': 'train/The So So Glos - Emergency-hlp_0088', 'Original Track Name': 'The So So Glos - Emergency', 'Head Position': 'hlp_0088'}, 'The So So Glos - Emergency-hlp_0052': {'Track Name': 'The So So Glos - Emergency-hlp_0052', 'Split': 'train', 'Path': 'train/The So So Glos - Emergency-hlp_0052', 'Original Track Name': 'The So So Glos - Emergency', 'Head Position': 'hlp_0052'}, 'The So So Glos - Emergency-hlp_0078': {'Track Name': 'The So So Glos - Emergency-hlp_0078', 'Split': 'train', 'Path': 'train/The So So Glos - Emergency-hlp_0078', 'Original Track Name': 'The So So Glos - Emergency', 'Head Position': 'hlp_0078'}, \"The Wrong'Uns - Rothko-hlp_0114\": {'Track Name': \"The Wrong'Uns - Rothko-hlp_0114\", 'Split': 'train', 'Path': \"train/The Wrong'Uns - Rothko-hlp_0114\", 'Original Track Name': \"The Wrong'Uns - Rothko\", 'Head Position': 'hlp_0114'}, \"The Wrong'Uns - Rothko-hlp_0115\": {'Track Name': \"The Wrong'Uns - Rothko-hlp_0115\", 'Split': 'train', 'Path': \"train/The Wrong'Uns - Rothko-hlp_0115\", 'Original Track Name': \"The Wrong'Uns - Rothko\", 'Head Position': 'hlp_0115'}, \"The Wrong'Uns - Rothko-hlp_0047\": {'Track Name': \"The Wrong'Uns - Rothko-hlp_0047\", 'Split': 'train', 'Path': \"train/The Wrong'Uns - Rothko-hlp_0047\", 'Original Track Name': \"The Wrong'Uns - Rothko\", 'Head Position': 'hlp_0047'}, \"The Wrong'Uns - Rothko-hlp_0018\": {'Track Name': \"The Wrong'Uns - Rothko-hlp_0018\", 'Split': 'train', 'Path': \"train/The Wrong'Uns - Rothko-hlp_0018\", 'Original Track Name': \"The Wrong'Uns - Rothko\", 'Head Position': 'hlp_0018'}, 'Tim Taler - Stalker-hlp_0131': {'Track Name': 'Tim Taler - Stalker-hlp_0131', 'Split': 'train', 'Path': 'train/Tim Taler - Stalker-hlp_0131', 'Original Track Name': 'Tim Taler - Stalker', 'Head Position': 'hlp_0131'}, 'Tim Taler - Stalker-hlp_0031': {'Track Name': 'Tim Taler - Stalker-hlp_0031', 'Split': 'train', 'Path': 'train/Tim Taler - Stalker-hlp_0031', 'Original Track Name': 'Tim Taler - Stalker', 'Head Position': 'hlp_0031'}, 'Tim Taler - Stalker-hlp_0136': {'Track Name': 'Tim Taler - Stalker-hlp_0136', 'Split': 'train', 'Path': 'train/Tim Taler - Stalker-hlp_0136', 'Original Track Name': 'Tim Taler - Stalker', 'Head Position': 'hlp_0136'}, 'Tim Taler - Stalker-hlp_0086': {'Track Name': 'Tim Taler - Stalker-hlp_0086', 'Split': 'train', 'Path': 'train/Tim Taler - Stalker-hlp_0086', 'Original Track Name': 'Tim Taler - Stalker', 'Head Position': 'hlp_0086'}, 'Titanium - Haunted Age-hlp_0053': {'Track Name': 'Titanium - Haunted Age-hlp_0053', 'Split': 'train', 'Path': 'train/Titanium - Haunted Age-hlp_0053', 'Original Track Name': 'Titanium - Haunted Age', 'Head Position': 'hlp_0053'}, 'Titanium - Haunted Age-hlp_0008': {'Track Name': 'Titanium - Haunted Age-hlp_0008', 'Split': 'train', 'Path': 'train/Titanium - Haunted Age-hlp_0008', 'Original Track Name': 'Titanium - Haunted Age', 'Head Position': 'hlp_0008'}, 'Titanium - Haunted Age-hlp_0020': {'Track Name': 'Titanium - Haunted Age-hlp_0020', 'Split': 'train', 'Path': 'train/Titanium - Haunted Age-hlp_0020', 'Original Track Name': 'Titanium - Haunted Age', 'Head Position': 'hlp_0020'}, 'Titanium - Haunted Age-hlp_0095': {'Track Name': 'Titanium - Haunted Age-hlp_0095', 'Split': 'train', 'Path': 'train/Titanium - Haunted Age-hlp_0095', 'Original Track Name': 'Titanium - Haunted Age', 'Head Position': 'hlp_0095'}, 'Traffic Experiment - Once More (With Feeling)-hlp_0043': {'Track Name': 'Traffic Experiment - Once More (With Feeling)-hlp_0043', 'Split': 'train', 'Path': 'train/Traffic Experiment - Once More (With Feeling)-hlp_0043', 'Original Track Name': 'Traffic Experiment - Once More (With Feeling)', 'Head Position': 'hlp_0043'}, 'Traffic Experiment - Once More (With Feeling)-hlp_0056': {'Track Name': 'Traffic Experiment - Once More (With Feeling)-hlp_0056', 'Split': 'train', 'Path': 'train/Traffic Experiment - Once More (With Feeling)-hlp_0056', 'Original Track Name': 'Traffic Experiment - Once More (With Feeling)', 'Head Position': 'hlp_0056'}, 'Traffic Experiment - Once More (With Feeling)-hlp_0115': {'Track Name': 'Traffic Experiment - Once More (With Feeling)-hlp_0115', 'Split': 'train', 'Path': 'train/Traffic Experiment - Once More (With Feeling)-hlp_0115', 'Original Track Name': 'Traffic Experiment - Once More (With Feeling)', 'Head Position': 'hlp_0115'}, 'Traffic Experiment - Once More (With Feeling)-hlp_0073': {'Track Name': 'Traffic Experiment - Once More (With Feeling)-hlp_0073', 'Split': 'train', 'Path': 'train/Traffic Experiment - Once More (With Feeling)-hlp_0073', 'Original Track Name': 'Traffic Experiment - Once More (With Feeling)', 'Head Position': 'hlp_0073'}, 'Traffic Experiment - Sirens-hlp_0019': {'Track Name': 'Traffic Experiment - Sirens-hlp_0019', 'Split': 'train', 'Path': 'train/Traffic Experiment - Sirens-hlp_0019', 'Original Track Name': 'Traffic Experiment - Sirens', 'Head Position': 'hlp_0019'}, 'Traffic Experiment - Sirens-hlp_0097': {'Track Name': 'Traffic Experiment - Sirens-hlp_0097', 'Split': 'train', 'Path': 'train/Traffic Experiment - Sirens-hlp_0097', 'Original Track Name': 'Traffic Experiment - Sirens', 'Head Position': 'hlp_0097'}, 'Traffic Experiment - Sirens-hlp_0029': {'Track Name': 'Traffic Experiment - Sirens-hlp_0029', 'Split': 'train', 'Path': 'train/Traffic Experiment - Sirens-hlp_0029', 'Original Track Name': 'Traffic Experiment - Sirens', 'Head Position': 'hlp_0029'}, 'Traffic Experiment - Sirens-hlp_0143': {'Track Name': 'Traffic Experiment - Sirens-hlp_0143', 'Split': 'train', 'Path': 'train/Traffic Experiment - Sirens-hlp_0143', 'Original Track Name': 'Traffic Experiment - Sirens', 'Head Position': 'hlp_0143'}, 'Triviul - Angelsaint-hlp_0041': {'Track Name': 'Triviul - Angelsaint-hlp_0041', 'Split': 'train', 'Path': 'train/Triviul - Angelsaint-hlp_0041', 'Original Track Name': 'Triviul - Angelsaint', 'Head Position': 'hlp_0041'}, 'Triviul - Angelsaint-hlp_0083': {'Track Name': 'Triviul - Angelsaint-hlp_0083', 'Split': 'train', 'Path': 'train/Triviul - Angelsaint-hlp_0083', 'Original Track Name': 'Triviul - Angelsaint', 'Head Position': 'hlp_0083'}, 'Triviul - Angelsaint-hlp_0125': {'Track Name': 'Triviul - Angelsaint-hlp_0125', 'Split': 'train', 'Path': 'train/Triviul - Angelsaint-hlp_0125', 'Original Track Name': 'Triviul - Angelsaint', 'Head Position': 'hlp_0125'}, 'Triviul - Angelsaint-hlp_0115': {'Track Name': 'Triviul - Angelsaint-hlp_0115', 'Split': 'train', 'Path': 'train/Triviul - Angelsaint-hlp_0115', 'Original Track Name': 'Triviul - Angelsaint', 'Head Position': 'hlp_0115'}, 'Triviul - Dorothy-hlp_0058': {'Track Name': 'Triviul - Dorothy-hlp_0058', 'Split': 'train', 'Path': 'train/Triviul - Dorothy-hlp_0058', 'Original Track Name': 'Triviul - Dorothy', 'Head Position': 'hlp_0058'}, 'Triviul - Dorothy-hlp_0124': {'Track Name': 'Triviul - Dorothy-hlp_0124', 'Split': 'train', 'Path': 'train/Triviul - Dorothy-hlp_0124', 'Original Track Name': 'Triviul - Dorothy', 'Head Position': 'hlp_0124'}, 'Triviul - Dorothy-hlp_0099': {'Track Name': 'Triviul - Dorothy-hlp_0099', 'Split': 'train', 'Path': 'train/Triviul - Dorothy-hlp_0099', 'Original Track Name': 'Triviul - Dorothy', 'Head Position': 'hlp_0099'}, 'Triviul - Dorothy-hlp_0096': {'Track Name': 'Triviul - Dorothy-hlp_0096', 'Split': 'train', 'Path': 'train/Triviul - Dorothy-hlp_0096', 'Original Track Name': 'Triviul - Dorothy', 'Head Position': 'hlp_0096'}, 'Voelund - Comfort Lives In Belief-hlp_0131': {'Track Name': 'Voelund - Comfort Lives In Belief-hlp_0131', 'Split': 'train', 'Path': 'train/Voelund - Comfort Lives In Belief-hlp_0131', 'Original Track Name': 'Voelund - Comfort Lives In Belief', 'Head Position': 'hlp_0131'}, 'Voelund - Comfort Lives In Belief-hlp_0121': {'Track Name': 'Voelund - Comfort Lives In Belief-hlp_0121', 'Split': 'train', 'Path': 'train/Voelund - Comfort Lives In Belief-hlp_0121', 'Original Track Name': 'Voelund - Comfort Lives In Belief', 'Head Position': 'hlp_0121'}, 'Voelund - Comfort Lives In Belief-hlp_0083': {'Track Name': 'Voelund - Comfort Lives In Belief-hlp_0083', 'Split': 'train', 'Path': 'train/Voelund - Comfort Lives In Belief-hlp_0083', 'Original Track Name': 'Voelund - Comfort Lives In Belief', 'Head Position': 'hlp_0083'}, 'Voelund - Comfort Lives In Belief-hlp_0114': {'Track Name': 'Voelund - Comfort Lives In Belief-hlp_0114', 'Split': 'train', 'Path': 'train/Voelund - Comfort Lives In Belief-hlp_0114', 'Original Track Name': 'Voelund - Comfort Lives In Belief', 'Head Position': 'hlp_0114'}, 'Wall Of Death - Femme-hlp_0104': {'Track Name': 'Wall Of Death - Femme-hlp_0104', 'Split': 'train', 'Path': 'train/Wall Of Death - Femme-hlp_0104', 'Original Track Name': 'Wall Of Death - Femme', 'Head Position': 'hlp_0104'}, 'Wall Of Death - Femme-hlp_0131': {'Track Name': 'Wall Of Death - Femme-hlp_0131', 'Split': 'train', 'Path': 'train/Wall Of Death - Femme-hlp_0131', 'Original Track Name': 'Wall Of Death - Femme', 'Head Position': 'hlp_0131'}, 'Wall Of Death - Femme-hlp_0110': {'Track Name': 'Wall Of Death - Femme-hlp_0110', 'Split': 'train', 'Path': 'train/Wall Of Death - Femme-hlp_0110', 'Original Track Name': 'Wall Of Death - Femme', 'Head Position': 'hlp_0110'}, 'Wall Of Death - Femme-hlp_0087': {'Track Name': 'Wall Of Death - Femme-hlp_0087', 'Split': 'train', 'Path': 'train/Wall Of Death - Femme-hlp_0087', 'Original Track Name': 'Wall Of Death - Femme', 'Head Position': 'hlp_0087'}, 'Young Griffo - Blood To Bone-hlp_0030': {'Track Name': 'Young Griffo - Blood To Bone-hlp_0030', 'Split': 'train', 'Path': 'train/Young Griffo - Blood To Bone-hlp_0030', 'Original Track Name': 'Young Griffo - Blood To Bone', 'Head Position': 'hlp_0030'}, 'Young Griffo - Blood To Bone-hlp_0055': {'Track Name': 'Young Griffo - Blood To Bone-hlp_0055', 'Split': 'train', 'Path': 'train/Young Griffo - Blood To Bone-hlp_0055', 'Original Track Name': 'Young Griffo - Blood To Bone', 'Head Position': 'hlp_0055'}, 'Young Griffo - Blood To Bone-hlp_0137': {'Track Name': 'Young Griffo - Blood To Bone-hlp_0137', 'Split': 'train', 'Path': 'train/Young Griffo - Blood To Bone-hlp_0137', 'Original Track Name': 'Young Griffo - Blood To Bone', 'Head Position': 'hlp_0137'}, 'Young Griffo - Blood To Bone-hlp_0108': {'Track Name': 'Young Griffo - Blood To Bone-hlp_0108', 'Split': 'train', 'Path': 'train/Young Griffo - Blood To Bone-hlp_0108', 'Original Track Name': 'Young Griffo - Blood To Bone', 'Head Position': 'hlp_0108'}, 'Young Griffo - Facade-hlp_0005': {'Track Name': 'Young Griffo - Facade-hlp_0005', 'Split': 'train', 'Path': 'train/Young Griffo - Facade-hlp_0005', 'Original Track Name': 'Young Griffo - Facade', 'Head Position': 'hlp_0005'}, 'Young Griffo - Facade-hlp_0093': {'Track Name': 'Young Griffo - Facade-hlp_0093', 'Split': 'train', 'Path': 'train/Young Griffo - Facade-hlp_0093', 'Original Track Name': 'Young Griffo - Facade', 'Head Position': 'hlp_0093'}, 'Young Griffo - Facade-hlp_0015': {'Track Name': 'Young Griffo - Facade-hlp_0015', 'Split': 'train', 'Path': 'train/Young Griffo - Facade-hlp_0015', 'Original Track Name': 'Young Griffo - Facade', 'Head Position': 'hlp_0015'}, 'Young Griffo - Facade-hlp_0068': {'Track Name': 'Young Griffo - Facade-hlp_0068', 'Split': 'train', 'Path': 'train/Young Griffo - Facade-hlp_0068', 'Original Track Name': 'Young Griffo - Facade', 'Head Position': 'hlp_0068'}, 'Young Griffo - Pennies-hlp_0130': {'Track Name': 'Young Griffo - Pennies-hlp_0130', 'Split': 'train', 'Path': 'train/Young Griffo - Pennies-hlp_0130', 'Original Track Name': 'Young Griffo - Pennies', 'Head Position': 'hlp_0130'}, 'Young Griffo - Pennies-hlp_0003': {'Track Name': 'Young Griffo - Pennies-hlp_0003', 'Split': 'train', 'Path': 'train/Young Griffo - Pennies-hlp_0003', 'Original Track Name': 'Young Griffo - Pennies', 'Head Position': 'hlp_0003'}, 'Young Griffo - Pennies-hlp_0100': {'Track Name': 'Young Griffo - Pennies-hlp_0100', 'Split': 'train', 'Path': 'train/Young Griffo - Pennies-hlp_0100', 'Original Track Name': 'Young Griffo - Pennies', 'Head Position': 'hlp_0100'}, 'Young Griffo - Pennies-hlp_0065': {'Track Name': 'Young Griffo - Pennies-hlp_0065', 'Split': 'train', 'Path': 'train/Young Griffo - Pennies-hlp_0065', 'Original Track Name': 'Young Griffo - Pennies', 'Head Position': 'hlp_0065'}}\n"
          ]
        }
      ]
    },
    {
      "cell_type": "markdown",
      "source": [
        "Load the enhancer (NAL-R) and compression setting (OFF)"
      ],
      "metadata": {
        "id": "OHqV6DQt7W2A"
      }
    },
    {
      "cell_type": "code",
      "source": [
        "enhancer = NALR(**config.nalr)\n",
        "compressor = Compressor(**config.compressor)"
      ],
      "metadata": {
        "id": "SvGqWrBN7cXa"
      },
      "execution_count": 15,
      "outputs": []
    },
    {
      "cell_type": "markdown",
      "source": [
        "Create a list of songs, listeners (audiogram) and head position (hrtf) to generate, or evaluate the mix - based on provided data"
      ],
      "metadata": {
        "id": "UwQqYlq88GQc"
      }
    },
    {
      "cell_type": "code",
      "source": [
        "# Select a batch to process\n",
        "scene_listener_pairs = make_scene_listener_list(\n",
        "    scenes_listeners, config.evaluate.small_test\n",
        ")\n",
        "\n",
        "scene_listener_pairs = scene_listener_pairs[\n",
        "    config.evaluate.batch :: config.evaluate.batch_size\n",
        "]"
      ],
      "metadata": {
        "id": "QSgNSyzC8U5e"
      },
      "execution_count": 16,
      "outputs": []
    },
    {
      "cell_type": "code",
      "source": [
        "print(scene_listener_pairs[0])"
      ],
      "metadata": {
        "colab": {
          "base_uri": "https://localhost:8080/"
        },
        "id": "QW8ZQ0fE88nr",
        "outputId": "2d294b1e-fc6a-492d-eadb-cb3bf6421164"
      },
      "execution_count": 17,
      "outputs": [
        {
          "output_type": "stream",
          "name": "stdout",
          "text": [
            "('scene_10001', 'L0066')\n"
          ]
        }
      ]
    },
    {
      "cell_type": "markdown",
      "source": [
        "# Load functions required for audio evaluation"
      ],
      "metadata": {
        "id": "3WKvkZkSLmgs"
      }
    },
    {
      "cell_type": "markdown",
      "source": [
        "Add functions and variables needed for evaluation and scoring"
      ],
      "metadata": {
        "id": "QUy_emiYOI5l"
      }
    },
    {
      "cell_type": "code",
      "source": [
        "scores_headers = [\n",
        "    \"scene\",\n",
        "    \"song\",\n",
        "    \"listener\",\n",
        "    \"left_score\",\n",
        "    \"right_score\",\n",
        "    \"score\",\n",
        "]\n",
        "\n",
        "\n",
        "results_file = ResultsFile(\n",
        "            \"scores_100.csv\",\n",
        "            header_columns=scores_headers,\n",
        ")"
      ],
      "metadata": {
        "id": "sE2o-dKAOP8q"
      },
      "execution_count": 18,
      "outputs": []
    },
    {
      "cell_type": "markdown",
      "source": [
        "# Process Audio - Currently set to process a fixed number of runs (listener - scene pairings, can be changed to run entire dataset)"
      ],
      "metadata": {
        "id": "GU9VumyD93Rc"
      }
    },
    {
      "cell_type": "code",
      "source": [
        "previous_song = \"\"\n",
        "num_tracks = len(enhanced_files)\n",
        "\n",
        "for idx in range(1):\n",
        "    # Extract track, listener, scene info from file name\n",
        "    file_name = enhanced_files[idx]\n",
        "    sname = file_name.split(\"/\", 1)[1].split(\"_L\",1)[0]\n",
        "    lname = \"L\" +  file_name.split(\"/\", 1)[1].split(\"_L\",1)[1].split(\"_\")[0]\n",
        "\n",
        "    # Get the listener's audiogram\n",
        "    listener = listener_dict[lname]\n",
        "    scene = scenes[sname]\n",
        "    song_name = f\"{scene['music']}-{scene['head_loudspeaker_positions']}\"\n",
        "\n",
        "    print(sname)\n",
        "    print(lname)\n",
        "\n",
        "    # load audio files for HAAQI\n",
        "    reference_mixture = read_signal(\n",
        "            filename=reference_files[idx],\n",
        "            sample_rate=config.sample_rate,\n",
        "            allow_resample=True,\n",
        "        )\n",
        "\n",
        "    enhanced_mixture = read_signal(\n",
        "            filename=enhanced_files[idx],\n",
        "            sample_rate=config.sample_rate,\n",
        "            allow_resample=True,\n",
        "        )\n",
        "\n",
        "    # Evaluate - compare with the generated mixes\n",
        "    # Compute the scores\n",
        "    left_score = compute_haaqi(\n",
        "        processed_signal=resample(\n",
        "            enhanced_mixture[:, 0],\n",
        "            config.remix_sample_rate,\n",
        "            config.HAAQI_sample_rate,\n",
        "        ),\n",
        "        reference_signal=resample(\n",
        "            reference_mixture[:, 0], config.sample_rate, config.HAAQI_sample_rate\n",
        "        ),\n",
        "        processed_sample_rate=config.HAAQI_sample_rate,\n",
        "        reference_sample_rate=config.HAAQI_sample_rate,\n",
        "        audiogram=listener.audiogram_left,\n",
        "        equalisation=2,\n",
        "        level1=65 - 20 * np.log10(compute_rms(reference_mixture[:, 0])),\n",
        "    )\n",
        "\n",
        "    right_score = compute_haaqi(\n",
        "        processed_signal=resample(\n",
        "            enhanced_mixture[:, 1],\n",
        "            config.remix_sample_rate,\n",
        "            config.HAAQI_sample_rate,\n",
        "        ),\n",
        "        reference_signal=resample(\n",
        "            reference_mixture[:, 1], config.sample_rate, config.HAAQI_sample_rate\n",
        "        ),\n",
        "        processed_sample_rate=config.HAAQI_sample_rate,\n",
        "        reference_sample_rate=config.HAAQI_sample_rate,\n",
        "        audiogram=listener.audiogram_right,\n",
        "        equalisation=2,\n",
        "        level1=65 - 20 * np.log10(compute_rms(reference_mixture[:, 1])),\n",
        "    )\n",
        "\n",
        "        # Save scores\n",
        "    results_file.add_result(\n",
        "        {\n",
        "            \"scene\": sname,\n",
        "            \"song\": song_name,\n",
        "            \"listener\": listener.id,\n",
        "            \"left_score\": left_score,\n",
        "            \"right_score\": right_score,\n",
        "            \"score\": float(np.mean([left_score, right_score])),\n",
        "        }\n",
        "    )\n",
        "\n",
        "    print(right_score, left_score)\n"
      ],
      "metadata": {
        "colab": {
          "base_uri": "https://localhost:8080/"
        },
        "id": "lqulZ1OilItP",
        "outputId": "a02bfdcd-7f07-4993-a029-b93f59b28f14"
      },
      "execution_count": 19,
      "outputs": [
        {
          "output_type": "stream",
          "name": "stdout",
          "text": [
            "scene_10001\n",
            "L0057\n",
            "0.13542157935034338 0.12934718417128538\n"
          ]
        }
      ]
    }
  ],
  "metadata": {
    "colab": {
      "provenance": [],
      "include_colab_link": true
    },
    "kernelspec": {
      "display_name": "Python 3",
      "name": "python3"
    },
    "language_info": {
      "name": "python"
    },
    "accelerator": "TPU"
  },
  "nbformat": 4,
  "nbformat_minor": 0
}