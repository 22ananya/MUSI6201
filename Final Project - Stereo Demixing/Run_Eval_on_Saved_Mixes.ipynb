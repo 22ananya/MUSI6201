{
  "cells": [
    {
      "cell_type": "markdown",
      "metadata": {
        "id": "view-in-github",
        "colab_type": "text"
      },
      "source": [
        "<a href=\"https://colab.research.google.com/github/22ananya/MUSI6201/blob/main/Final%20Project%20-%20Stereo%20Demixing/Run_Eval_on_Saved_Mixes.ipynb\" target=\"_parent\"><img src=\"https://colab.research.google.com/assets/colab-badge.svg\" alt=\"Open In Colab\"/></a>"
      ]
    },
    {
      "cell_type": "markdown",
      "metadata": {
        "id": "RybrH0gAWbaJ"
      },
      "source": [
        "Import generally required packages - update as needed"
      ]
    },
    {
      "cell_type": "code",
      "execution_count": 1,
      "metadata": {
        "id": "tj5sXc5LWHpQ"
      },
      "outputs": [],
      "source": [
        "# Import dependencies\n",
        "import numpy as np\n",
        "import matplotlib.pyplot as plt\n",
        "import librosa\n",
        "import scipy.signal as sp\n",
        "import scipy.io.wavfile as wav"
      ]
    },
    {
      "cell_type": "markdown",
      "metadata": {
        "id": "SW5-Sa5pYuUN"
      },
      "source": [
        "Import/Install the prerequisite code for implementing the Cadenza challenge - includes baselines, other important files"
      ]
    },
    {
      "cell_type": "code",
      "source": [
        "!pip install pyclarity==0.4.0"
      ],
      "metadata": {
        "id": "rgBYSep2Y6UT",
        "collapsed": true,
        "outputId": "9d86e9f8-63ba-4e44-fbd8-fda0666f0690",
        "colab": {
          "base_uri": "https://localhost:8080/",
          "height": 1000
        }
      },
      "execution_count": 2,
      "outputs": [
        {
          "output_type": "stream",
          "name": "stdout",
          "text": [
            "Collecting pyclarity==0.4.0\n",
            "  Downloading pyclarity-0.4.0-py3-none-any.whl (750 kB)\n",
            "\u001b[2K     \u001b[90m━━━━━━━━━━━━━━━━━━━━━━━━━━━━━━━━━━━━━━━━\u001b[0m \u001b[32m750.6/750.6 kB\u001b[0m \u001b[31m3.7 MB/s\u001b[0m eta \u001b[36m0:00:00\u001b[0m\n",
            "\u001b[?25hRequirement already satisfied: audioread>=2.1.9 in /usr/local/lib/python3.10/dist-packages (from pyclarity==0.4.0) (3.0.1)\n",
            "Requirement already satisfied: gdown in /usr/local/lib/python3.10/dist-packages (from pyclarity==0.4.0) (4.6.6)\n",
            "Collecting hydra-core>=1.1.1 (from pyclarity==0.4.0)\n",
            "  Downloading hydra_core-1.3.2-py3-none-any.whl (154 kB)\n",
            "\u001b[2K     \u001b[90m━━━━━━━━━━━━━━━━━━━━━━━━━━━━━━━━━━━━━━━━\u001b[0m \u001b[32m154.5/154.5 kB\u001b[0m \u001b[31m16.7 MB/s\u001b[0m eta \u001b[36m0:00:00\u001b[0m\n",
            "\u001b[?25hCollecting hydra-submitit-launcher>=1.1.6 (from pyclarity==0.4.0)\n",
            "  Downloading hydra_submitit_launcher-1.2.0-py3-none-any.whl (5.2 kB)\n",
            "Requirement already satisfied: importlib-metadata in /usr/local/lib/python3.10/dist-packages (from pyclarity==0.4.0) (6.8.0)\n",
            "Requirement already satisfied: librosa>=0.8.1 in /usr/local/lib/python3.10/dist-packages (from pyclarity==0.4.0) (0.10.1)\n",
            "Requirement already satisfied: matplotlib in /usr/local/lib/python3.10/dist-packages (from pyclarity==0.4.0) (3.7.1)\n",
            "Requirement already satisfied: numba>=0.57.0rc in /usr/local/lib/python3.10/dist-packages (from pyclarity==0.4.0) (0.58.1)\n",
            "Requirement already satisfied: numpy<1.25.0,>=1.21.6 in /usr/local/lib/python3.10/dist-packages (from pyclarity==0.4.0) (1.23.5)\n",
            "Collecting omegaconf>=2.1.1 (from pyclarity==0.4.0)\n",
            "  Downloading omegaconf-2.3.0-py3-none-any.whl (79 kB)\n",
            "\u001b[2K     \u001b[90m━━━━━━━━━━━━━━━━━━━━━━━━━━━━━━━━━━━━━━━━\u001b[0m \u001b[32m79.5/79.5 kB\u001b[0m \u001b[31m8.3 MB/s\u001b[0m eta \u001b[36m0:00:00\u001b[0m\n",
            "\u001b[?25hRequirement already satisfied: pandas>=1.3.5 in /usr/local/lib/python3.10/dist-packages (from pyclarity==0.4.0) (1.5.3)\n",
            "Collecting pyflac (from pyclarity==0.4.0)\n",
            "  Downloading pyFLAC-2.2.0.tar.gz (2.6 MB)\n",
            "\u001b[2K     \u001b[90m━━━━━━━━━━━━━━━━━━━━━━━━━━━━━━━━━━━━━━━━\u001b[0m \u001b[32m2.6/2.6 MB\u001b[0m \u001b[31m24.2 MB/s\u001b[0m eta \u001b[36m0:00:00\u001b[0m\n",
            "\u001b[?25h  Installing build dependencies ... \u001b[?25l\u001b[?25hdone\n",
            "  Getting requirements to build wheel ... \u001b[?25l\u001b[?25hdone\n",
            "  Preparing metadata (pyproject.toml) ... \u001b[?25l\u001b[?25hdone\n",
            "Collecting pyloudnorm>=0.1.0 (from pyclarity==0.4.0)\n",
            "  Downloading pyloudnorm-0.1.1-py3-none-any.whl (9.6 kB)\n",
            "Collecting pystoi (from pyclarity==0.4.0)\n",
            "  Downloading pystoi-0.3.3.tar.gz (7.0 kB)\n",
            "  Preparing metadata (setup.py) ... \u001b[?25l\u001b[?25hdone\n",
            "Collecting pytorch-lightning (from pyclarity==0.4.0)\n",
            "  Downloading pytorch_lightning-2.1.2-py3-none-any.whl (776 kB)\n",
            "\u001b[2K     \u001b[90m━━━━━━━━━━━━━━━━━━━━━━━━━━━━━━━━━━━━━━━━\u001b[0m \u001b[32m776.9/776.9 kB\u001b[0m \u001b[31m46.0 MB/s\u001b[0m eta \u001b[36m0:00:00\u001b[0m\n",
            "\u001b[?25hCollecting resampy (from pyclarity==0.4.0)\n",
            "  Downloading resampy-0.4.2-py3-none-any.whl (3.1 MB)\n",
            "\u001b[2K     \u001b[90m━━━━━━━━━━━━━━━━━━━━━━━━━━━━━━━━━━━━━━━━\u001b[0m \u001b[32m3.1/3.1 MB\u001b[0m \u001b[31m69.8 MB/s\u001b[0m eta \u001b[36m0:00:00\u001b[0m\n",
            "\u001b[?25hRequirement already satisfied: scikit-learn>=1.0.2 in /usr/local/lib/python3.10/dist-packages (from pyclarity==0.4.0) (1.2.2)\n",
            "Requirement already satisfied: scipy>=1.7.3 in /usr/local/lib/python3.10/dist-packages (from pyclarity==0.4.0) (1.11.4)\n",
            "Requirement already satisfied: SoundFile>=0.10.3.post1 in /usr/local/lib/python3.10/dist-packages (from pyclarity==0.4.0) (0.12.1)\n",
            "Requirement already satisfied: soxr in /usr/local/lib/python3.10/dist-packages (from pyclarity==0.4.0) (0.3.7)\n",
            "Requirement already satisfied: torch>=2 in /usr/local/lib/python3.10/dist-packages (from pyclarity==0.4.0) (2.1.0+cu118)\n",
            "Requirement already satisfied: torchaudio in /usr/local/lib/python3.10/dist-packages (from pyclarity==0.4.0) (2.1.0+cu118)\n",
            "Requirement already satisfied: tqdm>=4.62.3 in /usr/local/lib/python3.10/dist-packages (from pyclarity==0.4.0) (4.66.1)\n",
            "Requirement already satisfied: typing-extensions in /usr/local/lib/python3.10/dist-packages (from pyclarity==0.4.0) (4.5.0)\n",
            "Collecting antlr4-python3-runtime==4.9.* (from hydra-core>=1.1.1->pyclarity==0.4.0)\n",
            "  Downloading antlr4-python3-runtime-4.9.3.tar.gz (117 kB)\n",
            "\u001b[2K     \u001b[90m━━━━━━━━━━━━━━━━━━━━━━━━━━━━━━━━━━━━━━━━\u001b[0m \u001b[32m117.0/117.0 kB\u001b[0m \u001b[31m12.8 MB/s\u001b[0m eta \u001b[36m0:00:00\u001b[0m\n",
            "\u001b[?25h  Preparing metadata (setup.py) ... \u001b[?25l\u001b[?25hdone\n",
            "Requirement already satisfied: packaging in /usr/local/lib/python3.10/dist-packages (from hydra-core>=1.1.1->pyclarity==0.4.0) (23.2)\n",
            "Collecting submitit>=1.3.3 (from hydra-submitit-launcher>=1.1.6->pyclarity==0.4.0)\n",
            "  Downloading submitit-1.5.1-py3-none-any.whl (74 kB)\n",
            "\u001b[2K     \u001b[90m━━━━━━━━━━━━━━━━━━━━━━━━━━━━━━━━━━━━━━━━\u001b[0m \u001b[32m74.7/74.7 kB\u001b[0m \u001b[31m8.7 MB/s\u001b[0m eta \u001b[36m0:00:00\u001b[0m\n",
            "\u001b[?25hRequirement already satisfied: joblib>=0.14 in /usr/local/lib/python3.10/dist-packages (from librosa>=0.8.1->pyclarity==0.4.0) (1.3.2)\n",
            "Requirement already satisfied: decorator>=4.3.0 in /usr/local/lib/python3.10/dist-packages (from librosa>=0.8.1->pyclarity==0.4.0) (4.4.2)\n",
            "Requirement already satisfied: pooch>=1.0 in /usr/local/lib/python3.10/dist-packages (from librosa>=0.8.1->pyclarity==0.4.0) (1.8.0)\n",
            "Requirement already satisfied: lazy-loader>=0.1 in /usr/local/lib/python3.10/dist-packages (from librosa>=0.8.1->pyclarity==0.4.0) (0.3)\n",
            "Requirement already satisfied: msgpack>=1.0 in /usr/local/lib/python3.10/dist-packages (from librosa>=0.8.1->pyclarity==0.4.0) (1.0.7)\n",
            "Requirement already satisfied: llvmlite<0.42,>=0.41.0dev0 in /usr/local/lib/python3.10/dist-packages (from numba>=0.57.0rc->pyclarity==0.4.0) (0.41.1)\n",
            "Requirement already satisfied: PyYAML>=5.1.0 in /usr/local/lib/python3.10/dist-packages (from omegaconf>=2.1.1->pyclarity==0.4.0) (6.0.1)\n",
            "Requirement already satisfied: python-dateutil>=2.8.1 in /usr/local/lib/python3.10/dist-packages (from pandas>=1.3.5->pyclarity==0.4.0) (2.8.2)\n",
            "Requirement already satisfied: pytz>=2020.1 in /usr/local/lib/python3.10/dist-packages (from pandas>=1.3.5->pyclarity==0.4.0) (2023.3.post1)\n",
            "Requirement already satisfied: future>=0.16.0 in /usr/local/lib/python3.10/dist-packages (from pyloudnorm>=0.1.0->pyclarity==0.4.0) (0.18.3)\n",
            "Requirement already satisfied: threadpoolctl>=2.0.0 in /usr/local/lib/python3.10/dist-packages (from scikit-learn>=1.0.2->pyclarity==0.4.0) (3.2.0)\n",
            "Requirement already satisfied: cffi>=1.0 in /usr/local/lib/python3.10/dist-packages (from SoundFile>=0.10.3.post1->pyclarity==0.4.0) (1.16.0)\n",
            "Requirement already satisfied: filelock in /usr/local/lib/python3.10/dist-packages (from torch>=2->pyclarity==0.4.0) (3.13.1)\n",
            "Requirement already satisfied: sympy in /usr/local/lib/python3.10/dist-packages (from torch>=2->pyclarity==0.4.0) (1.12)\n",
            "Requirement already satisfied: networkx in /usr/local/lib/python3.10/dist-packages (from torch>=2->pyclarity==0.4.0) (3.2.1)\n",
            "Requirement already satisfied: jinja2 in /usr/local/lib/python3.10/dist-packages (from torch>=2->pyclarity==0.4.0) (3.1.2)\n",
            "Requirement already satisfied: fsspec in /usr/local/lib/python3.10/dist-packages (from torch>=2->pyclarity==0.4.0) (2023.6.0)\n",
            "Requirement already satisfied: triton==2.1.0 in /usr/local/lib/python3.10/dist-packages (from torch>=2->pyclarity==0.4.0) (2.1.0)\n",
            "Requirement already satisfied: requests[socks] in /usr/local/lib/python3.10/dist-packages (from gdown->pyclarity==0.4.0) (2.31.0)\n",
            "Requirement already satisfied: six in /usr/local/lib/python3.10/dist-packages (from gdown->pyclarity==0.4.0) (1.16.0)\n",
            "Requirement already satisfied: beautifulsoup4 in /usr/local/lib/python3.10/dist-packages (from gdown->pyclarity==0.4.0) (4.11.2)\n",
            "Requirement already satisfied: zipp>=0.5 in /usr/local/lib/python3.10/dist-packages (from importlib-metadata->pyclarity==0.4.0) (3.17.0)\n",
            "Requirement already satisfied: contourpy>=1.0.1 in /usr/local/lib/python3.10/dist-packages (from matplotlib->pyclarity==0.4.0) (1.2.0)\n",
            "Requirement already satisfied: cycler>=0.10 in /usr/local/lib/python3.10/dist-packages (from matplotlib->pyclarity==0.4.0) (0.12.1)\n",
            "Requirement already satisfied: fonttools>=4.22.0 in /usr/local/lib/python3.10/dist-packages (from matplotlib->pyclarity==0.4.0) (4.45.1)\n",
            "Requirement already satisfied: kiwisolver>=1.0.1 in /usr/local/lib/python3.10/dist-packages (from matplotlib->pyclarity==0.4.0) (1.4.5)\n",
            "Requirement already satisfied: pillow>=6.2.0 in /usr/local/lib/python3.10/dist-packages (from matplotlib->pyclarity==0.4.0) (9.4.0)\n",
            "Requirement already satisfied: pyparsing>=2.3.1 in /usr/local/lib/python3.10/dist-packages (from matplotlib->pyclarity==0.4.0) (3.1.1)\n",
            "Collecting torchmetrics>=0.7.0 (from pytorch-lightning->pyclarity==0.4.0)\n",
            "  Downloading torchmetrics-1.2.1-py3-none-any.whl (806 kB)\n",
            "\u001b[2K     \u001b[90m━━━━━━━━━━━━━━━━━━━━━━━━━━━━━━━━━━━━━━━━\u001b[0m \u001b[32m806.1/806.1 kB\u001b[0m \u001b[31m47.2 MB/s\u001b[0m eta \u001b[36m0:00:00\u001b[0m\n",
            "\u001b[?25hCollecting lightning-utilities>=0.8.0 (from pytorch-lightning->pyclarity==0.4.0)\n",
            "  Downloading lightning_utilities-0.10.0-py3-none-any.whl (24 kB)\n",
            "Requirement already satisfied: pycparser in /usr/local/lib/python3.10/dist-packages (from cffi>=1.0->SoundFile>=0.10.3.post1->pyclarity==0.4.0) (2.21)\n",
            "Requirement already satisfied: aiohttp!=4.0.0a0,!=4.0.0a1 in /usr/local/lib/python3.10/dist-packages (from fsspec->torch>=2->pyclarity==0.4.0) (3.9.1)\n",
            "Requirement already satisfied: setuptools in /usr/local/lib/python3.10/dist-packages (from lightning-utilities>=0.8.0->pytorch-lightning->pyclarity==0.4.0) (67.7.2)\n",
            "Requirement already satisfied: platformdirs>=2.5.0 in /usr/local/lib/python3.10/dist-packages (from pooch>=1.0->librosa>=0.8.1->pyclarity==0.4.0) (4.0.0)\n",
            "Requirement already satisfied: cloudpickle>=1.2.1 in /usr/local/lib/python3.10/dist-packages (from submitit>=1.3.3->hydra-submitit-launcher>=1.1.6->pyclarity==0.4.0) (2.2.1)\n",
            "Requirement already satisfied: soupsieve>1.2 in /usr/local/lib/python3.10/dist-packages (from beautifulsoup4->gdown->pyclarity==0.4.0) (2.5)\n",
            "Requirement already satisfied: MarkupSafe>=2.0 in /usr/local/lib/python3.10/dist-packages (from jinja2->torch>=2->pyclarity==0.4.0) (2.1.3)\n",
            "Requirement already satisfied: charset-normalizer<4,>=2 in /usr/local/lib/python3.10/dist-packages (from requests[socks]->gdown->pyclarity==0.4.0) (3.3.2)\n",
            "Requirement already satisfied: idna<4,>=2.5 in /usr/local/lib/python3.10/dist-packages (from requests[socks]->gdown->pyclarity==0.4.0) (3.6)\n",
            "Requirement already satisfied: urllib3<3,>=1.21.1 in /usr/local/lib/python3.10/dist-packages (from requests[socks]->gdown->pyclarity==0.4.0) (2.0.7)\n",
            "Requirement already satisfied: certifi>=2017.4.17 in /usr/local/lib/python3.10/dist-packages (from requests[socks]->gdown->pyclarity==0.4.0) (2023.11.17)\n",
            "Requirement already satisfied: PySocks!=1.5.7,>=1.5.6 in /usr/local/lib/python3.10/dist-packages (from requests[socks]->gdown->pyclarity==0.4.0) (1.7.1)\n",
            "Requirement already satisfied: mpmath>=0.19 in /usr/local/lib/python3.10/dist-packages (from sympy->torch>=2->pyclarity==0.4.0) (1.3.0)\n",
            "Requirement already satisfied: attrs>=17.3.0 in /usr/local/lib/python3.10/dist-packages (from aiohttp!=4.0.0a0,!=4.0.0a1->fsspec->torch>=2->pyclarity==0.4.0) (23.1.0)\n",
            "Requirement already satisfied: multidict<7.0,>=4.5 in /usr/local/lib/python3.10/dist-packages (from aiohttp!=4.0.0a0,!=4.0.0a1->fsspec->torch>=2->pyclarity==0.4.0) (6.0.4)\n",
            "Requirement already satisfied: yarl<2.0,>=1.0 in /usr/local/lib/python3.10/dist-packages (from aiohttp!=4.0.0a0,!=4.0.0a1->fsspec->torch>=2->pyclarity==0.4.0) (1.9.3)\n",
            "Requirement already satisfied: frozenlist>=1.1.1 in /usr/local/lib/python3.10/dist-packages (from aiohttp!=4.0.0a0,!=4.0.0a1->fsspec->torch>=2->pyclarity==0.4.0) (1.4.0)\n",
            "Requirement already satisfied: aiosignal>=1.1.2 in /usr/local/lib/python3.10/dist-packages (from aiohttp!=4.0.0a0,!=4.0.0a1->fsspec->torch>=2->pyclarity==0.4.0) (1.3.1)\n",
            "Requirement already satisfied: async-timeout<5.0,>=4.0 in /usr/local/lib/python3.10/dist-packages (from aiohttp!=4.0.0a0,!=4.0.0a1->fsspec->torch>=2->pyclarity==0.4.0) (4.0.3)\n",
            "Building wheels for collected packages: antlr4-python3-runtime, pyflac, pystoi\n",
            "  Building wheel for antlr4-python3-runtime (setup.py) ... \u001b[?25l\u001b[?25hdone\n",
            "  Created wheel for antlr4-python3-runtime: filename=antlr4_python3_runtime-4.9.3-py3-none-any.whl size=144554 sha256=352861210523654f67556487e8ace9ad4fb0d192af612e9d4f203ad9ed86031d\n",
            "  Stored in directory: /root/.cache/pip/wheels/12/93/dd/1f6a127edc45659556564c5730f6d4e300888f4bca2d4c5a88\n",
            "  Building wheel for pyflac (pyproject.toml) ... \u001b[?25l\u001b[?25hdone\n",
            "  Created wheel for pyflac: filename=pyFLAC-2.2.0-cp310-cp310-linux_x86_64.whl size=1682406 sha256=d45cee9f4a75b64b58ba3972f37581c1731f353e4e1e7416abdde33008be99a4\n",
            "  Stored in directory: /root/.cache/pip/wheels/b6/48/5e/2886846557610648e498e722559426a62d24b858db2cc8d248\n",
            "  Building wheel for pystoi (setup.py) ... \u001b[?25l\u001b[?25hdone\n",
            "  Created wheel for pystoi: filename=pystoi-0.3.3-py2.py3-none-any.whl size=7778 sha256=a93c550e96c2472ba21dddf78cce0d8991bc0f45154fc795144e6e27aefebe41\n",
            "  Stored in directory: /root/.cache/pip/wheels/3b/ca/9e/5b5d6e5e109322303b50d21918ad2bd7d50a2a0775c11e08e8\n",
            "Successfully built antlr4-python3-runtime pyflac pystoi\n",
            "Installing collected packages: antlr4-python3-runtime, submitit, omegaconf, lightning-utilities, resampy, pystoi, pyloudnorm, hydra-core, torchmetrics, pyflac, hydra-submitit-launcher, pytorch-lightning, pyclarity\n",
            "Successfully installed antlr4-python3-runtime-4.9.3 hydra-core-1.3.2 hydra-submitit-launcher-1.2.0 lightning-utilities-0.10.0 omegaconf-2.3.0 pyclarity-0.4.0 pyflac-2.2.0 pyloudnorm-0.1.1 pystoi-0.3.3 pytorch-lightning-2.1.2 resampy-0.4.2 submitit-1.5.1 torchmetrics-1.2.1\n"
          ]
        },
        {
          "output_type": "display_data",
          "data": {
            "application/vnd.colab-display-data+json": {
              "pip_warning": {
                "packages": [
                  "pydevd_plugins"
                ]
              }
            }
          },
          "metadata": {}
        }
      ]
    },
    {
      "cell_type": "markdown",
      "metadata": {
        "id": "8vLsywcTb5FB"
      },
      "source": [
        "Import the dataset for the Cadenza challenge directly through the Google Drive link - Only needs to be done once! So now commented out\n"
      ]
    },
    {
      "cell_type": "code",
      "execution_count": 3,
      "metadata": {
        "colab": {
          "base_uri": "https://localhost:8080/"
        },
        "id": "VrtLL_IXb_kz",
        "outputId": "d2c2e30d-f1e3-44e2-c664-a81600c22975"
      },
      "outputs": [
        {
          "output_type": "stream",
          "name": "stdout",
          "text": [
            "Mounted at /content/drive\n"
          ]
        }
      ],
      "source": [
        "from google.colab import drive\n",
        "drive.mount('/content/drive')"
      ]
    },
    {
      "cell_type": "markdown",
      "metadata": {
        "id": "1uOllNXFfDlh"
      },
      "source": [
        "Check current path"
      ]
    },
    {
      "cell_type": "code",
      "execution_count": 4,
      "metadata": {
        "colab": {
          "base_uri": "https://localhost:8080/"
        },
        "id": "xmCaU0XNfHu6",
        "outputId": "92e765a3-d9bc-423f-f4fe-4aa376886163"
      },
      "outputs": [
        {
          "output_type": "stream",
          "name": "stdout",
          "text": [
            "/content\n"
          ]
        }
      ],
      "source": [
        "import os\n",
        "print(os.getcwd())"
      ]
    },
    {
      "cell_type": "markdown",
      "metadata": {
        "id": "Ys7wmmN00ZpY"
      },
      "source": [
        "Change current path to Cadenza folder"
      ]
    },
    {
      "cell_type": "code",
      "execution_count": 5,
      "metadata": {
        "colab": {
          "base_uri": "https://localhost:8080/"
        },
        "id": "Us9_BSIi0gOM",
        "outputId": "345cc0a4-1af8-40b0-d827-6b9705acc0b4"
      },
      "outputs": [
        {
          "output_type": "stream",
          "name": "stdout",
          "text": [
            "/content/drive/MyDrive/Cadenza_Challenge/cad_icassp_2024/Validation\n"
          ]
        }
      ],
      "source": [
        "os.chdir('/content/drive/MyDrive/Cadenza_Challenge/cad_icassp_2024/Validation')\n",
        "print(os.getcwd())"
      ]
    },
    {
      "cell_type": "markdown",
      "metadata": {
        "id": "qIV3qhN6x5si"
      },
      "source": [
        "#Process single audio file through the entire model step by step"
      ]
    },
    {
      "cell_type": "markdown",
      "source": [
        "Import all dependencies - same as enhance.py file"
      ],
      "metadata": {
        "id": "XzG_c2u33Rdt"
      }
    },
    {
      "cell_type": "code",
      "source": [
        "from __future__ import annotations\n",
        "\n",
        "import json\n",
        "import logging\n",
        "from pathlib import Path\n",
        "\n",
        "# pylint: disable=import-error\n",
        "import hydra\n",
        "import numpy as np\n",
        "import torch\n",
        "from numpy import ndarray\n",
        "from omegaconf import DictConfig\n",
        "from torchaudio.pipelines import HDEMUCS_HIGH_MUSDB\n",
        "\n",
        "from clarity.enhancer.compressor import Compressor\n",
        "from clarity.enhancer.nalr import NALR\n",
        "from clarity.evaluator.haaqi import compute_haaqi\n",
        "from clarity.utils.audiogram import Audiogram, Listener\n",
        "from clarity.utils.file_io import read_signal\n",
        "from clarity.utils.flac_encoder import FlacEncoder\n",
        "from clarity.utils.results_support import ResultsFile\n",
        "from clarity.utils.signal_processing import (\n",
        "    clip_signal,\n",
        "    denormalize_signals,\n",
        "    normalize_signal,\n",
        "    resample,\n",
        "    to_16bit,\n",
        "    compute_rms,\n",
        "    resample,\n",
        ")\n",
        "from clarity.utils.source_separation_support import get_device, separate_sources\n",
        "from recipes.cad_icassp_2024.baseline.evaluate import (\n",
        "    apply_gains,\n",
        "    apply_ha,\n",
        "    make_scene_listener_list,\n",
        "    remix_stems,\n",
        "    load_reference_stems,\n",
        ")\n",
        "\n",
        "logger = logging.getLogger(__name__)"
      ],
      "metadata": {
        "colab": {
          "base_uri": "https://localhost:8080/"
        },
        "id": "qXGfszFA3pOl",
        "outputId": "4ff0a204-8a8b-4163-8571-967cdc6c7d48"
      },
      "execution_count": 6,
      "outputs": [
        {
          "output_type": "stream",
          "name": "stderr",
          "text": [
            "/usr/local/lib/python3.10/dist-packages/recipes/cad_icassp_2024/baseline/evaluate.py:190: UserWarning: \n",
            "The version_base parameter is not specified.\n",
            "Please specify a compatability version level, or None.\n",
            "Will assume defaults for version 1.1\n",
            "  @hydra.main(config_path=\"\", config_name=\"config\")\n"
          ]
        }
      ]
    },
    {
      "cell_type": "markdown",
      "source": [
        "Import all the required functions defined in Enhance.py that do not need to be changed"
      ],
      "metadata": {
        "id": "9CAxXIQs3yPE"
      }
    },
    {
      "cell_type": "code",
      "source": [
        "from recipes.cad_icassp_2024.baseline.enhance import (\n",
        "    save_flac_signal,\n",
        "    decompose_signal,\n",
        "    process_remix_for_listener\n",
        ")"
      ],
      "metadata": {
        "id": "fO7Ke41s34zw",
        "colab": {
          "base_uri": "https://localhost:8080/"
        },
        "outputId": "f1ebd4bc-0274-4a51-dfb3-e5dfaa7b06ab"
      },
      "execution_count": 7,
      "outputs": [
        {
          "output_type": "stream",
          "name": "stderr",
          "text": [
            "/usr/local/lib/python3.10/dist-packages/recipes/cad_icassp_2024/baseline/enhance.py:182: UserWarning: \n",
            "The version_base parameter is not specified.\n",
            "Please specify a compatability version level, or None.\n",
            "Will assume defaults for version 1.1\n",
            "  @hydra.main(config_path=\"\", config_name=\"config\")\n"
          ]
        }
      ]
    },
    {
      "cell_type": "markdown",
      "source": [
        "Import the correct config file (hardcoded location)"
      ],
      "metadata": {
        "id": "HInm_0fO6bIl"
      }
    },
    {
      "cell_type": "code",
      "source": [
        "from omegaconf import OmegaConf\n",
        "config = OmegaConf.load('config.yaml')\n",
        "print(\"default source sep model: \", config.separator.model)"
      ],
      "metadata": {
        "colab": {
          "base_uri": "https://localhost:8080/"
        },
        "id": "QraRFr8K5VyB",
        "outputId": "8674a69e-adbe-4475-d2b1-26a0f7c5b612"
      },
      "execution_count": 8,
      "outputs": [
        {
          "output_type": "stream",
          "name": "stdout",
          "text": [
            "default source sep model:  demucs\n"
          ]
        }
      ]
    },
    {
      "cell_type": "markdown",
      "source": [
        "Set input directory"
      ],
      "metadata": {
        "id": "8YfLt5Py4whx"
      }
    },
    {
      "cell_type": "code",
      "source": [
        "reference_folder = Path(\"Val_Ref_Tracks\")\n",
        "enhanced_mix_folder = Path(\"Val_enhanced_signals_openunmix_100\")"
      ],
      "metadata": {
        "id": "ltHsRuxw4zm4"
      },
      "execution_count": 9,
      "outputs": []
    },
    {
      "cell_type": "markdown",
      "source": [
        "# load the audio files in provided path"
      ],
      "metadata": {
        "id": "DhjLl27kX1sh"
      }
    },
    {
      "cell_type": "code",
      "source": [
        "enhanced_files = [] # initialize list of enhanced audio files\n",
        "reference_files = [] # initialize list of reference files\n",
        "for file in os.listdir(enhanced_mix_folder): # iterate over all files in the directory\n",
        "    if file.endswith('.flac'): # if the file is an audio file\n",
        "        enhanced_files.append(os.path.join(enhanced_mix_folder, file)) # add the file to the list of audio files\n",
        "        reference_files.append(os.path.join(reference_folder, file.replace('.flac','_ref.flac'))) # add the corresponding ref file to the list of ref files"
      ],
      "metadata": {
        "id": "b88PqfFTX91N"
      },
      "execution_count": 10,
      "outputs": []
    },
    {
      "cell_type": "code",
      "source": [
        "print(enhanced_files[0])\n",
        "print(reference_files[0])\n",
        "print(len(enhanced_files))"
      ],
      "metadata": {
        "colab": {
          "base_uri": "https://localhost:8080/"
        },
        "id": "GIVRccYDZvDU",
        "outputId": "cfed9b9a-5f86-4c95-96bd-47be777404f9"
      },
      "execution_count": 11,
      "outputs": [
        {
          "output_type": "stream",
          "name": "stdout",
          "text": [
            "Val_enhanced_signals_openunmix_100/scene_50001_L5048_remix.flac\n",
            "Val_Ref_Tracks/scene_50001_L5048_remix_ref.flac\n",
            "100\n"
          ]
        }
      ]
    },
    {
      "cell_type": "markdown",
      "source": [
        "Load listener data"
      ],
      "metadata": {
        "id": "1byRhXrc5nmJ"
      }
    },
    {
      "cell_type": "code",
      "source": [
        "config.path.root = '/content/drive/MyDrive/Cadenza_Challenge/cad_icassp_2024/Validation'\n"
      ],
      "metadata": {
        "id": "CcE-6z8e6cdL"
      },
      "execution_count": 12,
      "outputs": []
    },
    {
      "cell_type": "code",
      "source": [
        "# Load listener audiograms and songs\n",
        "listener_dict = Listener.load_listener_dict(config.path.listeners_file)\n",
        "\n",
        "with Path(config.path.gains_file).open(\"r\", encoding=\"utf-8\") as file:\n",
        "    gains = json.load(file)\n",
        "\n",
        "with Path(config.path.scenes_file).open(\"r\", encoding=\"utf-8\") as file:\n",
        "    scenes = json.load(file)\n",
        "\n",
        "with Path(config.path.scene_listeners_file).open(\"r\", encoding=\"utf-8\") as file:\n",
        "    scenes_listeners = json.load(file)\n",
        "\n",
        "with Path(config.path.music_file).open(\"r\", encoding=\"utf-8\") as file:\n",
        "    songs = json.load(file)"
      ],
      "metadata": {
        "id": "W00FlI6A5pnr"
      },
      "execution_count": 13,
      "outputs": []
    },
    {
      "cell_type": "markdown",
      "source": [
        "Create a list of songs, listeners (audiogram) and head position (hrtf) to generate, or evaluate the mix - based on provided data"
      ],
      "metadata": {
        "id": "UwQqYlq88GQc"
      }
    },
    {
      "cell_type": "code",
      "source": [
        "# Select a batch to process\n",
        "scene_listener_pairs = make_scene_listener_list(\n",
        "    scenes_listeners, config.evaluate.small_test\n",
        ")\n",
        "\n",
        "scene_listener_pairs = scene_listener_pairs[\n",
        "    config.evaluate.batch :: config.evaluate.batch_size\n",
        "]"
      ],
      "metadata": {
        "id": "QSgNSyzC8U5e"
      },
      "execution_count": 14,
      "outputs": []
    },
    {
      "cell_type": "code",
      "source": [
        "print(scene_listener_pairs[0])"
      ],
      "metadata": {
        "colab": {
          "base_uri": "https://localhost:8080/"
        },
        "id": "QW8ZQ0fE88nr",
        "outputId": "8d77f886-e9c3-4021-8642-5dd17adca59e"
      },
      "execution_count": 15,
      "outputs": [
        {
          "output_type": "stream",
          "name": "stdout",
          "text": [
            "('scene_50001', 'L5020')\n"
          ]
        }
      ]
    },
    {
      "cell_type": "markdown",
      "source": [
        "# Load functions required for audio evaluation"
      ],
      "metadata": {
        "id": "3WKvkZkSLmgs"
      }
    },
    {
      "cell_type": "markdown",
      "source": [
        "Add functions and variables needed for evaluation and scoring"
      ],
      "metadata": {
        "id": "QUy_emiYOI5l"
      }
    },
    {
      "cell_type": "code",
      "source": [
        "scores_headers = [\n",
        "    \"scene\",\n",
        "    \"song\",\n",
        "    \"listener\",\n",
        "    \"left_score\",\n",
        "    \"right_score\",\n",
        "    \"score\",\n",
        "]\n",
        "\n",
        "\n",
        "results_file = ResultsFile(\n",
        "            \"Val_scores_openunmix.csv\",\n",
        "            header_columns=scores_headers,\n",
        ")"
      ],
      "metadata": {
        "id": "sE2o-dKAOP8q"
      },
      "execution_count": 16,
      "outputs": []
    },
    {
      "cell_type": "markdown",
      "source": [
        "# Process Audio - Currently set to process a fixed number of runs (listener - scene pairings, can be changed to run entire dataset) - HAAQI is very very slow"
      ],
      "metadata": {
        "id": "GU9VumyD93Rc"
      }
    },
    {
      "cell_type": "code",
      "source": [
        "from recipes.cad_icassp_2024.baseline.evaluate import level_normalisation\n",
        "previous_song = \"\"\n",
        "num_scenes = len(scene_listener_pairs)\n",
        "nrun = 100 # change to num_scenes for full dataset\n",
        "\n",
        "\n",
        "for idx in range(num_scenes):\n",
        "    # Extract track, listener, scene info from file name\n",
        "    file_name = enhanced_files[idx]\n",
        "    sname = file_name.split(\"/\", 1)[1].split(\"_L\",1)[0]\n",
        "    lname = \"L\" +  file_name.split(\"/\", 1)[1].split(\"_L\",1)[1].split(\"_\")[0]\n",
        "\n",
        "    # Get the listener's audiogram\n",
        "    listener = listener_dict[lname]\n",
        "    scene = scenes[sname]\n",
        "    song_name = f\"{scene['music']}-{scene['head_loudspeaker_positions']}\"\n",
        "\n",
        "    print(sname)\n",
        "    print(lname)\n",
        "\n",
        "    # load audio files for HAAQI\n",
        "    reference_mixture = read_signal(\n",
        "            filename=reference_files[idx],\n",
        "            sample_rate=config.sample_rate,\n",
        "            allow_resample=True,\n",
        "        )\n",
        "\n",
        "    enhanced_mixture = read_signal(\n",
        "            filename=enhanced_files[idx],\n",
        "            sample_rate=config.sample_rate,\n",
        "            allow_resample=True,\n",
        "        )\n",
        "\n",
        "    # Evaluate - compare with the generated mixes\n",
        "    # Compute the scores\n",
        "    left_score = compute_haaqi(\n",
        "        processed_signal=resample(\n",
        "            enhanced_mixture[:, 0],\n",
        "            config.remix_sample_rate,\n",
        "            config.HAAQI_sample_rate,\n",
        "        ),\n",
        "        reference_signal=resample(\n",
        "            reference_mixture[:, 0], config.sample_rate, config.HAAQI_sample_rate\n",
        "        ),\n",
        "        processed_sample_rate=config.HAAQI_sample_rate,\n",
        "        reference_sample_rate=config.HAAQI_sample_rate,\n",
        "        audiogram=listener.audiogram_left,\n",
        "        equalisation=2,\n",
        "        level1=65 - 20 * np.log10(compute_rms(reference_mixture[:, 0])),\n",
        "    )\n",
        "\n",
        "    right_score = compute_haaqi(\n",
        "        processed_signal=resample(\n",
        "            enhanced_mixture[:, 1],\n",
        "            config.remix_sample_rate,\n",
        "            config.HAAQI_sample_rate,\n",
        "        ),\n",
        "        reference_signal=resample(\n",
        "            reference_mixture[:, 1], config.sample_rate, config.HAAQI_sample_rate\n",
        "        ),\n",
        "        processed_sample_rate=config.HAAQI_sample_rate,\n",
        "        reference_sample_rate=config.HAAQI_sample_rate,\n",
        "        audiogram=listener.audiogram_right,\n",
        "        equalisation=2,\n",
        "        level1=65 - 20 * np.log10(compute_rms(reference_mixture[:, 1])),\n",
        "    )\n",
        "\n",
        "        # Save scores\n",
        "    results_file.add_result(\n",
        "        {\n",
        "            \"scene\": sname,\n",
        "            \"song\": song_name,\n",
        "            \"listener\": listener.id,\n",
        "            \"left_score\": left_score,\n",
        "            \"right_score\": right_score,\n",
        "            \"score\": float(np.mean([left_score, right_score])),\n",
        "        }\n",
        "    )\n",
        "\n",
        "    print(right_score, left_score)\n"
      ],
      "metadata": {
        "colab": {
          "base_uri": "https://localhost:8080/",
          "height": 1000
        },
        "id": "lqulZ1OilItP",
        "outputId": "cf44b09d-3016-4fbf-cb1f-354467cc1366"
      },
      "execution_count": 17,
      "outputs": [
        {
          "output_type": "stream",
          "name": "stdout",
          "text": [
            "scene_50001\n",
            "L5048\n",
            "0.12287436914434821 0.09761942408743415\n",
            "scene_50002\n",
            "L5011\n",
            "0.14389393992138047 0.1370799638431106\n",
            "scene_50002\n",
            "L5024\n",
            "0.10600208668436481 0.12723895439132377\n",
            "scene_50003\n",
            "L5027\n",
            "0.14575217240905747 0.11878847412156862\n",
            "scene_50003\n",
            "L5053\n",
            "0.15246653155926657 0.14887067157029188\n",
            "scene_50004\n",
            "L5009\n",
            "0.08095481004163457 0.10708703860946145\n",
            "scene_50004\n",
            "L5013\n",
            "0.09725590232575983 0.08850369655856152\n",
            "scene_50005\n",
            "L5091\n",
            "0.15574438359892961 0.14756711167004002\n",
            "scene_50005\n",
            "L5005\n",
            "0.11726910484962005 0.10392585967208245\n",
            "scene_50006\n",
            "L5047\n",
            "0.15339819227057738 0.11892006401175813\n",
            "scene_50006\n",
            "L5031\n",
            "0.11313654883679627 0.11449159595559198\n",
            "scene_50007\n",
            "L5024\n",
            "0.10315829262413548 0.12383451192377654\n",
            "scene_50007\n",
            "L5018\n",
            "0.10181686946543919 0.10221146413806916\n",
            "scene_50008\n",
            "L5007\n",
            "0.09218558296031967 0.11131713010894141\n",
            "scene_50008\n",
            "L5086\n",
            "0.15553313172217467 0.14948178836715667\n",
            "scene_50009\n",
            "L5066\n",
            "0.1539001131706696 0.14129842395514863\n",
            "scene_50009\n",
            "L5018\n",
            "0.12461441917846332 0.12813123836908472\n",
            "scene_50010\n",
            "L5064\n",
            "0.13429397729760456 0.14380365423684294\n",
            "scene_50010\n",
            "L5068\n",
            "0.16608747674927984 0.16119195594072094\n",
            "scene_50011\n",
            "L5072\n",
            "0.14612082815186736 0.1375530232977637\n",
            "scene_50011\n",
            "L5086\n",
            "0.15103598763339698 0.14500237502468719\n",
            "scene_50012\n",
            "L5053\n",
            "0.1535679320265225 0.13916742588296638\n",
            "scene_50012\n",
            "L5045\n",
            "0.14910956913728401 0.12600347277177487\n",
            "scene_50013\n",
            "L5071\n",
            "0.1587978873351998 0.12037504081341469\n",
            "scene_50013\n",
            "L5037\n",
            "0.1159688350972762 0.08581120491099437\n",
            "scene_50014\n",
            "L5066\n",
            "0.12762163731978296 0.08249371050613347\n",
            "scene_50014\n",
            "L5057\n",
            "0.12005372896201047 0.10392332837942772\n",
            "scene_50015\n",
            "L5062\n",
            "0.15493566804388878 0.1298401498483166\n",
            "scene_50015\n",
            "L5092\n",
            "0.15110369038799093 0.1307710478629936\n",
            "scene_50016\n",
            "L5092\n",
            "0.12408233931769866 0.11884092223739418\n",
            "scene_50016\n",
            "L5051\n",
            "0.13241975170229628 0.13665030545721013\n",
            "scene_50017\n",
            "L5053\n",
            "0.1676810744763068 0.16081858792875028\n",
            "scene_50017\n",
            "L5093\n",
            "0.1627811890747144 0.13699414597028103\n",
            "scene_50018\n",
            "L5091\n",
            "0.1497329222491211 0.14902023385537042\n",
            "scene_50018\n",
            "L5027\n",
            "0.16563352285820412 0.14366908887505905\n",
            "scene_50019\n",
            "L5027\n",
            "0.16500147828597228 0.14473590035972878\n",
            "scene_50019\n",
            "L5000\n"
          ]
        },
        {
          "output_type": "stream",
          "name": "stderr",
          "text": [
            "WARNING:clarity.evaluator.haspi.eb:Function melcor9: Signal below threshold, outputs set to 0.\n",
            "WARNING:clarity.evaluator.haspi.eb:Function AveCovary2: Ave signal below threshold, outputs set to 0.\n"
          ]
        },
        {
          "output_type": "stream",
          "name": "stdout",
          "text": [
            "0.09339988054291372 0.1364560934258882\n",
            "scene_50020\n",
            "L5014\n",
            "0.10491531949665256 0.09864347951793824\n",
            "scene_50020\n",
            "L5039\n",
            "0.1500863785442924 0.11965088915863334\n",
            "scene_50021\n",
            "L5063\n",
            "0.1471044412985593 0.11754418311308781\n",
            "scene_50021\n",
            "L5064\n",
            "0.1306025163875729 0.12412285163471937\n",
            "scene_50022\n",
            "L5079\n",
            "0.13555858284748443 0.15163369288556064\n",
            "scene_50022\n",
            "L5078\n",
            "0.14648232409574888 0.13665084040731648\n",
            "scene_50023\n",
            "L5042\n",
            "0.11019747729841545 0.110748636612731\n",
            "scene_50023\n",
            "L5005\n",
            "0.09842632777138502 0.10114873544731796\n",
            "scene_50024\n",
            "L5027\n",
            "0.12101856007614673 0.0935127265955871\n",
            "scene_50024\n",
            "L5085\n",
            "0.10732241522172767 0.09131945352880294\n",
            "scene_50025\n",
            "L5063\n",
            "0.14874958205667255 0.13478923224509898\n",
            "scene_50025\n",
            "L5079\n",
            "0.14376145680697022 0.14375278314111004\n",
            "scene_50026\n",
            "L5069\n",
            "0.1116725288274936 0.10563338124388433\n",
            "scene_50026\n",
            "L5041\n",
            "0.14769612704340288 0.10761119656523044\n",
            "scene_50027\n",
            "L5069\n",
            "0.13023016876104754 0.13263852815730498\n",
            "scene_50027\n",
            "L5009\n",
            "0.12446983515989454 0.1536368883530894\n",
            "scene_50028\n",
            "L5076\n",
            "0.1129691266961212 0.12096447378956515\n",
            "scene_50028\n",
            "L5019\n",
            "0.10146367256535574 0.08144884780611203\n",
            "scene_50029\n",
            "L5023\n",
            "0.1376800934714413 0.16261241136711316\n",
            "scene_50029\n",
            "L5040\n",
            "0.12412021753355021 0.1158258473813494\n",
            "scene_50030\n",
            "L5008\n",
            "0.13966658438195576 0.1356673877258032\n",
            "scene_50030\n",
            "L5091\n",
            "0.13343177970175718 0.13796747527124717\n",
            "scene_50031\n",
            "L5043\n",
            "0.12763948569437852 0.13575118413992954\n",
            "scene_50031\n",
            "L5011\n",
            "0.16301867319354515 0.1623638888745269\n",
            "scene_50032\n",
            "L5055\n",
            "0.1656625674702809 0.10478396126218686\n",
            "scene_50032\n",
            "L5057\n",
            "0.12730697885833592 0.1266020284094227\n",
            "scene_50033\n",
            "L5009\n",
            "0.12412036572156943 0.13895243189897236\n",
            "scene_50033\n",
            "L5078\n",
            "0.1607309177368739 0.15158925431381912\n",
            "scene_50034\n",
            "L5085\n",
            "0.13728038356866784 0.13609020465811586\n",
            "scene_50034\n",
            "L5039\n",
            "0.1667555786609684 0.14940178751413108\n",
            "scene_50035\n",
            "L5007\n",
            "0.10355568124844647 0.11639981587306937\n",
            "scene_50035\n",
            "L5008\n",
            "0.1572676785393507 0.12905121618586246\n",
            "scene_50036\n",
            "L5011\n",
            "0.13206094468847815 0.13150649001553646\n",
            "scene_50036\n",
            "L5064\n",
            "0.13900885263657003 0.13541185022168828\n",
            "scene_50037\n",
            "L5020\n",
            "0.14341181975039932 0.11633057260923395\n",
            "scene_50037\n",
            "L5064\n",
            "0.12944502257991192 0.13530697022572297\n",
            "scene_50038\n",
            "L5086\n",
            "0.1629709616200649 0.15688722098432215\n",
            "scene_50038\n",
            "L5051\n",
            "0.1721510946647421 0.16319929701731603\n",
            "scene_50039\n",
            "L5053\n",
            "0.1609024306432757 0.1656935613288017\n",
            "scene_50039\n",
            "L5063\n",
            "0.15143147920122838 0.15127554515317493\n",
            "scene_50040\n",
            "L5071\n",
            "0.1738494351014002 0.14325810239095094\n",
            "scene_50040\n",
            "L5078\n",
            "0.15646352521100038 0.15070325073595187\n",
            "scene_50041\n",
            "L5048\n",
            "0.11153577955907669 0.10894145346879\n",
            "scene_50041\n",
            "L5089\n",
            "0.14275343070411067 0.1520982502629723\n",
            "scene_50042\n",
            "L5000\n"
          ]
        },
        {
          "output_type": "stream",
          "name": "stderr",
          "text": [
            "WARNING:clarity.evaluator.haspi.eb:Function melcor9: Signal below threshold, outputs set to 0.\n",
            "WARNING:clarity.evaluator.haspi.eb:Function AveCovary2: Ave signal below threshold, outputs set to 0.\n"
          ]
        },
        {
          "output_type": "stream",
          "name": "stdout",
          "text": [
            "0.13496636550684044 0.12014870516661323\n",
            "scene_50042\n",
            "L5023\n",
            "0.12708714405004948 0.14279018903929686\n",
            "scene_50043\n",
            "L5079\n",
            "0.1513087544723264 0.16192498215898843\n",
            "scene_50043\n",
            "L5062\n",
            "0.16774553908295853 0.15147267100926062\n",
            "scene_50044\n",
            "L5086\n",
            "0.14276162220280347 0.1497416565148355\n",
            "scene_50044\n",
            "L5071\n",
            "0.16350590118195724 0.1402731445689984\n",
            "scene_50045\n",
            "L5039\n",
            "0.1636676719713931 0.1501463910962775\n",
            "scene_50045\n",
            "L5045\n",
            "0.17212117218426443 0.15843326949534914\n",
            "scene_50046\n",
            "L5999\n",
            "0.1647676770765567 0.15411410802453596\n",
            "scene_50046\n",
            "L5019\n",
            "0.13368601489058535 0.10763371344900571\n",
            "scene_50047\n",
            "L5043\n",
            "0.12688195924063747 0.12022929530940413\n",
            "scene_50047\n",
            "L5078\n",
            "0.16373772638424666 0.1440794453560082\n",
            "scene_50048\n",
            "L5014\n",
            "0.10730643072163248 0.11442957217032876\n",
            "scene_50048\n",
            "L5005\n",
            "0.11692351913110524 0.10976035944705338\n",
            "scene_50049\n",
            "L5057\n",
            "0.1321521905627405 0.1253089072505499\n",
            "scene_50049\n",
            "L5020\n",
            "0.1536271079959197 0.13601115414049786\n",
            "scene_50050\n",
            "L5029\n",
            "0.13783110160832407 0.1270595071622017\n",
            "scene_50050\n",
            "L5076\n",
            "0.16656038695163786 0.1607906693062366\n",
            "scene_50051\n",
            "L5999\n"
          ]
        },
        {
          "output_type": "error",
          "ename": "LibsndfileError",
          "evalue": "ignored",
          "traceback": [
            "\u001b[0;31m---------------------------------------------------------------------------\u001b[0m",
            "\u001b[0;31mLibsndfileError\u001b[0m                           Traceback (most recent call last)",
            "\u001b[0;32m<ipython-input-17-9f96224eee15>\u001b[0m in \u001b[0;36m<cell line: 7>\u001b[0;34m()\u001b[0m\n\u001b[1;32m     20\u001b[0m \u001b[0;34m\u001b[0m\u001b[0m\n\u001b[1;32m     21\u001b[0m     \u001b[0;31m# load audio files for HAAQI\u001b[0m\u001b[0;34m\u001b[0m\u001b[0;34m\u001b[0m\u001b[0m\n\u001b[0;32m---> 22\u001b[0;31m     reference_mixture = read_signal(\n\u001b[0m\u001b[1;32m     23\u001b[0m             \u001b[0mfilename\u001b[0m\u001b[0;34m=\u001b[0m\u001b[0mreference_files\u001b[0m\u001b[0;34m[\u001b[0m\u001b[0midx\u001b[0m\u001b[0;34m]\u001b[0m\u001b[0;34m,\u001b[0m\u001b[0;34m\u001b[0m\u001b[0;34m\u001b[0m\u001b[0m\n\u001b[1;32m     24\u001b[0m             \u001b[0msample_rate\u001b[0m\u001b[0;34m=\u001b[0m\u001b[0mconfig\u001b[0m\u001b[0;34m.\u001b[0m\u001b[0msample_rate\u001b[0m\u001b[0;34m,\u001b[0m\u001b[0;34m\u001b[0m\u001b[0;34m\u001b[0m\u001b[0m\n",
            "\u001b[0;32m/usr/local/lib/python3.10/dist-packages/clarity/utils/file_io.py\u001b[0m in \u001b[0;36mread_signal\u001b[0;34m(filename, sample_rate, offset, n_samples, n_channels, offset_is_samples, allow_resample)\u001b[0m\n\u001b[1;32m    135\u001b[0m     \"\"\"\n\u001b[1;32m    136\u001b[0m \u001b[0;34m\u001b[0m\u001b[0m\n\u001b[0;32m--> 137\u001b[0;31m     \u001b[0mwave_file\u001b[0m \u001b[0;34m=\u001b[0m \u001b[0mSoundFile\u001b[0m\u001b[0;34m(\u001b[0m\u001b[0mfilename\u001b[0m\u001b[0;34m)\u001b[0m\u001b[0;34m\u001b[0m\u001b[0;34m\u001b[0m\u001b[0m\n\u001b[0m\u001b[1;32m    138\u001b[0m \u001b[0;34m\u001b[0m\u001b[0m\n\u001b[1;32m    139\u001b[0m     \u001b[0;32mif\u001b[0m \u001b[0mn_channels\u001b[0m \u001b[0;32mnot\u001b[0m \u001b[0;32min\u001b[0m \u001b[0;34m(\u001b[0m\u001b[0;36m0\u001b[0m\u001b[0;34m,\u001b[0m \u001b[0mwave_file\u001b[0m\u001b[0;34m.\u001b[0m\u001b[0mchannels\u001b[0m\u001b[0;34m)\u001b[0m\u001b[0;34m:\u001b[0m\u001b[0;34m\u001b[0m\u001b[0;34m\u001b[0m\u001b[0m\n",
            "\u001b[0;32m/usr/local/lib/python3.10/dist-packages/soundfile.py\u001b[0m in \u001b[0;36m__init__\u001b[0;34m(self, file, mode, samplerate, channels, subtype, endian, format, closefd)\u001b[0m\n\u001b[1;32m    656\u001b[0m         self._info = _create_info_struct(file, mode, samplerate, channels,\n\u001b[1;32m    657\u001b[0m                                          format, subtype, endian)\n\u001b[0;32m--> 658\u001b[0;31m         \u001b[0mself\u001b[0m\u001b[0;34m.\u001b[0m\u001b[0m_file\u001b[0m \u001b[0;34m=\u001b[0m \u001b[0mself\u001b[0m\u001b[0;34m.\u001b[0m\u001b[0m_open\u001b[0m\u001b[0;34m(\u001b[0m\u001b[0mfile\u001b[0m\u001b[0;34m,\u001b[0m \u001b[0mmode_int\u001b[0m\u001b[0;34m,\u001b[0m \u001b[0mclosefd\u001b[0m\u001b[0;34m)\u001b[0m\u001b[0;34m\u001b[0m\u001b[0;34m\u001b[0m\u001b[0m\n\u001b[0m\u001b[1;32m    659\u001b[0m         \u001b[0;32mif\u001b[0m \u001b[0mset\u001b[0m\u001b[0;34m(\u001b[0m\u001b[0mmode\u001b[0m\u001b[0;34m)\u001b[0m\u001b[0;34m.\u001b[0m\u001b[0missuperset\u001b[0m\u001b[0;34m(\u001b[0m\u001b[0;34m'r+'\u001b[0m\u001b[0;34m)\u001b[0m \u001b[0;32mand\u001b[0m \u001b[0mself\u001b[0m\u001b[0;34m.\u001b[0m\u001b[0mseekable\u001b[0m\u001b[0;34m(\u001b[0m\u001b[0;34m)\u001b[0m\u001b[0;34m:\u001b[0m\u001b[0;34m\u001b[0m\u001b[0;34m\u001b[0m\u001b[0m\n\u001b[1;32m    660\u001b[0m             \u001b[0;31m# Move write position to 0 (like in Python file objects)\u001b[0m\u001b[0;34m\u001b[0m\u001b[0;34m\u001b[0m\u001b[0m\n",
            "\u001b[0;32m/usr/local/lib/python3.10/dist-packages/soundfile.py\u001b[0m in \u001b[0;36m_open\u001b[0;34m(self, file, mode_int, closefd)\u001b[0m\n\u001b[1;32m   1214\u001b[0m             \u001b[0;31m# get the actual error code\u001b[0m\u001b[0;34m\u001b[0m\u001b[0;34m\u001b[0m\u001b[0m\n\u001b[1;32m   1215\u001b[0m             \u001b[0merr\u001b[0m \u001b[0;34m=\u001b[0m \u001b[0m_snd\u001b[0m\u001b[0;34m.\u001b[0m\u001b[0msf_error\u001b[0m\u001b[0;34m(\u001b[0m\u001b[0mfile_ptr\u001b[0m\u001b[0;34m)\u001b[0m\u001b[0;34m\u001b[0m\u001b[0;34m\u001b[0m\u001b[0m\n\u001b[0;32m-> 1216\u001b[0;31m             \u001b[0;32mraise\u001b[0m \u001b[0mLibsndfileError\u001b[0m\u001b[0;34m(\u001b[0m\u001b[0merr\u001b[0m\u001b[0;34m,\u001b[0m \u001b[0mprefix\u001b[0m\u001b[0;34m=\u001b[0m\u001b[0;34m\"Error opening {0!r}: \"\u001b[0m\u001b[0;34m.\u001b[0m\u001b[0mformat\u001b[0m\u001b[0;34m(\u001b[0m\u001b[0mself\u001b[0m\u001b[0;34m.\u001b[0m\u001b[0mname\u001b[0m\u001b[0;34m)\u001b[0m\u001b[0;34m)\u001b[0m\u001b[0;34m\u001b[0m\u001b[0;34m\u001b[0m\u001b[0m\n\u001b[0m\u001b[1;32m   1217\u001b[0m         \u001b[0;32mif\u001b[0m \u001b[0mmode_int\u001b[0m \u001b[0;34m==\u001b[0m \u001b[0m_snd\u001b[0m\u001b[0;34m.\u001b[0m\u001b[0mSFM_WRITE\u001b[0m\u001b[0;34m:\u001b[0m\u001b[0;34m\u001b[0m\u001b[0;34m\u001b[0m\u001b[0m\n\u001b[1;32m   1218\u001b[0m             \u001b[0;31m# Due to a bug in libsndfile version <= 1.0.25, frames != 0\u001b[0m\u001b[0;34m\u001b[0m\u001b[0;34m\u001b[0m\u001b[0m\n",
            "\u001b[0;31mLibsndfileError\u001b[0m: Error opening 'Val_Ref_Tracks/scene_50051_L5999_remix_ref.flac': System error."
          ]
        }
      ]
    },
    {
      "cell_type": "markdown",
      "source": [
        "# Implementing classic SDR eval"
      ],
      "metadata": {
        "id": "N1YV6MdNQPgX"
      }
    },
    {
      "cell_type": "code",
      "source": [
        "!pip install mir_eval\n",
        "from mir_eval import separation\n",
        "separation.bss_eval_sources(song1, song2)[0].mean()"
      ],
      "metadata": {
        "id": "Fq9T3w0DQTqg"
      },
      "execution_count": null,
      "outputs": []
    }
  ],
  "metadata": {
    "colab": {
      "provenance": [],
      "include_colab_link": true
    },
    "kernelspec": {
      "display_name": "Python 3",
      "name": "python3"
    },
    "language_info": {
      "name": "python"
    },
    "accelerator": "TPU"
  },
  "nbformat": 4,
  "nbformat_minor": 0
}