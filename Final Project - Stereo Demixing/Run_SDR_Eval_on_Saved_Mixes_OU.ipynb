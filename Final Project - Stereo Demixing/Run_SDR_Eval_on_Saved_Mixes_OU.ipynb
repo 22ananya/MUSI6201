{
  "cells": [
    {
      "cell_type": "markdown",
      "metadata": {
        "id": "view-in-github",
        "colab_type": "text"
      },
      "source": [
        "<a href=\"https://colab.research.google.com/github/22ananya/MUSI6201/blob/main/Final%20Project%20-%20Stereo%20Demixing/Run_SDR_Eval_on_Saved_Mixes_OU.ipynb\" target=\"_parent\"><img src=\"https://colab.research.google.com/assets/colab-badge.svg\" alt=\"Open In Colab\"/></a>"
      ]
    },
    {
      "cell_type": "markdown",
      "metadata": {
        "id": "RybrH0gAWbaJ"
      },
      "source": [
        "Import generally required packages - update as needed"
      ]
    },
    {
      "cell_type": "code",
      "execution_count": 1,
      "metadata": {
        "id": "tj5sXc5LWHpQ"
      },
      "outputs": [],
      "source": [
        "# Import dependencies\n",
        "import numpy as np\n",
        "import matplotlib.pyplot as plt\n",
        "import librosa\n",
        "import scipy.signal as sp\n",
        "import scipy.io.wavfile as wav"
      ]
    },
    {
      "cell_type": "markdown",
      "metadata": {
        "id": "SW5-Sa5pYuUN"
      },
      "source": [
        "Import/Install the prerequisite code for implementing the Cadenza challenge - includes baselines, other important files"
      ]
    },
    {
      "cell_type": "code",
      "source": [
        "!pip install pyclarity==0.4.0"
      ],
      "metadata": {
        "id": "rgBYSep2Y6UT",
        "collapsed": true,
        "outputId": "d888b575-a9f4-4119-b0aa-dd180664e0d4",
        "colab": {
          "base_uri": "https://localhost:8080/",
          "height": 1000
        }
      },
      "execution_count": 2,
      "outputs": [
        {
          "output_type": "stream",
          "name": "stdout",
          "text": [
            "Collecting pyclarity==0.4.0\n",
            "  Downloading pyclarity-0.4.0-py3-none-any.whl (750 kB)\n",
            "\u001b[2K     \u001b[90m━━━━━━━━━━━━━━━━━━━━━━━━━━━━━━━━━━━━━━━━\u001b[0m \u001b[32m750.6/750.6 kB\u001b[0m \u001b[31m994.1 kB/s\u001b[0m eta \u001b[36m0:00:00\u001b[0m\n",
            "\u001b[?25hRequirement already satisfied: audioread>=2.1.9 in /usr/local/lib/python3.10/dist-packages (from pyclarity==0.4.0) (3.0.1)\n",
            "Requirement already satisfied: gdown in /usr/local/lib/python3.10/dist-packages (from pyclarity==0.4.0) (4.6.6)\n",
            "Collecting hydra-core>=1.1.1 (from pyclarity==0.4.0)\n",
            "  Downloading hydra_core-1.3.2-py3-none-any.whl (154 kB)\n",
            "\u001b[2K     \u001b[90m━━━━━━━━━━━━━━━━━━━━━━━━━━━━━━━━━━━━━━━━\u001b[0m \u001b[32m154.5/154.5 kB\u001b[0m \u001b[31m1.2 MB/s\u001b[0m eta \u001b[36m0:00:00\u001b[0m\n",
            "\u001b[?25hCollecting hydra-submitit-launcher>=1.1.6 (from pyclarity==0.4.0)\n",
            "  Downloading hydra_submitit_launcher-1.2.0-py3-none-any.whl (5.2 kB)\n",
            "Requirement already satisfied: importlib-metadata in /usr/local/lib/python3.10/dist-packages (from pyclarity==0.4.0) (6.8.0)\n",
            "Requirement already satisfied: librosa>=0.8.1 in /usr/local/lib/python3.10/dist-packages (from pyclarity==0.4.0) (0.10.1)\n",
            "Requirement already satisfied: matplotlib in /usr/local/lib/python3.10/dist-packages (from pyclarity==0.4.0) (3.7.1)\n",
            "Requirement already satisfied: numba>=0.57.0rc in /usr/local/lib/python3.10/dist-packages (from pyclarity==0.4.0) (0.58.1)\n",
            "Requirement already satisfied: numpy<1.25.0,>=1.21.6 in /usr/local/lib/python3.10/dist-packages (from pyclarity==0.4.0) (1.23.5)\n",
            "Collecting omegaconf>=2.1.1 (from pyclarity==0.4.0)\n",
            "  Downloading omegaconf-2.3.0-py3-none-any.whl (79 kB)\n",
            "\u001b[2K     \u001b[90m━━━━━━━━━━━━━━━━━━━━━━━━━━━━━━━━━━━━━━━━\u001b[0m \u001b[32m79.5/79.5 kB\u001b[0m \u001b[31m1.3 MB/s\u001b[0m eta \u001b[36m0:00:00\u001b[0m\n",
            "\u001b[?25hRequirement already satisfied: pandas>=1.3.5 in /usr/local/lib/python3.10/dist-packages (from pyclarity==0.4.0) (1.5.3)\n",
            "Collecting pyflac (from pyclarity==0.4.0)\n",
            "  Downloading pyFLAC-2.2.0.tar.gz (2.6 MB)\n",
            "\u001b[2K     \u001b[90m━━━━━━━━━━━━━━━━━━━━━━━━━━━━━━━━━━━━━━━━\u001b[0m \u001b[32m2.6/2.6 MB\u001b[0m \u001b[31m1.6 MB/s\u001b[0m eta \u001b[36m0:00:00\u001b[0m\n",
            "\u001b[?25h  Installing build dependencies ... \u001b[?25l\u001b[?25hdone\n",
            "  Getting requirements to build wheel ... \u001b[?25l\u001b[?25hdone\n",
            "  Preparing metadata (pyproject.toml) ... \u001b[?25l\u001b[?25hdone\n",
            "Collecting pyloudnorm>=0.1.0 (from pyclarity==0.4.0)\n",
            "  Downloading pyloudnorm-0.1.1-py3-none-any.whl (9.6 kB)\n",
            "Collecting pystoi (from pyclarity==0.4.0)\n",
            "  Downloading pystoi-0.3.3.tar.gz (7.0 kB)\n",
            "  Preparing metadata (setup.py) ... \u001b[?25l\u001b[?25hdone\n",
            "Collecting pytorch-lightning (from pyclarity==0.4.0)\n",
            "  Downloading pytorch_lightning-2.1.2-py3-none-any.whl (776 kB)\n",
            "\u001b[2K     \u001b[90m━━━━━━━━━━━━━━━━━━━━━━━━━━━━━━━━━━━━━━━━\u001b[0m \u001b[32m776.9/776.9 kB\u001b[0m \u001b[31m1.6 MB/s\u001b[0m eta \u001b[36m0:00:00\u001b[0m\n",
            "\u001b[?25hCollecting resampy (from pyclarity==0.4.0)\n",
            "  Downloading resampy-0.4.2-py3-none-any.whl (3.1 MB)\n",
            "\u001b[2K     \u001b[90m━━━━━━━━━━━━━━━━━━━━━━━━━━━━━━━━━━━━━━━━\u001b[0m \u001b[32m3.1/3.1 MB\u001b[0m \u001b[31m1.8 MB/s\u001b[0m eta \u001b[36m0:00:00\u001b[0m\n",
            "\u001b[?25hRequirement already satisfied: scikit-learn>=1.0.2 in /usr/local/lib/python3.10/dist-packages (from pyclarity==0.4.0) (1.2.2)\n",
            "Requirement already satisfied: scipy>=1.7.3 in /usr/local/lib/python3.10/dist-packages (from pyclarity==0.4.0) (1.11.4)\n",
            "Requirement already satisfied: SoundFile>=0.10.3.post1 in /usr/local/lib/python3.10/dist-packages (from pyclarity==0.4.0) (0.12.1)\n",
            "Requirement already satisfied: soxr in /usr/local/lib/python3.10/dist-packages (from pyclarity==0.4.0) (0.3.7)\n",
            "Requirement already satisfied: torch>=2 in /usr/local/lib/python3.10/dist-packages (from pyclarity==0.4.0) (2.1.0+cu118)\n",
            "Requirement already satisfied: torchaudio in /usr/local/lib/python3.10/dist-packages (from pyclarity==0.4.0) (2.1.0+cu118)\n",
            "Requirement already satisfied: tqdm>=4.62.3 in /usr/local/lib/python3.10/dist-packages (from pyclarity==0.4.0) (4.66.1)\n",
            "Requirement already satisfied: typing-extensions in /usr/local/lib/python3.10/dist-packages (from pyclarity==0.4.0) (4.5.0)\n",
            "Collecting antlr4-python3-runtime==4.9.* (from hydra-core>=1.1.1->pyclarity==0.4.0)\n",
            "  Downloading antlr4-python3-runtime-4.9.3.tar.gz (117 kB)\n",
            "\u001b[2K     \u001b[90m━━━━━━━━━━━━━━━━━━━━━━━━━━━━━━━━━━━━━━━━\u001b[0m \u001b[32m117.0/117.0 kB\u001b[0m \u001b[31m1.7 MB/s\u001b[0m eta \u001b[36m0:00:00\u001b[0m\n",
            "\u001b[?25h  Preparing metadata (setup.py) ... \u001b[?25l\u001b[?25hdone\n",
            "Requirement already satisfied: packaging in /usr/local/lib/python3.10/dist-packages (from hydra-core>=1.1.1->pyclarity==0.4.0) (23.2)\n",
            "Collecting submitit>=1.3.3 (from hydra-submitit-launcher>=1.1.6->pyclarity==0.4.0)\n",
            "  Downloading submitit-1.5.1-py3-none-any.whl (74 kB)\n",
            "\u001b[2K     \u001b[90m━━━━━━━━━━━━━━━━━━━━━━━━━━━━━━━━━━━━━━━━\u001b[0m \u001b[32m74.7/74.7 kB\u001b[0m \u001b[31m1.5 MB/s\u001b[0m eta \u001b[36m0:00:00\u001b[0m\n",
            "\u001b[?25hRequirement already satisfied: joblib>=0.14 in /usr/local/lib/python3.10/dist-packages (from librosa>=0.8.1->pyclarity==0.4.0) (1.3.2)\n",
            "Requirement already satisfied: decorator>=4.3.0 in /usr/local/lib/python3.10/dist-packages (from librosa>=0.8.1->pyclarity==0.4.0) (4.4.2)\n",
            "Requirement already satisfied: pooch>=1.0 in /usr/local/lib/python3.10/dist-packages (from librosa>=0.8.1->pyclarity==0.4.0) (1.8.0)\n",
            "Requirement already satisfied: lazy-loader>=0.1 in /usr/local/lib/python3.10/dist-packages (from librosa>=0.8.1->pyclarity==0.4.0) (0.3)\n",
            "Requirement already satisfied: msgpack>=1.0 in /usr/local/lib/python3.10/dist-packages (from librosa>=0.8.1->pyclarity==0.4.0) (1.0.7)\n",
            "Requirement already satisfied: llvmlite<0.42,>=0.41.0dev0 in /usr/local/lib/python3.10/dist-packages (from numba>=0.57.0rc->pyclarity==0.4.0) (0.41.1)\n",
            "Requirement already satisfied: PyYAML>=5.1.0 in /usr/local/lib/python3.10/dist-packages (from omegaconf>=2.1.1->pyclarity==0.4.0) (6.0.1)\n",
            "Requirement already satisfied: python-dateutil>=2.8.1 in /usr/local/lib/python3.10/dist-packages (from pandas>=1.3.5->pyclarity==0.4.0) (2.8.2)\n",
            "Requirement already satisfied: pytz>=2020.1 in /usr/local/lib/python3.10/dist-packages (from pandas>=1.3.5->pyclarity==0.4.0) (2023.3.post1)\n",
            "Requirement already satisfied: future>=0.16.0 in /usr/local/lib/python3.10/dist-packages (from pyloudnorm>=0.1.0->pyclarity==0.4.0) (0.18.3)\n",
            "Requirement already satisfied: threadpoolctl>=2.0.0 in /usr/local/lib/python3.10/dist-packages (from scikit-learn>=1.0.2->pyclarity==0.4.0) (3.2.0)\n",
            "Requirement already satisfied: cffi>=1.0 in /usr/local/lib/python3.10/dist-packages (from SoundFile>=0.10.3.post1->pyclarity==0.4.0) (1.16.0)\n",
            "Requirement already satisfied: filelock in /usr/local/lib/python3.10/dist-packages (from torch>=2->pyclarity==0.4.0) (3.13.1)\n",
            "Requirement already satisfied: sympy in /usr/local/lib/python3.10/dist-packages (from torch>=2->pyclarity==0.4.0) (1.12)\n",
            "Requirement already satisfied: networkx in /usr/local/lib/python3.10/dist-packages (from torch>=2->pyclarity==0.4.0) (3.2.1)\n",
            "Requirement already satisfied: jinja2 in /usr/local/lib/python3.10/dist-packages (from torch>=2->pyclarity==0.4.0) (3.1.2)\n",
            "Requirement already satisfied: fsspec in /usr/local/lib/python3.10/dist-packages (from torch>=2->pyclarity==0.4.0) (2023.6.0)\n",
            "Requirement already satisfied: triton==2.1.0 in /usr/local/lib/python3.10/dist-packages (from torch>=2->pyclarity==0.4.0) (2.1.0)\n",
            "Requirement already satisfied: requests[socks] in /usr/local/lib/python3.10/dist-packages (from gdown->pyclarity==0.4.0) (2.31.0)\n",
            "Requirement already satisfied: six in /usr/local/lib/python3.10/dist-packages (from gdown->pyclarity==0.4.0) (1.16.0)\n",
            "Requirement already satisfied: beautifulsoup4 in /usr/local/lib/python3.10/dist-packages (from gdown->pyclarity==0.4.0) (4.11.2)\n",
            "Requirement already satisfied: zipp>=0.5 in /usr/local/lib/python3.10/dist-packages (from importlib-metadata->pyclarity==0.4.0) (3.17.0)\n",
            "Requirement already satisfied: contourpy>=1.0.1 in /usr/local/lib/python3.10/dist-packages (from matplotlib->pyclarity==0.4.0) (1.2.0)\n",
            "Requirement already satisfied: cycler>=0.10 in /usr/local/lib/python3.10/dist-packages (from matplotlib->pyclarity==0.4.0) (0.12.1)\n",
            "Requirement already satisfied: fonttools>=4.22.0 in /usr/local/lib/python3.10/dist-packages (from matplotlib->pyclarity==0.4.0) (4.45.1)\n",
            "Requirement already satisfied: kiwisolver>=1.0.1 in /usr/local/lib/python3.10/dist-packages (from matplotlib->pyclarity==0.4.0) (1.4.5)\n",
            "Requirement already satisfied: pillow>=6.2.0 in /usr/local/lib/python3.10/dist-packages (from matplotlib->pyclarity==0.4.0) (9.4.0)\n",
            "Requirement already satisfied: pyparsing>=2.3.1 in /usr/local/lib/python3.10/dist-packages (from matplotlib->pyclarity==0.4.0) (3.1.1)\n",
            "Collecting torchmetrics>=0.7.0 (from pytorch-lightning->pyclarity==0.4.0)\n",
            "  Downloading torchmetrics-1.2.1-py3-none-any.whl (806 kB)\n",
            "\u001b[2K     \u001b[90m━━━━━━━━━━━━━━━━━━━━━━━━━━━━━━━━━━━━━━━━\u001b[0m \u001b[32m806.1/806.1 kB\u001b[0m \u001b[31m2.0 MB/s\u001b[0m eta \u001b[36m0:00:00\u001b[0m\n",
            "\u001b[?25hCollecting lightning-utilities>=0.8.0 (from pytorch-lightning->pyclarity==0.4.0)\n",
            "  Downloading lightning_utilities-0.10.0-py3-none-any.whl (24 kB)\n",
            "Requirement already satisfied: pycparser in /usr/local/lib/python3.10/dist-packages (from cffi>=1.0->SoundFile>=0.10.3.post1->pyclarity==0.4.0) (2.21)\n",
            "Requirement already satisfied: aiohttp!=4.0.0a0,!=4.0.0a1 in /usr/local/lib/python3.10/dist-packages (from fsspec->torch>=2->pyclarity==0.4.0) (3.9.1)\n",
            "Requirement already satisfied: setuptools in /usr/local/lib/python3.10/dist-packages (from lightning-utilities>=0.8.0->pytorch-lightning->pyclarity==0.4.0) (67.7.2)\n",
            "Requirement already satisfied: platformdirs>=2.5.0 in /usr/local/lib/python3.10/dist-packages (from pooch>=1.0->librosa>=0.8.1->pyclarity==0.4.0) (4.0.0)\n",
            "Requirement already satisfied: cloudpickle>=1.2.1 in /usr/local/lib/python3.10/dist-packages (from submitit>=1.3.3->hydra-submitit-launcher>=1.1.6->pyclarity==0.4.0) (2.2.1)\n",
            "Requirement already satisfied: soupsieve>1.2 in /usr/local/lib/python3.10/dist-packages (from beautifulsoup4->gdown->pyclarity==0.4.0) (2.5)\n",
            "Requirement already satisfied: MarkupSafe>=2.0 in /usr/local/lib/python3.10/dist-packages (from jinja2->torch>=2->pyclarity==0.4.0) (2.1.3)\n",
            "Requirement already satisfied: charset-normalizer<4,>=2 in /usr/local/lib/python3.10/dist-packages (from requests[socks]->gdown->pyclarity==0.4.0) (3.3.2)\n",
            "Requirement already satisfied: idna<4,>=2.5 in /usr/local/lib/python3.10/dist-packages (from requests[socks]->gdown->pyclarity==0.4.0) (3.6)\n",
            "Requirement already satisfied: urllib3<3,>=1.21.1 in /usr/local/lib/python3.10/dist-packages (from requests[socks]->gdown->pyclarity==0.4.0) (2.0.7)\n",
            "Requirement already satisfied: certifi>=2017.4.17 in /usr/local/lib/python3.10/dist-packages (from requests[socks]->gdown->pyclarity==0.4.0) (2023.11.17)\n",
            "Requirement already satisfied: PySocks!=1.5.7,>=1.5.6 in /usr/local/lib/python3.10/dist-packages (from requests[socks]->gdown->pyclarity==0.4.0) (1.7.1)\n",
            "Requirement already satisfied: mpmath>=0.19 in /usr/local/lib/python3.10/dist-packages (from sympy->torch>=2->pyclarity==0.4.0) (1.3.0)\n",
            "Requirement already satisfied: attrs>=17.3.0 in /usr/local/lib/python3.10/dist-packages (from aiohttp!=4.0.0a0,!=4.0.0a1->fsspec->torch>=2->pyclarity==0.4.0) (23.1.0)\n",
            "Requirement already satisfied: multidict<7.0,>=4.5 in /usr/local/lib/python3.10/dist-packages (from aiohttp!=4.0.0a0,!=4.0.0a1->fsspec->torch>=2->pyclarity==0.4.0) (6.0.4)\n",
            "Requirement already satisfied: yarl<2.0,>=1.0 in /usr/local/lib/python3.10/dist-packages (from aiohttp!=4.0.0a0,!=4.0.0a1->fsspec->torch>=2->pyclarity==0.4.0) (1.9.3)\n",
            "Requirement already satisfied: frozenlist>=1.1.1 in /usr/local/lib/python3.10/dist-packages (from aiohttp!=4.0.0a0,!=4.0.0a1->fsspec->torch>=2->pyclarity==0.4.0) (1.4.0)\n",
            "Requirement already satisfied: aiosignal>=1.1.2 in /usr/local/lib/python3.10/dist-packages (from aiohttp!=4.0.0a0,!=4.0.0a1->fsspec->torch>=2->pyclarity==0.4.0) (1.3.1)\n",
            "Requirement already satisfied: async-timeout<5.0,>=4.0 in /usr/local/lib/python3.10/dist-packages (from aiohttp!=4.0.0a0,!=4.0.0a1->fsspec->torch>=2->pyclarity==0.4.0) (4.0.3)\n",
            "Building wheels for collected packages: antlr4-python3-runtime, pyflac, pystoi\n",
            "  Building wheel for antlr4-python3-runtime (setup.py) ... \u001b[?25l\u001b[?25hdone\n",
            "  Created wheel for antlr4-python3-runtime: filename=antlr4_python3_runtime-4.9.3-py3-none-any.whl size=144554 sha256=feb029db8ea9de907b91ac225d4fed9d38922b524fe16e76e39839b5865ac24b\n",
            "  Stored in directory: /root/.cache/pip/wheels/12/93/dd/1f6a127edc45659556564c5730f6d4e300888f4bca2d4c5a88\n",
            "  Building wheel for pyflac (pyproject.toml) ... \u001b[?25l\u001b[?25hdone\n",
            "  Created wheel for pyflac: filename=pyFLAC-2.2.0-cp310-cp310-linux_x86_64.whl size=1682408 sha256=99b26663ac9ae01733f20c0b1de60044b885c7a9b94c6af5448adb24b9ef126b\n",
            "  Stored in directory: /root/.cache/pip/wheels/b6/48/5e/2886846557610648e498e722559426a62d24b858db2cc8d248\n",
            "  Building wheel for pystoi (setup.py) ... \u001b[?25l\u001b[?25hdone\n",
            "  Created wheel for pystoi: filename=pystoi-0.3.3-py2.py3-none-any.whl size=7778 sha256=31b14d572afab5efda0efc1b799beb84c1b3929a0a039f206d113d84828e116b\n",
            "  Stored in directory: /root/.cache/pip/wheels/3b/ca/9e/5b5d6e5e109322303b50d21918ad2bd7d50a2a0775c11e08e8\n",
            "Successfully built antlr4-python3-runtime pyflac pystoi\n",
            "Installing collected packages: antlr4-python3-runtime, submitit, omegaconf, lightning-utilities, resampy, pystoi, pyloudnorm, hydra-core, torchmetrics, pyflac, hydra-submitit-launcher, pytorch-lightning, pyclarity\n",
            "Successfully installed antlr4-python3-runtime-4.9.3 hydra-core-1.3.2 hydra-submitit-launcher-1.2.0 lightning-utilities-0.10.0 omegaconf-2.3.0 pyclarity-0.4.0 pyflac-2.2.0 pyloudnorm-0.1.1 pystoi-0.3.3 pytorch-lightning-2.1.2 resampy-0.4.2 submitit-1.5.1 torchmetrics-1.2.1\n"
          ]
        },
        {
          "output_type": "display_data",
          "data": {
            "application/vnd.colab-display-data+json": {
              "pip_warning": {
                "packages": [
                  "pydevd_plugins"
                ]
              }
            }
          },
          "metadata": {}
        }
      ]
    },
    {
      "cell_type": "markdown",
      "metadata": {
        "id": "8vLsywcTb5FB"
      },
      "source": [
        "Import the dataset for the Cadenza challenge directly through the Google Drive link - Only needs to be done once! So now commented out\n"
      ]
    },
    {
      "cell_type": "code",
      "execution_count": 3,
      "metadata": {
        "colab": {
          "base_uri": "https://localhost:8080/"
        },
        "id": "VrtLL_IXb_kz",
        "outputId": "288e10a5-9729-472f-e0a0-13b21a94d319"
      },
      "outputs": [
        {
          "output_type": "stream",
          "name": "stdout",
          "text": [
            "Mounted at /content/drive\n"
          ]
        }
      ],
      "source": [
        "from google.colab import drive\n",
        "drive.mount('/content/drive')"
      ]
    },
    {
      "cell_type": "markdown",
      "metadata": {
        "id": "1uOllNXFfDlh"
      },
      "source": [
        "Check current path"
      ]
    },
    {
      "cell_type": "code",
      "execution_count": 4,
      "metadata": {
        "colab": {
          "base_uri": "https://localhost:8080/"
        },
        "id": "xmCaU0XNfHu6",
        "outputId": "f88726ae-26e4-42eb-8d4d-c7d22b97f317"
      },
      "outputs": [
        {
          "output_type": "stream",
          "name": "stdout",
          "text": [
            "/content\n"
          ]
        }
      ],
      "source": [
        "import os\n",
        "print(os.getcwd())"
      ]
    },
    {
      "cell_type": "markdown",
      "metadata": {
        "id": "Ys7wmmN00ZpY"
      },
      "source": [
        "Change current path to Cadenza folder"
      ]
    },
    {
      "cell_type": "code",
      "execution_count": 5,
      "metadata": {
        "colab": {
          "base_uri": "https://localhost:8080/"
        },
        "id": "Us9_BSIi0gOM",
        "outputId": "e494b7d7-0258-472a-b2fb-badb370afa3c"
      },
      "outputs": [
        {
          "output_type": "stream",
          "name": "stdout",
          "text": [
            "/content/drive/MyDrive/Cadenza_Challenge/cad_icassp_2024\n"
          ]
        }
      ],
      "source": [
        "os.chdir('/content/drive/MyDrive/Cadenza_Challenge/cad_icassp_2024')\n",
        "print(os.getcwd())"
      ]
    },
    {
      "cell_type": "markdown",
      "metadata": {
        "id": "qIV3qhN6x5si"
      },
      "source": [
        "#Process single audio file through the entire model step by step"
      ]
    },
    {
      "cell_type": "markdown",
      "source": [
        "Import all dependencies - same as enhance.py file"
      ],
      "metadata": {
        "id": "XzG_c2u33Rdt"
      }
    },
    {
      "cell_type": "code",
      "source": [
        "from __future__ import annotations\n",
        "\n",
        "import json\n",
        "import logging\n",
        "from pathlib import Path\n",
        "\n",
        "# pylint: disable=import-error\n",
        "import hydra\n",
        "import numpy as np\n",
        "import torch\n",
        "from numpy import ndarray\n",
        "from omegaconf import DictConfig\n",
        "from torchaudio.pipelines import HDEMUCS_HIGH_MUSDB\n",
        "\n",
        "from clarity.enhancer.compressor import Compressor\n",
        "from clarity.enhancer.nalr import NALR\n",
        "from clarity.evaluator.haaqi import compute_haaqi\n",
        "from clarity.utils.audiogram import Audiogram, Listener\n",
        "from clarity.utils.file_io import read_signal\n",
        "from clarity.utils.flac_encoder import FlacEncoder\n",
        "from clarity.utils.results_support import ResultsFile\n",
        "from clarity.utils.signal_processing import (\n",
        "    clip_signal,\n",
        "    denormalize_signals,\n",
        "    normalize_signal,\n",
        "    resample,\n",
        "    to_16bit,\n",
        "    compute_rms,\n",
        "    resample,\n",
        ")\n",
        "from clarity.utils.source_separation_support import get_device, separate_sources\n",
        "from recipes.cad_icassp_2024.baseline.evaluate import (\n",
        "    apply_gains,\n",
        "    apply_ha,\n",
        "    make_scene_listener_list,\n",
        "    remix_stems,\n",
        "    load_reference_stems,\n",
        ")\n",
        "\n",
        "logger = logging.getLogger(__name__)"
      ],
      "metadata": {
        "colab": {
          "base_uri": "https://localhost:8080/"
        },
        "id": "qXGfszFA3pOl",
        "outputId": "7a052f43-9516-488d-c385-aeae5490c0f4"
      },
      "execution_count": 6,
      "outputs": [
        {
          "output_type": "stream",
          "name": "stderr",
          "text": [
            "/usr/local/lib/python3.10/dist-packages/recipes/cad_icassp_2024/baseline/evaluate.py:190: UserWarning: \n",
            "The version_base parameter is not specified.\n",
            "Please specify a compatability version level, or None.\n",
            "Will assume defaults for version 1.1\n",
            "  @hydra.main(config_path=\"\", config_name=\"config\")\n"
          ]
        }
      ]
    },
    {
      "cell_type": "markdown",
      "source": [
        "Import all the required functions defined in Enhance.py that do not need to be changed"
      ],
      "metadata": {
        "id": "9CAxXIQs3yPE"
      }
    },
    {
      "cell_type": "code",
      "source": [
        "from recipes.cad_icassp_2024.baseline.enhance import (\n",
        "    save_flac_signal,\n",
        "    decompose_signal,\n",
        "    process_remix_for_listener\n",
        ")"
      ],
      "metadata": {
        "id": "fO7Ke41s34zw",
        "colab": {
          "base_uri": "https://localhost:8080/"
        },
        "outputId": "1bed60de-4bec-4248-c4ca-cb57fa8eb256"
      },
      "execution_count": 7,
      "outputs": [
        {
          "output_type": "stream",
          "name": "stderr",
          "text": [
            "/usr/local/lib/python3.10/dist-packages/recipes/cad_icassp_2024/baseline/enhance.py:182: UserWarning: \n",
            "The version_base parameter is not specified.\n",
            "Please specify a compatability version level, or None.\n",
            "Will assume defaults for version 1.1\n",
            "  @hydra.main(config_path=\"\", config_name=\"config\")\n"
          ]
        }
      ]
    },
    {
      "cell_type": "markdown",
      "source": [
        "Import the correct config file (hardcoded location)"
      ],
      "metadata": {
        "id": "HInm_0fO6bIl"
      }
    },
    {
      "cell_type": "code",
      "source": [
        "from omegaconf import OmegaConf\n",
        "config = OmegaConf.load('baseline/config.yaml')\n",
        "print(config.separator.model)"
      ],
      "metadata": {
        "colab": {
          "base_uri": "https://localhost:8080/"
        },
        "id": "QraRFr8K5VyB",
        "outputId": "8aae20c4-4592-4db7-ec2b-66744c7c736d"
      },
      "execution_count": 8,
      "outputs": [
        {
          "output_type": "stream",
          "name": "stdout",
          "text": [
            "demucs\n"
          ]
        }
      ]
    },
    {
      "cell_type": "markdown",
      "source": [
        "Set input directory"
      ],
      "metadata": {
        "id": "8YfLt5Py4whx"
      }
    },
    {
      "cell_type": "code",
      "source": [
        "reference_folder = Path(\"ref_signals_100\")\n",
        "enhanced_mix_folder = Path(\"enhanced_signals_openunmix_100\")"
      ],
      "metadata": {
        "id": "ltHsRuxw4zm4"
      },
      "execution_count": 9,
      "outputs": []
    },
    {
      "cell_type": "markdown",
      "source": [
        "# load the audio files in provided path"
      ],
      "metadata": {
        "id": "DhjLl27kX1sh"
      }
    },
    {
      "cell_type": "code",
      "source": [
        "enhanced_files = [] # initialize list of enhanced audio files\n",
        "reference_files = [] # initialize list of reference files\n",
        "for file in os.listdir(enhanced_mix_folder): # iterate over all files in the directory\n",
        "    if file.endswith('.flac'): # if the file is an audio file\n",
        "        enhanced_files.append(os.path.join(enhanced_mix_folder, file)) # add the file to the list of audio files\n",
        "        reference_files.append(os.path.join(reference_folder, file.replace('.flac','_ref.flac'))) # add the corresponding ref file to the list of ref files"
      ],
      "metadata": {
        "id": "b88PqfFTX91N"
      },
      "execution_count": 10,
      "outputs": []
    },
    {
      "cell_type": "code",
      "source": [
        "print(enhanced_files[0])\n",
        "print(reference_files[0])\n",
        "print(len(enhanced_files))"
      ],
      "metadata": {
        "colab": {
          "base_uri": "https://localhost:8080/"
        },
        "id": "GIVRccYDZvDU",
        "outputId": "0ef53ac0-4f16-4199-97cc-e1d7a57fbc3a"
      },
      "execution_count": 11,
      "outputs": [
        {
          "output_type": "stream",
          "name": "stdout",
          "text": [
            "enhanced_signals_openunmix_100/scene_10001_L0057_remix.flac\n",
            "ref_signals_100/scene_10001_L0057_remix_ref.flac\n",
            "100\n"
          ]
        }
      ]
    },
    {
      "cell_type": "markdown",
      "source": [
        "Load listener data"
      ],
      "metadata": {
        "id": "1byRhXrc5nmJ"
      }
    },
    {
      "cell_type": "code",
      "source": [
        "config.path.root = '/content/drive/MyDrive/Cadenza_Challenge/cad_icassp_2024'\n"
      ],
      "metadata": {
        "id": "CcE-6z8e6cdL"
      },
      "execution_count": 12,
      "outputs": []
    },
    {
      "cell_type": "code",
      "source": [
        "# Load listener audiograms and songs\n",
        "listener_dict = Listener.load_listener_dict(config.path.listeners_file)\n",
        "\n",
        "with Path(config.path.gains_file).open(\"r\", encoding=\"utf-8\") as file:\n",
        "    gains = json.load(file)\n",
        "\n",
        "with Path(config.path.scenes_file).open(\"r\", encoding=\"utf-8\") as file:\n",
        "    scenes = json.load(file)\n",
        "\n",
        "with Path(config.path.scene_listeners_file).open(\"r\", encoding=\"utf-8\") as file:\n",
        "    scenes_listeners = json.load(file)\n",
        "\n",
        "with Path(config.path.music_file).open(\"r\", encoding=\"utf-8\") as file:\n",
        "    songs = json.load(file)"
      ],
      "metadata": {
        "id": "W00FlI6A5pnr"
      },
      "execution_count": 13,
      "outputs": []
    },
    {
      "cell_type": "code",
      "source": [
        "#print(songs)"
      ],
      "metadata": {
        "id": "G_ZMrGsTi04M"
      },
      "execution_count": null,
      "outputs": []
    },
    {
      "cell_type": "markdown",
      "source": [
        "Create a list of songs, listeners (audiogram) and head position (hrtf) to generate, or evaluate the mix - based on provided data"
      ],
      "metadata": {
        "id": "UwQqYlq88GQc"
      }
    },
    {
      "cell_type": "code",
      "source": [
        "# Select a batch to process\n",
        "scene_listener_pairs = make_scene_listener_list(\n",
        "    scenes_listeners, config.evaluate.small_test\n",
        ")\n",
        "\n",
        "scene_listener_pairs = scene_listener_pairs[\n",
        "    config.evaluate.batch :: config.evaluate.batch_size\n",
        "]"
      ],
      "metadata": {
        "id": "QSgNSyzC8U5e"
      },
      "execution_count": 14,
      "outputs": []
    },
    {
      "cell_type": "code",
      "source": [
        "print(scene_listener_pairs[0])"
      ],
      "metadata": {
        "colab": {
          "base_uri": "https://localhost:8080/"
        },
        "id": "QW8ZQ0fE88nr",
        "outputId": "8f5169bd-97b3-4b5a-b800-ea2d00c9309b"
      },
      "execution_count": 15,
      "outputs": [
        {
          "output_type": "stream",
          "name": "stdout",
          "text": [
            "('scene_10001', 'L0066')\n"
          ]
        }
      ]
    },
    {
      "cell_type": "markdown",
      "source": [
        "# Load functions required for audio evaluation"
      ],
      "metadata": {
        "id": "3WKvkZkSLmgs"
      }
    },
    {
      "cell_type": "markdown",
      "source": [
        "Add functions and variables needed for evaluation and scoring"
      ],
      "metadata": {
        "id": "QUy_emiYOI5l"
      }
    },
    {
      "cell_type": "code",
      "source": [
        "scores_headers = [\n",
        "    \"scene\",\n",
        "    \"song\",\n",
        "    \"listener\",\n",
        "    \"left_score\",\n",
        "    \"right_score\",\n",
        "    \"score\",\n",
        "]\n",
        "\n",
        "\n",
        "results_file = ResultsFile(\n",
        "            \"scores_openunmix_SDR.csv\",\n",
        "            header_columns=scores_headers,\n",
        ")"
      ],
      "metadata": {
        "id": "sE2o-dKAOP8q"
      },
      "execution_count": 16,
      "outputs": []
    },
    {
      "cell_type": "markdown",
      "source": [
        "# Process Audio - Currently set to process a fixed number of runs (listener - scene pairings, can be changed to run entire dataset)"
      ],
      "metadata": {
        "id": "GU9VumyD93Rc"
      }
    },
    {
      "cell_type": "code",
      "source": [
        "#!pip install mir_eval\n",
        "!pip install museval\n",
        "from museval import evaluate\n"
      ],
      "metadata": {
        "colab": {
          "base_uri": "https://localhost:8080/"
        },
        "collapsed": true,
        "id": "Fw56VEr67069",
        "outputId": "3925d112-793c-442b-c8c3-1695904cbf42"
      },
      "execution_count": 17,
      "outputs": [
        {
          "output_type": "stream",
          "name": "stdout",
          "text": [
            "Collecting museval\n",
            "  Downloading museval-0.4.1-py2.py3-none-any.whl (20 kB)\n",
            "Collecting musdb>=0.4.0 (from museval)\n",
            "  Downloading musdb-0.4.2-py2.py3-none-any.whl (13 kB)\n",
            "Requirement already satisfied: pandas>=1.0.1 in /usr/local/lib/python3.10/dist-packages (from museval) (1.5.3)\n",
            "Requirement already satisfied: numpy in /usr/local/lib/python3.10/dist-packages (from museval) (1.23.5)\n",
            "Requirement already satisfied: scipy in /usr/local/lib/python3.10/dist-packages (from museval) (1.11.4)\n",
            "Collecting simplejson>=3.19.0 (from museval)\n",
            "  Downloading simplejson-3.19.2-cp310-cp310-manylinux_2_5_x86_64.manylinux1_x86_64.manylinux_2_17_x86_64.manylinux2014_x86_64.whl (137 kB)\n",
            "\u001b[2K     \u001b[90m━━━━━━━━━━━━━━━━━━━━━━━━━━━━━━━━━━━━━━━━\u001b[0m \u001b[32m137.9/137.9 kB\u001b[0m \u001b[31m1.8 MB/s\u001b[0m eta \u001b[36m0:00:00\u001b[0m\n",
            "\u001b[?25hRequirement already satisfied: soundfile in /usr/local/lib/python3.10/dist-packages (from museval) (0.12.1)\n",
            "Requirement already satisfied: jsonschema in /usr/local/lib/python3.10/dist-packages (from museval) (4.19.2)\n",
            "Collecting stempeg>=0.2.3 (from musdb>=0.4.0->museval)\n",
            "  Downloading stempeg-0.2.3-py3-none-any.whl (963 kB)\n",
            "\u001b[2K     \u001b[90m━━━━━━━━━━━━━━━━━━━━━━━━━━━━━━━━━━━━━━━━\u001b[0m \u001b[32m963.5/963.5 kB\u001b[0m \u001b[31m10.3 MB/s\u001b[0m eta \u001b[36m0:00:00\u001b[0m\n",
            "\u001b[?25hCollecting pyaml (from musdb>=0.4.0->museval)\n",
            "  Downloading pyaml-23.9.7-py3-none-any.whl (23 kB)\n",
            "Requirement already satisfied: tqdm in /usr/local/lib/python3.10/dist-packages (from musdb>=0.4.0->museval) (4.66.1)\n",
            "Requirement already satisfied: python-dateutil>=2.8.1 in /usr/local/lib/python3.10/dist-packages (from pandas>=1.0.1->museval) (2.8.2)\n",
            "Requirement already satisfied: pytz>=2020.1 in /usr/local/lib/python3.10/dist-packages (from pandas>=1.0.1->museval) (2023.3.post1)\n",
            "Requirement already satisfied: attrs>=22.2.0 in /usr/local/lib/python3.10/dist-packages (from jsonschema->museval) (23.1.0)\n",
            "Requirement already satisfied: jsonschema-specifications>=2023.03.6 in /usr/local/lib/python3.10/dist-packages (from jsonschema->museval) (2023.11.1)\n",
            "Requirement already satisfied: referencing>=0.28.4 in /usr/local/lib/python3.10/dist-packages (from jsonschema->museval) (0.31.1)\n",
            "Requirement already satisfied: rpds-py>=0.7.1 in /usr/local/lib/python3.10/dist-packages (from jsonschema->museval) (0.13.2)\n",
            "Requirement already satisfied: cffi>=1.0 in /usr/local/lib/python3.10/dist-packages (from soundfile->museval) (1.16.0)\n",
            "Requirement already satisfied: pycparser in /usr/local/lib/python3.10/dist-packages (from cffi>=1.0->soundfile->museval) (2.21)\n",
            "Requirement already satisfied: six>=1.5 in /usr/local/lib/python3.10/dist-packages (from python-dateutil>=2.8.1->pandas>=1.0.1->museval) (1.16.0)\n",
            "Collecting ffmpeg-python>=0.2.0 (from stempeg>=0.2.3->musdb>=0.4.0->museval)\n",
            "  Downloading ffmpeg_python-0.2.0-py3-none-any.whl (25 kB)\n",
            "Requirement already satisfied: PyYAML in /usr/local/lib/python3.10/dist-packages (from pyaml->musdb>=0.4.0->museval) (6.0.1)\n",
            "Requirement already satisfied: future in /usr/local/lib/python3.10/dist-packages (from ffmpeg-python>=0.2.0->stempeg>=0.2.3->musdb>=0.4.0->museval) (0.18.3)\n",
            "Installing collected packages: simplejson, pyaml, ffmpeg-python, stempeg, musdb, museval\n",
            "Successfully installed ffmpeg-python-0.2.0 musdb-0.4.2 museval-0.4.1 pyaml-23.9.7 simplejson-3.19.2 stempeg-0.2.3\n"
          ]
        }
      ]
    },
    {
      "cell_type": "markdown",
      "source": [
        "# Implementing classic SDR eval"
      ],
      "metadata": {
        "id": "sawi1uayPa0e"
      }
    },
    {
      "cell_type": "code",
      "source": [
        "previous_song = \"\"\n",
        "num_tracks = len(enhanced_files)\n",
        "\n",
        "for idx in range(100):\n",
        "    # Extract track, listener, scene info from file name\n",
        "    file_name = enhanced_files[idx]\n",
        "    sname = file_name.split(\"/\", 1)[1].split(\"_L\",1)[0]\n",
        "    lname = \"L\" +  file_name.split(\"/\", 1)[1].split(\"_L\",1)[1].split(\"_\")[0]\n",
        "\n",
        "    # Get the listener's audiogram\n",
        "    listener = listener_dict[lname]\n",
        "    scene = scenes[sname]\n",
        "    song_name = f\"{scene['music']}-{scene['head_loudspeaker_positions']}\"\n",
        "\n",
        "    print(sname)\n",
        "    print(lname)\n",
        "\n",
        "    # load audio files for HAAQI\n",
        "    reference_mixture = read_signal(\n",
        "            filename=reference_files[idx],\n",
        "            sample_rate=config.sample_rate,\n",
        "            allow_resample=True,\n",
        "        )\n",
        "\n",
        "    enhanced_mixture = read_signal(\n",
        "            filename=enhanced_files[idx],\n",
        "            sample_rate=config.sample_rate,\n",
        "            allow_resample=True,\n",
        "        )\n",
        "\n",
        "    # Evaluate - compare with the generated mixes\n",
        "    # Compute the scores\n",
        "    if np.argmax([max(np.shape(reference_mixture)), max(np.shape(enhanced_mixture))]):\n",
        "        enhanced_mixture = enhanced_mixture[:max(np.shape(reference_mixture)), :]\n",
        "    else:\n",
        "        reference_mixture = reference_mixture[:max(np.shape(enhanced_mixture)), :]\n",
        "\n",
        "    bss_score = evaluate(np.swapaxes(reference_mixture, 0, 1), np.swapaxes(enhanced_mixture,0,1))\n",
        "    left_score = bss_score[0][0,:].mean() # SDR\n",
        "    right_score = bss_score[0][1,:].mean() # SDR\n",
        "    #score = np.mean([left_score, right_score])\n",
        "    print(np.mean([left_score, right_score]))\n",
        "\n",
        "        # Save scores\n",
        "    results_file.add_result(\n",
        "        {\n",
        "            \"scene\": sname,\n",
        "            \"song\": song_name,\n",
        "            \"listener\": listener.id,\n",
        "            \"left_score\": left_score,\n",
        "            \"right_score\": right_score,\n",
        "            \"score\": float(np.mean([left_score, right_score])),\n",
        "        }\n",
        "    )\n"
      ],
      "metadata": {
        "colab": {
          "base_uri": "https://localhost:8080/",
          "height": 1000
        },
        "id": "lqulZ1OilItP",
        "outputId": "fa702e5f-aeb2-4b6b-cb57-60b7505daae1"
      },
      "execution_count": 18,
      "outputs": [
        {
          "output_type": "stream",
          "name": "stdout",
          "text": [
            "scene_10001\n",
            "L0057\n",
            "-8.781786418997267\n",
            "scene_10002\n",
            "L0099\n",
            "-13.476547769404306\n",
            "scene_10002\n",
            "L0051\n",
            "-13.442104810118227\n",
            "scene_10003\n",
            "L0053\n",
            "-10.959212562028195\n",
            "scene_10003\n",
            "L0010\n",
            "-14.453750010024157\n",
            "scene_10004\n",
            "L0032\n",
            "-13.018686549203432\n",
            "scene_10004\n",
            "L0078\n",
            "-10.498767637341524\n",
            "scene_10005\n",
            "L0022\n",
            "-9.869257978587047\n",
            "scene_10005\n",
            "L0047\n",
            "-11.725056479611432\n",
            "scene_10006\n",
            "L0003\n",
            "-11.75925775543736\n",
            "scene_10006\n",
            "L0095\n",
            "-14.64354596398966\n",
            "scene_10007\n",
            "L0074\n",
            "-9.665099041512542\n",
            "scene_10007\n",
            "L0056\n",
            "-12.954331079737642\n",
            "scene_10008\n",
            "L0061\n",
            "-8.155722299229797\n",
            "scene_10008\n",
            "L0076\n",
            "-12.088219841378596\n",
            "scene_10009\n",
            "L0072\n",
            "-15.050392285773542\n",
            "scene_10009\n",
            "L0099\n",
            "-15.302060552989655\n",
            "scene_10010\n",
            "L0027\n",
            "-14.575883994601122\n",
            "scene_10010\n",
            "L0072\n",
            "-15.253886182606749\n",
            "scene_10011\n",
            "L0012\n",
            "-14.533424483230647\n",
            "scene_10011\n",
            "L0024\n",
            "-13.059745749381772\n",
            "scene_10012\n",
            "L0093\n",
            "-10.576109918142791\n",
            "scene_10012\n",
            "L0041\n",
            "-13.706690138447057\n",
            "scene_10013\n",
            "L0002\n",
            "nan\n",
            "scene_10013\n",
            "L0008\n",
            "nan\n",
            "scene_10014\n",
            "L0072\n",
            "nan\n",
            "scene_10014\n",
            "L0100\n",
            "nan\n",
            "scene_10015\n",
            "L0094\n",
            "nan\n",
            "scene_10015\n",
            "L0017\n",
            "nan\n",
            "scene_10016\n",
            "L0049\n",
            "nan\n",
            "scene_10016\n",
            "L0042\n",
            "nan\n",
            "scene_10017\n",
            "L0039\n",
            "nan\n",
            "scene_10017\n",
            "L0054\n",
            "nan\n",
            "scene_10018\n",
            "L0068\n",
            "nan\n",
            "scene_10018\n",
            "L0093\n",
            "nan\n",
            "scene_10019\n",
            "L0058\n",
            "nan\n",
            "scene_10019\n",
            "L0027\n",
            "nan\n",
            "scene_10020\n",
            "L0089\n",
            "nan\n",
            "scene_10020\n",
            "L0011\n",
            "nan\n",
            "scene_10021\n",
            "L0085\n",
            "nan\n",
            "scene_10021\n",
            "L0074\n",
            "nan\n",
            "scene_10022\n",
            "L0010\n",
            "nan\n",
            "scene_10022\n",
            "L0093\n",
            "nan\n",
            "scene_10023\n",
            "L0074\n",
            "nan\n",
            "scene_10023\n",
            "L0051\n",
            "nan\n",
            "scene_10024\n",
            "L0039\n",
            "nan\n",
            "scene_10024\n",
            "L0010\n",
            "nan\n",
            "scene_10025\n",
            "L0091\n",
            "-5.940180961223872\n",
            "scene_10025\n",
            "L0026\n",
            "-17.82036338280706\n",
            "scene_10026\n",
            "L0009\n",
            "-14.08659396255394\n",
            "scene_10026\n",
            "L0054\n",
            "-15.018321608941235\n",
            "scene_10027\n",
            "L0083\n",
            "-11.619465478394543\n",
            "scene_10027\n",
            "L0090\n",
            "-12.655637642119766\n",
            "scene_10028\n",
            "L0098\n",
            "-14.65959667281819\n",
            "scene_10028\n",
            "L0088\n",
            "-7.006316145512174\n",
            "scene_10029\n",
            "L0056\n",
            "nan\n",
            "scene_10029\n",
            "L0095\n",
            "nan\n",
            "scene_10030\n",
            "L0051\n",
            "nan\n",
            "scene_10030\n",
            "L0089\n",
            "nan\n",
            "scene_10031\n",
            "L0084\n",
            "nan\n",
            "scene_10031\n",
            "L0073\n",
            "nan\n",
            "scene_10032\n",
            "L0029\n",
            "nan\n",
            "scene_10032\n",
            "L0034\n",
            "nan\n",
            "scene_10033\n",
            "L0005\n",
            "-13.894438385554094\n",
            "scene_10033\n",
            "L0083\n",
            "-12.883106994129466\n",
            "scene_10034\n",
            "L0003\n",
            "-12.732478395513503\n",
            "scene_10034\n",
            "L0088\n",
            "-7.54462124334281\n",
            "scene_10035\n",
            "L0093\n",
            "-9.934719387181609\n",
            "scene_10035\n",
            "L0059\n",
            "-9.845048038349166\n",
            "scene_10036\n",
            "L0067\n",
            "-11.345654251141315\n",
            "scene_10036\n",
            "L0027\n",
            "-11.310887230181525\n",
            "scene_10037\n",
            "L0042\n",
            "-10.16541704931199\n",
            "scene_10037\n",
            "L0058\n",
            "-10.170648190981964\n",
            "scene_10038\n",
            "L0074\n",
            "-11.11075044738984\n",
            "scene_10038\n",
            "L0070\n",
            "-12.596975152810433\n",
            "scene_10039\n",
            "L0041\n",
            "-10.259674847144295\n",
            "scene_10039\n",
            "L0026\n",
            "-11.994821046783798\n",
            "scene_10040\n",
            "L0004\n",
            "-11.074802048032183\n",
            "scene_10040\n",
            "L0034\n",
            "-14.620022304071398\n",
            "scene_10041\n",
            "L0063\n",
            "nan\n",
            "scene_10041\n",
            "L0067\n",
            "nan\n",
            "scene_10042\n",
            "L0057\n",
            "nan\n",
            "scene_10042\n",
            "L0086\n",
            "nan\n",
            "scene_10043\n",
            "L0004\n",
            "nan\n",
            "scene_10043\n",
            "L0003\n",
            "nan\n",
            "scene_10044\n",
            "L0044\n",
            "nan\n",
            "scene_10044\n",
            "L0086\n",
            "nan\n",
            "scene_10045\n",
            "L0017\n",
            "nan\n",
            "scene_10045\n",
            "L0081\n",
            "nan\n",
            "scene_10046\n",
            "L0070\n",
            "nan\n",
            "scene_10046\n",
            "L0009\n",
            "nan\n",
            "scene_10047\n",
            "L0059\n",
            "nan\n",
            "scene_10047\n",
            "L0031\n",
            "nan\n",
            "scene_10048\n",
            "L0098\n",
            "nan\n",
            "scene_10048\n",
            "L0038\n",
            "nan\n",
            "scene_10049\n",
            "L0047\n",
            "-12.703301307472742\n",
            "scene_10049\n",
            "L0070\n",
            "-14.521834483065295\n",
            "scene_10050\n",
            "L0094\n",
            "-8.968096250083892\n",
            "scene_10050\n",
            "L0061\n",
            "-6.753930467411406\n",
            "scene_10051\n",
            "L0067\n"
          ]
        },
        {
          "output_type": "error",
          "ename": "LibsndfileError",
          "evalue": "ignored",
          "traceback": [
            "\u001b[0;31m---------------------------------------------------------------------------\u001b[0m",
            "\u001b[0;31mLibsndfileError\u001b[0m                           Traceback (most recent call last)",
            "\u001b[0;32m<ipython-input-18-1b7882265a3f>\u001b[0m in \u001b[0;36m<cell line: 4>\u001b[0;34m()\u001b[0m\n\u001b[1;32m     17\u001b[0m \u001b[0;34m\u001b[0m\u001b[0m\n\u001b[1;32m     18\u001b[0m     \u001b[0;31m# load audio files for HAAQI\u001b[0m\u001b[0;34m\u001b[0m\u001b[0;34m\u001b[0m\u001b[0m\n\u001b[0;32m---> 19\u001b[0;31m     reference_mixture = read_signal(\n\u001b[0m\u001b[1;32m     20\u001b[0m             \u001b[0mfilename\u001b[0m\u001b[0;34m=\u001b[0m\u001b[0mreference_files\u001b[0m\u001b[0;34m[\u001b[0m\u001b[0midx\u001b[0m\u001b[0;34m]\u001b[0m\u001b[0;34m,\u001b[0m\u001b[0;34m\u001b[0m\u001b[0;34m\u001b[0m\u001b[0m\n\u001b[1;32m     21\u001b[0m             \u001b[0msample_rate\u001b[0m\u001b[0;34m=\u001b[0m\u001b[0mconfig\u001b[0m\u001b[0;34m.\u001b[0m\u001b[0msample_rate\u001b[0m\u001b[0;34m,\u001b[0m\u001b[0;34m\u001b[0m\u001b[0;34m\u001b[0m\u001b[0m\n",
            "\u001b[0;32m/usr/local/lib/python3.10/dist-packages/clarity/utils/file_io.py\u001b[0m in \u001b[0;36mread_signal\u001b[0;34m(filename, sample_rate, offset, n_samples, n_channels, offset_is_samples, allow_resample)\u001b[0m\n\u001b[1;32m    135\u001b[0m     \"\"\"\n\u001b[1;32m    136\u001b[0m \u001b[0;34m\u001b[0m\u001b[0m\n\u001b[0;32m--> 137\u001b[0;31m     \u001b[0mwave_file\u001b[0m \u001b[0;34m=\u001b[0m \u001b[0mSoundFile\u001b[0m\u001b[0;34m(\u001b[0m\u001b[0mfilename\u001b[0m\u001b[0;34m)\u001b[0m\u001b[0;34m\u001b[0m\u001b[0;34m\u001b[0m\u001b[0m\n\u001b[0m\u001b[1;32m    138\u001b[0m \u001b[0;34m\u001b[0m\u001b[0m\n\u001b[1;32m    139\u001b[0m     \u001b[0;32mif\u001b[0m \u001b[0mn_channels\u001b[0m \u001b[0;32mnot\u001b[0m \u001b[0;32min\u001b[0m \u001b[0;34m(\u001b[0m\u001b[0;36m0\u001b[0m\u001b[0;34m,\u001b[0m \u001b[0mwave_file\u001b[0m\u001b[0;34m.\u001b[0m\u001b[0mchannels\u001b[0m\u001b[0;34m)\u001b[0m\u001b[0;34m:\u001b[0m\u001b[0;34m\u001b[0m\u001b[0;34m\u001b[0m\u001b[0m\n",
            "\u001b[0;32m/usr/local/lib/python3.10/dist-packages/soundfile.py\u001b[0m in \u001b[0;36m__init__\u001b[0;34m(self, file, mode, samplerate, channels, subtype, endian, format, closefd)\u001b[0m\n\u001b[1;32m    656\u001b[0m         self._info = _create_info_struct(file, mode, samplerate, channels,\n\u001b[1;32m    657\u001b[0m                                          format, subtype, endian)\n\u001b[0;32m--> 658\u001b[0;31m         \u001b[0mself\u001b[0m\u001b[0;34m.\u001b[0m\u001b[0m_file\u001b[0m \u001b[0;34m=\u001b[0m \u001b[0mself\u001b[0m\u001b[0;34m.\u001b[0m\u001b[0m_open\u001b[0m\u001b[0;34m(\u001b[0m\u001b[0mfile\u001b[0m\u001b[0;34m,\u001b[0m \u001b[0mmode_int\u001b[0m\u001b[0;34m,\u001b[0m \u001b[0mclosefd\u001b[0m\u001b[0;34m)\u001b[0m\u001b[0;34m\u001b[0m\u001b[0;34m\u001b[0m\u001b[0m\n\u001b[0m\u001b[1;32m    659\u001b[0m         \u001b[0;32mif\u001b[0m \u001b[0mset\u001b[0m\u001b[0;34m(\u001b[0m\u001b[0mmode\u001b[0m\u001b[0;34m)\u001b[0m\u001b[0;34m.\u001b[0m\u001b[0missuperset\u001b[0m\u001b[0;34m(\u001b[0m\u001b[0;34m'r+'\u001b[0m\u001b[0;34m)\u001b[0m \u001b[0;32mand\u001b[0m \u001b[0mself\u001b[0m\u001b[0;34m.\u001b[0m\u001b[0mseekable\u001b[0m\u001b[0;34m(\u001b[0m\u001b[0;34m)\u001b[0m\u001b[0;34m:\u001b[0m\u001b[0;34m\u001b[0m\u001b[0;34m\u001b[0m\u001b[0m\n\u001b[1;32m    660\u001b[0m             \u001b[0;31m# Move write position to 0 (like in Python file objects)\u001b[0m\u001b[0;34m\u001b[0m\u001b[0;34m\u001b[0m\u001b[0m\n",
            "\u001b[0;32m/usr/local/lib/python3.10/dist-packages/soundfile.py\u001b[0m in \u001b[0;36m_open\u001b[0;34m(self, file, mode_int, closefd)\u001b[0m\n\u001b[1;32m   1214\u001b[0m             \u001b[0;31m# get the actual error code\u001b[0m\u001b[0;34m\u001b[0m\u001b[0;34m\u001b[0m\u001b[0m\n\u001b[1;32m   1215\u001b[0m             \u001b[0merr\u001b[0m \u001b[0;34m=\u001b[0m \u001b[0m_snd\u001b[0m\u001b[0;34m.\u001b[0m\u001b[0msf_error\u001b[0m\u001b[0;34m(\u001b[0m\u001b[0mfile_ptr\u001b[0m\u001b[0;34m)\u001b[0m\u001b[0;34m\u001b[0m\u001b[0;34m\u001b[0m\u001b[0m\n\u001b[0;32m-> 1216\u001b[0;31m             \u001b[0;32mraise\u001b[0m \u001b[0mLibsndfileError\u001b[0m\u001b[0;34m(\u001b[0m\u001b[0merr\u001b[0m\u001b[0;34m,\u001b[0m \u001b[0mprefix\u001b[0m\u001b[0;34m=\u001b[0m\u001b[0;34m\"Error opening {0!r}: \"\u001b[0m\u001b[0;34m.\u001b[0m\u001b[0mformat\u001b[0m\u001b[0;34m(\u001b[0m\u001b[0mself\u001b[0m\u001b[0;34m.\u001b[0m\u001b[0mname\u001b[0m\u001b[0;34m)\u001b[0m\u001b[0;34m)\u001b[0m\u001b[0;34m\u001b[0m\u001b[0;34m\u001b[0m\u001b[0m\n\u001b[0m\u001b[1;32m   1217\u001b[0m         \u001b[0;32mif\u001b[0m \u001b[0mmode_int\u001b[0m \u001b[0;34m==\u001b[0m \u001b[0m_snd\u001b[0m\u001b[0;34m.\u001b[0m\u001b[0mSFM_WRITE\u001b[0m\u001b[0;34m:\u001b[0m\u001b[0;34m\u001b[0m\u001b[0;34m\u001b[0m\u001b[0m\n\u001b[1;32m   1218\u001b[0m             \u001b[0;31m# Due to a bug in libsndfile version <= 1.0.25, frames != 0\u001b[0m\u001b[0;34m\u001b[0m\u001b[0;34m\u001b[0m\u001b[0m\n",
            "\u001b[0;31mLibsndfileError\u001b[0m: Error opening 'ref_signals_100/scene_10051_L0067_remix_ref.flac': System error."
          ]
        }
      ]
    },
    {
      "cell_type": "code",
      "source": [
        "score = np.mean([left_score, right_score])"
      ],
      "metadata": {
        "id": "p0M0INPtMFON"
      },
      "execution_count": 41,
      "outputs": []
    },
    {
      "cell_type": "code",
      "source": [
        "len(reference_mixture)"
      ],
      "metadata": {
        "colab": {
          "base_uri": "https://localhost:8080/"
        },
        "id": "x2T-GGUj9ahS",
        "outputId": "3b512e9b-a127-4a56-8a8c-f18074974482"
      },
      "execution_count": 19,
      "outputs": [
        {
          "output_type": "execute_result",
          "data": {
            "text/plain": [
              "7560512"
            ]
          },
          "metadata": {},
          "execution_count": 19
        }
      ]
    }
  ],
  "metadata": {
    "colab": {
      "provenance": [],
      "include_colab_link": true
    },
    "kernelspec": {
      "display_name": "Python 3",
      "name": "python3"
    },
    "language_info": {
      "name": "python"
    },
    "accelerator": "TPU"
  },
  "nbformat": 4,
  "nbformat_minor": 0
}